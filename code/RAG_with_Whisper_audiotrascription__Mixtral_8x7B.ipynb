{
  "cells": [
    {
      "cell_type": "markdown",
      "metadata": {
        "id": "56jUIjtnfClE"
      },
      "source": [
        "# Mixtral-8x7B-Instruct-v0.1 + Haystack: build RAG pipelines🤘\n",
        "\n",
        "###  Retrieval Augmented Generation pipeline , using the new powerful [Mixtral-8x7B-Instruct-v0.1](https://huggingface.co/blog/mixtral/) and [Haystack](https://github.com/deepset-ai/haystack) LLM orchestration framework.\n",
        "\n",
        "\n",
        "\n",
        "<img src=\"https://codeandhack.com/wp-content/uploads/2023/12/Mixtral-8x7B-SMoE-Model.jpeg\" width=\"270\" style=\"display:inline;\">&nbsp;&nbsp;&nbsp;&nbsp;&nbsp;&nbsp;<img src=\"https://haystack.deepset.ai/images/haystack-ogimage.png\" width=\"360\" style=\"display:inline;\">"
      ]
    },
    {
      "cell_type": "code",
      "execution_count": null,
      "metadata": {
        "id": "elvzyj3L1dcV",
        "colab": {
          "base_uri": "https://localhost:8080/",
          "height": 1000
        },
        "outputId": "022015ac-6e08-4a65-ad8e-cd0b543b30fb"
      },
      "outputs": [
        {
          "output_type": "stream",
          "name": "stdout",
          "text": [
            "Collecting farm-haystack[colab]\n",
            "  Downloading farm_haystack-1.23.0-py3-none-any.whl (764 kB)\n",
            "\u001b[2K     \u001b[90m━━━━━━━━━━━━━━━━━━━━━━━━━━━━━━━━━━━━━━━━\u001b[0m \u001b[32m764.4/764.4 kB\u001b[0m \u001b[31m5.1 MB/s\u001b[0m eta \u001b[36m0:00:00\u001b[0m\n",
            "\u001b[?25hCollecting boilerpy3 (from farm-haystack[colab])\n",
            "  Downloading boilerpy3-1.0.7-py3-none-any.whl (22 kB)\n",
            "Collecting events (from farm-haystack[colab])\n",
            "  Downloading Events-0.5-py3-none-any.whl (6.8 kB)\n",
            "Collecting httpx (from farm-haystack[colab])\n",
            "  Downloading httpx-0.26.0-py3-none-any.whl (75 kB)\n",
            "\u001b[2K     \u001b[90m━━━━━━━━━━━━━━━━━━━━━━━━━━━━━━━━━━━━━━━━\u001b[0m \u001b[32m75.9/75.9 kB\u001b[0m \u001b[31m6.0 MB/s\u001b[0m eta \u001b[36m0:00:00\u001b[0m\n",
            "\u001b[?25hRequirement already satisfied: jsonschema in /usr/local/lib/python3.10/dist-packages (from farm-haystack[colab]) (4.19.2)\n",
            "Collecting lazy-imports==0.3.1 (from farm-haystack[colab])\n",
            "  Downloading lazy_imports-0.3.1-py3-none-any.whl (12 kB)\n",
            "Requirement already satisfied: more-itertools in /usr/local/lib/python3.10/dist-packages (from farm-haystack[colab]) (10.1.0)\n",
            "Requirement already satisfied: networkx in /usr/local/lib/python3.10/dist-packages (from farm-haystack[colab]) (3.2.1)\n",
            "Requirement already satisfied: pandas in /usr/local/lib/python3.10/dist-packages (from farm-haystack[colab]) (1.5.3)\n",
            "Requirement already satisfied: pillow in /usr/local/lib/python3.10/dist-packages (from farm-haystack[colab]) (9.4.0)\n",
            "Requirement already satisfied: platformdirs in /usr/local/lib/python3.10/dist-packages (from farm-haystack[colab]) (4.1.0)\n",
            "Collecting posthog (from farm-haystack[colab])\n",
            "  Downloading posthog-3.1.0-py2.py3-none-any.whl (37 kB)\n",
            "Collecting prompthub-py==4.0.0 (from farm-haystack[colab])\n",
            "  Downloading prompthub_py-4.0.0-py3-none-any.whl (6.9 kB)\n",
            "Requirement already satisfied: pydantic<2 in /usr/local/lib/python3.10/dist-packages (from farm-haystack[colab]) (1.10.13)\n",
            "Collecting quantulum3 (from farm-haystack[colab])\n",
            "  Downloading quantulum3-0.9.0-py3-none-any.whl (10.7 MB)\n",
            "\u001b[2K     \u001b[90m━━━━━━━━━━━━━━━━━━━━━━━━━━━━━━━━━━━━━━━━\u001b[0m \u001b[32m10.7/10.7 MB\u001b[0m \u001b[31m20.5 MB/s\u001b[0m eta \u001b[36m0:00:00\u001b[0m\n",
            "\u001b[?25hCollecting rank-bm25 (from farm-haystack[colab])\n",
            "  Downloading rank_bm25-0.2.2-py3-none-any.whl (8.6 kB)\n",
            "Requirement already satisfied: requests in /usr/local/lib/python3.10/dist-packages (from farm-haystack[colab]) (2.31.0)\n",
            "Collecting requests-cache<1.0.0 (from farm-haystack[colab])\n",
            "  Downloading requests_cache-0.9.8-py3-none-any.whl (48 kB)\n",
            "\u001b[2K     \u001b[90m━━━━━━━━━━━━━━━━━━━━━━━━━━━━━━━━━━━━━━━━\u001b[0m \u001b[32m48.7/48.7 kB\u001b[0m \u001b[31m3.5 MB/s\u001b[0m eta \u001b[36m0:00:00\u001b[0m\n",
            "\u001b[?25hCollecting scikit-learn>=1.3.0 (from farm-haystack[colab])\n",
            "  Downloading scikit_learn-1.3.2-cp310-cp310-manylinux_2_17_x86_64.manylinux2014_x86_64.whl (10.8 MB)\n",
            "\u001b[2K     \u001b[90m━━━━━━━━━━━━━━━━━━━━━━━━━━━━━━━━━━━━━━━━\u001b[0m \u001b[32m10.8/10.8 MB\u001b[0m \u001b[31m25.8 MB/s\u001b[0m eta \u001b[36m0:00:00\u001b[0m\n",
            "\u001b[?25hCollecting sseclient-py (from farm-haystack[colab])\n",
            "  Downloading sseclient_py-1.8.0-py2.py3-none-any.whl (8.8 kB)\n",
            "Requirement already satisfied: tenacity in /usr/local/lib/python3.10/dist-packages (from farm-haystack[colab]) (8.2.3)\n",
            "Collecting tiktoken>=0.5.1 (from farm-haystack[colab])\n",
            "  Downloading tiktoken-0.5.2-cp310-cp310-manylinux_2_17_x86_64.manylinux2014_x86_64.whl (2.0 MB)\n",
            "\u001b[2K     \u001b[90m━━━━━━━━━━━━━━━━━━━━━━━━━━━━━━━━━━━━━━━━\u001b[0m \u001b[32m2.0/2.0 MB\u001b[0m \u001b[31m20.3 MB/s\u001b[0m eta \u001b[36m0:00:00\u001b[0m\n",
            "\u001b[?25hRequirement already satisfied: tqdm in /usr/local/lib/python3.10/dist-packages (from farm-haystack[colab]) (4.66.1)\n",
            "Requirement already satisfied: transformers==4.35.2 in /usr/local/lib/python3.10/dist-packages (from farm-haystack[colab]) (4.35.2)\n",
            "Collecting pillow (from farm-haystack[colab])\n",
            "  Downloading Pillow-9.0.0-cp310-cp310-manylinux_2_17_x86_64.manylinux2014_x86_64.whl (4.3 MB)\n",
            "\u001b[2K     \u001b[90m━━━━━━━━━━━━━━━━━━━━━━━━━━━━━━━━━━━━━━━━\u001b[0m \u001b[32m4.3/4.3 MB\u001b[0m \u001b[31m43.9 MB/s\u001b[0m eta \u001b[36m0:00:00\u001b[0m\n",
            "\u001b[?25hRequirement already satisfied: pyyaml<7.0,>=6.0 in /usr/local/lib/python3.10/dist-packages (from prompthub-py==4.0.0->farm-haystack[colab]) (6.0.1)\n",
            "Requirement already satisfied: filelock in /usr/local/lib/python3.10/dist-packages (from transformers==4.35.2->farm-haystack[colab]) (3.13.1)\n",
            "Requirement already satisfied: huggingface-hub<1.0,>=0.16.4 in /usr/local/lib/python3.10/dist-packages (from transformers==4.35.2->farm-haystack[colab]) (0.20.1)\n",
            "Requirement already satisfied: numpy>=1.17 in /usr/local/lib/python3.10/dist-packages (from transformers==4.35.2->farm-haystack[colab]) (1.23.5)\n",
            "Requirement already satisfied: packaging>=20.0 in /usr/local/lib/python3.10/dist-packages (from transformers==4.35.2->farm-haystack[colab]) (23.2)\n",
            "Requirement already satisfied: regex!=2019.12.17 in /usr/local/lib/python3.10/dist-packages (from transformers==4.35.2->farm-haystack[colab]) (2023.6.3)\n",
            "Requirement already satisfied: tokenizers<0.19,>=0.14 in /usr/local/lib/python3.10/dist-packages (from transformers==4.35.2->farm-haystack[colab]) (0.15.0)\n",
            "Requirement already satisfied: safetensors>=0.3.1 in /usr/local/lib/python3.10/dist-packages (from transformers==4.35.2->farm-haystack[colab]) (0.4.1)\n",
            "Requirement already satisfied: typing-extensions>=4.2.0 in /usr/local/lib/python3.10/dist-packages (from pydantic<2->farm-haystack[colab]) (4.5.0)\n",
            "Requirement already satisfied: charset-normalizer<4,>=2 in /usr/local/lib/python3.10/dist-packages (from requests->farm-haystack[colab]) (3.3.2)\n",
            "Requirement already satisfied: idna<4,>=2.5 in /usr/local/lib/python3.10/dist-packages (from requests->farm-haystack[colab]) (3.6)\n",
            "Requirement already satisfied: urllib3<3,>=1.21.1 in /usr/local/lib/python3.10/dist-packages (from requests->farm-haystack[colab]) (2.0.7)\n",
            "Requirement already satisfied: certifi>=2017.4.17 in /usr/local/lib/python3.10/dist-packages (from requests->farm-haystack[colab]) (2023.11.17)\n",
            "Requirement already satisfied: appdirs>=1.4.4 in /usr/local/lib/python3.10/dist-packages (from requests-cache<1.0.0->farm-haystack[colab]) (1.4.4)\n",
            "Requirement already satisfied: attrs>=21.2 in /usr/local/lib/python3.10/dist-packages (from requests-cache<1.0.0->farm-haystack[colab]) (23.1.0)\n",
            "Collecting cattrs>=22.2 (from requests-cache<1.0.0->farm-haystack[colab])\n",
            "  Downloading cattrs-23.2.3-py3-none-any.whl (57 kB)\n",
            "\u001b[2K     \u001b[90m━━━━━━━━━━━━━━━━━━━━━━━━━━━━━━━━━━━━━━━━\u001b[0m \u001b[32m57.5/57.5 kB\u001b[0m \u001b[31m4.6 MB/s\u001b[0m eta \u001b[36m0:00:00\u001b[0m\n",
            "\u001b[?25hCollecting url-normalize>=1.4 (from requests-cache<1.0.0->farm-haystack[colab])\n",
            "  Downloading url_normalize-1.4.3-py2.py3-none-any.whl (6.8 kB)\n",
            "Requirement already satisfied: scipy>=1.5.0 in /usr/local/lib/python3.10/dist-packages (from scikit-learn>=1.3.0->farm-haystack[colab]) (1.11.4)\n",
            "Requirement already satisfied: joblib>=1.1.1 in /usr/local/lib/python3.10/dist-packages (from scikit-learn>=1.3.0->farm-haystack[colab]) (1.3.2)\n",
            "Requirement already satisfied: threadpoolctl>=2.0.0 in /usr/local/lib/python3.10/dist-packages (from scikit-learn>=1.3.0->farm-haystack[colab]) (3.2.0)\n",
            "Requirement already satisfied: anyio in /usr/local/lib/python3.10/dist-packages (from httpx->farm-haystack[colab]) (3.7.1)\n",
            "Collecting httpcore==1.* (from httpx->farm-haystack[colab])\n",
            "  Downloading httpcore-1.0.2-py3-none-any.whl (76 kB)\n",
            "\u001b[2K     \u001b[90m━━━━━━━━━━━━━━━━━━━━━━━━━━━━━━━━━━━━━━━━\u001b[0m \u001b[32m76.9/76.9 kB\u001b[0m \u001b[31m4.9 MB/s\u001b[0m eta \u001b[36m0:00:00\u001b[0m\n",
            "\u001b[?25hRequirement already satisfied: sniffio in /usr/local/lib/python3.10/dist-packages (from httpx->farm-haystack[colab]) (1.3.0)\n",
            "Collecting h11<0.15,>=0.13 (from httpcore==1.*->httpx->farm-haystack[colab])\n",
            "  Downloading h11-0.14.0-py3-none-any.whl (58 kB)\n",
            "\u001b[2K     \u001b[90m━━━━━━━━━━━━━━━━━━━━━━━━━━━━━━━━━━━━━━━━\u001b[0m \u001b[32m58.3/58.3 kB\u001b[0m \u001b[31m5.0 MB/s\u001b[0m eta \u001b[36m0:00:00\u001b[0m\n",
            "\u001b[?25hRequirement already satisfied: jsonschema-specifications>=2023.03.6 in /usr/local/lib/python3.10/dist-packages (from jsonschema->farm-haystack[colab]) (2023.11.2)\n",
            "Requirement already satisfied: referencing>=0.28.4 in /usr/local/lib/python3.10/dist-packages (from jsonschema->farm-haystack[colab]) (0.32.0)\n",
            "Requirement already satisfied: rpds-py>=0.7.1 in /usr/local/lib/python3.10/dist-packages (from jsonschema->farm-haystack[colab]) (0.15.2)\n",
            "Requirement already satisfied: python-dateutil>=2.8.1 in /usr/local/lib/python3.10/dist-packages (from pandas->farm-haystack[colab]) (2.8.2)\n",
            "Requirement already satisfied: pytz>=2020.1 in /usr/local/lib/python3.10/dist-packages (from pandas->farm-haystack[colab]) (2023.3.post1)\n",
            "Requirement already satisfied: six>=1.5 in /usr/local/lib/python3.10/dist-packages (from posthog->farm-haystack[colab]) (1.16.0)\n",
            "Collecting monotonic>=1.5 (from posthog->farm-haystack[colab])\n",
            "  Downloading monotonic-1.6-py2.py3-none-any.whl (8.2 kB)\n",
            "Collecting backoff>=1.10.0 (from posthog->farm-haystack[colab])\n",
            "  Downloading backoff-2.2.1-py3-none-any.whl (15 kB)\n",
            "Requirement already satisfied: inflect in /usr/local/lib/python3.10/dist-packages (from quantulum3->farm-haystack[colab]) (7.0.0)\n",
            "Collecting num2words (from quantulum3->farm-haystack[colab])\n",
            "  Downloading num2words-0.5.13-py3-none-any.whl (143 kB)\n",
            "\u001b[2K     \u001b[90m━━━━━━━━━━━━━━━━━━━━━━━━━━━━━━━━━━━━━━━━\u001b[0m \u001b[32m143.3/143.3 kB\u001b[0m \u001b[31m7.1 MB/s\u001b[0m eta \u001b[36m0:00:00\u001b[0m\n",
            "\u001b[?25hRequirement already satisfied: exceptiongroup>=1.1.1 in /usr/local/lib/python3.10/dist-packages (from cattrs>=22.2->requests-cache<1.0.0->farm-haystack[colab]) (1.2.0)\n",
            "Requirement already satisfied: fsspec>=2023.5.0 in /usr/local/lib/python3.10/dist-packages (from huggingface-hub<1.0,>=0.16.4->transformers==4.35.2->farm-haystack[colab]) (2023.6.0)\n",
            "Collecting docopt>=0.6.2 (from num2words->quantulum3->farm-haystack[colab])\n",
            "  Downloading docopt-0.6.2.tar.gz (25 kB)\n",
            "  Preparing metadata (setup.py) ... \u001b[?25l\u001b[?25hdone\n",
            "Building wheels for collected packages: docopt\n",
            "  Building wheel for docopt (setup.py) ... \u001b[?25l\u001b[?25hdone\n",
            "  Created wheel for docopt: filename=docopt-0.6.2-py2.py3-none-any.whl size=13706 sha256=5fa65d0c1fa244f326db5254f31e7f1641e23506c556267dadd1bb037fe0bfd9\n",
            "  Stored in directory: /root/.cache/pip/wheels/fc/ab/d4/5da2067ac95b36618c629a5f93f809425700506f72c9732fac\n",
            "Successfully built docopt\n",
            "Installing collected packages: sseclient-py, monotonic, events, docopt, url-normalize, rank-bm25, pillow, num2words, lazy-imports, h11, cattrs, boilerpy3, backoff, tiktoken, scikit-learn, requests-cache, prompthub-py, posthog, httpcore, quantulum3, httpx, farm-haystack\n",
            "  Attempting uninstall: pillow\n",
            "    Found existing installation: Pillow 9.4.0\n",
            "    Uninstalling Pillow-9.4.0:\n",
            "      Successfully uninstalled Pillow-9.4.0\n",
            "  Attempting uninstall: scikit-learn\n",
            "    Found existing installation: scikit-learn 1.2.2\n",
            "    Uninstalling scikit-learn-1.2.2:\n",
            "      Successfully uninstalled scikit-learn-1.2.2\n",
            "\u001b[31mERROR: pip's dependency resolver does not currently take into account all the packages that are installed. This behaviour is the source of the following dependency conflicts.\n",
            "llmx 0.0.15a0 requires cohere, which is not installed.\n",
            "llmx 0.0.15a0 requires openai, which is not installed.\u001b[0m\u001b[31m\n",
            "\u001b[0mSuccessfully installed backoff-2.2.1 boilerpy3-1.0.7 cattrs-23.2.3 docopt-0.6.2 events-0.5 farm-haystack-1.23.0 h11-0.14.0 httpcore-1.0.2 httpx-0.26.0 lazy-imports-0.3.1 monotonic-1.6 num2words-0.5.13 pillow-9.0.0 posthog-3.1.0 prompthub-py-4.0.0 quantulum3-0.9.0 rank-bm25-0.2.2 requests-cache-0.9.8 scikit-learn-1.3.2 sseclient-py-1.8.0 tiktoken-0.5.2 url-normalize-1.4.3\n"
          ]
        },
        {
          "output_type": "display_data",
          "data": {
            "application/vnd.colab-display-data+json": {
              "pip_warning": {
                "packages": [
                  "PIL"
                ]
              }
            }
          },
          "metadata": {}
        }
      ],
      "source": [
        "#%%capture\n",
        "\n",
        "!pip install farm-haystack[colab]"
      ]
    },
    {
      "cell_type": "code",
      "execution_count": 1,
      "metadata": {
        "id": "gJ4tvE-hKarh"
      },
      "outputs": [],
      "source": [
        "\n",
        "HF_TOKEN = \"\"\n",
        "# Get code from Hugging face"
      ]
    },
    {
      "cell_type": "code",
      "execution_count": null,
      "metadata": {
        "id": "Spblp58SW0nH",
        "colab": {
          "base_uri": "https://localhost:8080/"
        },
        "outputId": "5db57561-229d-4e3f-8d5a-160dd9240852"
      },
      "outputs": [
        {
          "output_type": "stream",
          "name": "stdout",
          "text": [
            "Collecting pytube\n",
            "  Downloading pytube-15.0.0-py3-none-any.whl (57 kB)\n",
            "\u001b[?25l     \u001b[90m━━━━━━━━━━━━━━━━━━━━━━━━━━━━━━━━━━━━━━━━\u001b[0m \u001b[32m0.0/57.6 kB\u001b[0m \u001b[31m?\u001b[0m eta \u001b[36m-:--:--\u001b[0m\r\u001b[2K     \u001b[90m━━━━━━━━━━━━━━━━━━━━━━━━━━━━━━━━━━━━━━━━\u001b[0m \u001b[32m57.6/57.6 kB\u001b[0m \u001b[31m1.6 MB/s\u001b[0m eta \u001b[36m0:00:00\u001b[0m\n",
            "\u001b[?25hInstalling collected packages: pytube\n",
            "Successfully installed pytube-15.0.0\n"
          ]
        }
      ],
      "source": [
        "!pip install pytube"
      ]
    },
    {
      "cell_type": "code",
      "source": [
        "from pytube import YouTube\n",
        "\n",
        "def youtube2audio (url: str):\n",
        "    yt = YouTube(url)\n",
        "    video = yt.streams.filter(file_extension='mp4').last()\n",
        "    return video.download()\n",
        "\n"
      ],
      "metadata": {
        "id": "Fhribcf1bk6N"
      },
      "execution_count": null,
      "outputs": []
    },
    {
      "cell_type": "code",
      "source": [
        "\n",
        "import warnings\n",
        "warnings.warn = lambda *args, **kwargs: None\n"
      ],
      "metadata": {
        "id": "OtSe-9_eefY1"
      },
      "execution_count": null,
      "outputs": []
    },
    {
      "cell_type": "code",
      "source": [
        "yturl=\"https://www.youtube.com/watch?v=nf57BA3i5Rg\"\n",
        "# how to make chicken briyani"
      ],
      "metadata": {
        "id": "MmnvKyR-bk8m"
      },
      "execution_count": null,
      "outputs": []
    },
    {
      "cell_type": "code",
      "source": [
        "youtube2audio(yturl)"
      ],
      "metadata": {
        "colab": {
          "base_uri": "https://localhost:8080/",
          "height": 35
        },
        "id": "_KiRSd-Hbk-9",
        "outputId": "69a0fc57-2feb-433c-cdb4-c16b878a0610"
      },
      "execution_count": null,
      "outputs": [
        {
          "output_type": "execute_result",
          "data": {
            "text/plain": [
              "'/content/EASY Chicken Biryani  Best Homemade Biryani Recipe.mp4'"
            ],
            "application/vnd.google.colaboratory.intrinsic+json": {
              "type": "string"
            }
          },
          "metadata": {},
          "execution_count": 7
        }
      ]
    },
    {
      "cell_type": "code",
      "source": [
        "from haystack.nodes import PromptNode\n",
        "from haystack.nodes.audio import WhisperTranscriber\n",
        "from haystack.pipelines import Pipeline\n",
        "\n",
        "\n",
        "whisper = WhisperTranscriber(api_key=\"####\")\n",
        "# - Get code from openApi\n"
      ],
      "metadata": {
        "id": "vvuXPMObYZyk"
      },
      "execution_count": null,
      "outputs": []
    },
    {
      "cell_type": "code",
      "source": [
        "transcription = whisper.transcribe(audio_file=\"/content/EASY Chicken Biryani  Best Homemade Biryani Recipe.mp4\")"
      ],
      "metadata": {
        "id": "drnXkDY2YZ46"
      },
      "execution_count": null,
      "outputs": []
    },
    {
      "cell_type": "code",
      "source": [
        "transcriptiontext = transcription['text']"
      ],
      "metadata": {
        "id": "ozkRhp2eYZ-p"
      },
      "execution_count": null,
      "outputs": []
    },
    {
      "cell_type": "code",
      "source": [
        "transcriptiontext"
      ],
      "metadata": {
        "colab": {
          "base_uri": "https://localhost:8080/",
          "height": 1000
        },
        "id": "FmEhCD0gafO4",
        "outputId": "f787c8b5-7824-4b4f-8457-d7dcd72fca40"
      },
      "execution_count": null,
      "outputs": [
        {
          "output_type": "execute_result",
          "data": {
            "text/plain": [
              "\"This biryani made with just a few ingredients is loaded with flavor. Hi, and you're watching Plating It With Wendy, where I share with you recipes which impress with ease. If you enjoyed this video, don't forget to give it a like, share and comment. And if you enjoy trying out recipes that turn out right every time, you're at the right place. So go ahead, press that subscribe button. And while you're at it, if you hit the bell icon, you'll be the first to get notified every time I upload a new video. Now, let's get started. For this recipe, you need fried onions. So I've sliced up four onions, which are approximately 650 grams, and we're going to go over to the stove and fry them. In a pot, I put about an inch and a half of oil. And since this is quite a lot of onions, we're going to fry them in about three to four batches. And I'm using a spoon, try and move it around. You'll find that the onions will start decreasing as soon as the water releases from the onions. And we're going to fry them till they turn a light golden, and then we're going to take it out. Always take it out as soon as it turns a light golden, because it's going to still brown after you take it out. Okay, the onions are looking a lovely golden color. So we're going to lift them up from the oil, let the excess oil drain out. And using a spoon, just press down the onions so that all the excess oil drains down back into the pot. Now I've lined a baking sheet with some kitchen paper towel, and we're going to lay it down on the paper. And we're just going to spread it out so the paper gets a chance to absorb any excess oil from the onions. Now let's put in another batch of the onions. Now if you wanted to skip this step, you could always buy ready-made fried onions from the store. But I always prefer frying them at home, because you know exactly what oil you're frying it in. And now let's fry up our last batch of onions. While these are frying, we're going to parboil the potatoes, because we love to add potatoes in our biryani. So we're going to go in with 3 potatoes, which is approximately 600 grams, and I've cut it into quarters. I'm going to add some salt. And now we're going to parboil it on a medium heat. So as soon as the water comes to a bubble, we're going to take it off the heat, and then we're going to fry them. The water has come to a boil, which means that the potatoes are parboiled now. So let's drain off the water, and keep the potatoes ready, so that as soon as our third batch of onions have fried, we can fry the potatoes in the same oil. We have parboiled the potatoes, so they're cooked on the outside, but they're raw on the inside. So now we're going to fry them in the oil, till they get cooked. The potatoes have fried, and they're cooked right through. So we're going to drain off the excess oil, and now we're going to place in a bowl with a kitchen paper towel at the bottom, so that any excess oil gets absorbed by the paper towel. And now we're going to fry the remaining potatoes. Just going to move them around occasionally, so that they don't stick to the bottom, and they don't burn on one side. Okay, our second batch of potatoes are also ready. So let's drain off the excess oil, and place them along with the rest. Now we're going to be cooking our chicken in a pressure cooker, and it gets ready before you can say, one, two, three. So to the cooker, we're going to add about a quarter cup of oil, and we're going to use that same oil which we fried the onions and potatoes. And once the oil has heated up, we're going to add two tablespoons of ginger paste, and two tablespoons of garlic paste. And now we're going to saute this till the ginger and the garlic lose their raw flavor. In fact, my sister taught me how to make this biryani that comes together so quick, and it's so tasty, that you're sure to impress anyone when you make it. Now that the ginger and garlic have lost their raw flavor, let's toss in four medium sized tomatoes, which I've finely sliced, and the weight is approximately 600 grams. And to that, we're going to add five and a half tablespoons of Shahan Biryani Masala, and I'm using the Bombay Biryani Masala. After all, I'm a Bombay girl. Now let's give that a stir. Now we're going to saute this till the tomatoes soften, the masala gets a chance to cook, and the oil begins to separate. The tomatoes have softened, and as you can see, the oil has started coming to the top. So now we're going to add in our chicken. And I'm going in with one kilo of chicken, and I've used a combination of chicken drums and thighs. If you wanted, you could use just drums, or you could use just thighs, or you could even use a whole chicken if you like. And to that, we're going to add just a little bit of salt, maybe a teaspoon of salt, because the biryani masala that we added already contains salt. As I said earlier, I'd use the Shahan Biryani Masala, but you could use any biryani masala that you like. And now to that, we're going to add one third of the fried onions. Now let's give that a mix. Don't add any water when preparing the chicken, because you're going to have plenty of water coming out from the tomatoes, and the chicken stock is going to add to the gravy as well. Now we're going to put the lid onto the cooker, place on the wait, and as soon as the cooker comes to pressure and we have one whistle, we're going to take it off the heat and allow the pressure to release before we open it. Wow, our chicken is looking absolutely delicious. Now to that, we're going to add one handful of chopped coriander or cilantro, and half a handful of finely chopped mint leaves. Now let's give this a mix. Wow, the aroma in my kitchen right now, it's amazing. The chicken turns out really tender and succulent. Now we're going to keep our chicken open for about 10 minutes so that the gravy gets a chance to thicken. Okay, now that our chicken is ready, let's quickly cook up our rice. I've got five cups of long grain basmati rice over here, and that's approximately about a kilogram. I washed it till the water ran clear, and then I soaked it in water for half an hour. Okay, let's go over to the stove and cook up the rice. To cook the rice, we're first going to bring a pot of water to a boil on high heat, and into that we're going to toss in eight cloves and eight cardamoms. You're also going to add in three bay leaves, two star anise, and two three-inch sticks of cinnamon. Now this is going to flavor the water, which is going to make our rice nice and aromatic. Now we're going to wait till it comes to a boil. Now let's lower the heat to medium, and we're going to add in about two tablespoons of oil. I drained off all the water that the rice was soaking in, and now we're going to start adding in the rice. And you can add salt to taste. I'm going in with about two to three teaspoons of salt. And let's give that a stir so that everything gets well mixed together. Now we don't want the rice to cook completely. We want it to have a little bite to it. So now we're going to close it up and allow it to cook for seven minutes, and then we're going to check it. It's been seven minutes, and you can see that the rice still has a little bite to it. So now it's time, we've got to take it out, drain off the water, and now we're going to put it onto a tree. And I've lined the tree with parchment paper. Now while you're doing this, you can simultaneously take off the bay leaves or any of the spices that you see, because their job here is done. When layering our biryani, we're going to put some fresh herbs on it. And so we're going to take a bunch of coriander and chop it up. And this gives a lot of flavor to the biryani. Let's collect that all together and put it into a bowl. Also going to add a bunch of mint. Just going to pluck out the leaves first. And I'm going to chop that up fine. Let's transfer that to a bowl. To layer our biryani, we're first going to pour just a little bit of ghee at the bottom. And this is going to prevent the rice from sticking, and at the same time, it's going to flavor the rice. So now we're going to go in and put one layer of rice at the bottom. When cooking biryani, I always like to cook a one-to-one ratio of rice to whatever meat I'm using. Since we cooked one kilogram of chicken, we cooked one kilogram of rice. And now we're going to add a layer of the chicken. Just going to place them around so that when you serve it, everybody gets a share of the chicken and the rice. And now let's layer on some of the gravy. And now we're going to sprinkle on some of the chopped mint leaves, some of the chopped coriander leaves, some of the fried onions that we had kept aside. At each stage, we're going on layering flavor after flavor. And now it's time to add another layer of the rice. This is an ideal dish to make because it feeds a crowd. And now we're going to repeat. And now we're going to put on the gravy. And now we're going to go in with a layer of the chopped mint leaves, the chopped cilantro. Okay, guys, I'm sorry, but I forgot to put the potatoes in the bottom layer. But we're definitely going to put it in this layer. Let's top that with the fried onions. And now let's top it with another layer of the rice. Now we're going to top the rice with a little bit more of the ghee. And for that authentic biryani flavor, we're going to mix together 1 tablespoon of kewra essence, about 1 teaspoon of orange food coloring, or you could use saffron if you want it. And we're going to add about half a tablespoon of water into that just to help the color to dissolve. Blend that together. If you want it, you can even use liquid food coloring. And now let's pour that on the top. And immediately the biryani looks so good. And now let's top it with some more finely chopped mint leaves and the chopped coriander leaves and some of the fried onions. Wow, just look at that. I've placed the pot of biryani on a griddle pan and now we're going to cover it and allow it to cook for another 10 minutes, by which time the rice would have got a chance to cook completely. Our biryani is ready and I'm really excited. Oh my goodness, what an aroma in my kitchen. Wow. Biryani is best mixed and then served. So we're just going to take a little bit and mix it up here. Just a little bit at a time. Oh my goodness. Look at that. And now it's time for us to give the biryani a taste. Wow. Got the aroma that's coming from this. Wow, this biryani is so delicious. You've got to give it a try. So hop onto my website, PlatingItWithWendy.com, where you will find the full written recipe. Thanks for watching. See you soon.\""
            ],
            "application/vnd.google.colaboratory.intrinsic+json": {
              "type": "string"
            }
          },
          "metadata": {},
          "execution_count": 11
        }
      ]
    },
    {
      "cell_type": "code",
      "execution_count": null,
      "metadata": {
        "id": "CD_LIhGpVDr0"
      },
      "outputs": [],
      "source": [
        "from haystack import Document\n",
        "from haystack.nodes import PreProcessor,PromptModel, PromptTemplate, PromptNode\n",
        "\n",
        "doc = Document(\n",
        "    content=transcriptiontext\n",
        "\n",
        ")"
      ]
    },
    {
      "cell_type": "markdown",
      "metadata": {
        "id": "pF0nz0Wg7l_C"
      },
      "source": [
        "\n",
        "\n",
        "**Initializing the PreProcessor** : With processor = PreProcessor(...), configuring  preprocessor to  prepare documents.\n",
        "\n",
        "   - **Parameters:*\n",
        "     - `clean_empty_lines`: remove empty lines for optimal cleaning.   \n",
        "     - `clean_whitespace`:  eliminate whitespace\n",
        "     - `clean_header_footer`: treat any header and footer elements.\n",
        "     - `split_by`: We split the text by word. 📊\n",
        "     - `split_length`: We set the split length to 500 words. 📏\n",
        "     - `split_respect_sentence_boundary`: We respect sentence boundaries when splitting. 🗣️\n",
        "     - `split_overlap`: No overlap when splitting. 🚫\n",
        "\n",
        "\n",
        " **Processing the Document List:**  `preprocessed_docs = processor.process(docs)`, is applying  preprocessor to the document list.\n"
      ]
    },
    {
      "cell_type": "code",
      "execution_count": null,
      "metadata": {
        "id": "4gZh5nXkmY1S",
        "colab": {
          "base_uri": "https://localhost:8080/"
        },
        "outputId": "48c3e286-1689-4d6b-91bc-591abf80897f"
      },
      "outputs": [
        {
          "output_type": "stream",
          "name": "stderr",
          "text": [
            "[nltk_data] Downloading package punkt to /root/nltk_data...\n",
            "[nltk_data]   Unzipping tokenizers/punkt.zip.\n",
            "Preprocessing: 100%|██████████| 1/1 [00:00<00:00, 30.80docs/s]\n"
          ]
        }
      ],
      "source": [
        "# Create a list containing single document\n",
        "docs = [doc]\n",
        "\n",
        "processor = PreProcessor(\n",
        "    clean_empty_lines=True,\n",
        "    clean_whitespace=True,\n",
        "    clean_header_footer=True,\n",
        "    split_by=\"word\",\n",
        "    split_length=500,\n",
        "    split_respect_sentence_boundary=True,\n",
        "    split_overlap=0,\n",
        "    language=\"en\",\n",
        ")\n",
        "\n",
        "preprocessed_docs = processor.process(docs)"
      ]
    },
    {
      "cell_type": "code",
      "execution_count": null,
      "metadata": {
        "id": "4dbHs2HCYyR7",
        "colab": {
          "base_uri": "https://localhost:8080/"
        },
        "outputId": "43423cb9-b798-4915-9c3e-22b6201ed048"
      },
      "outputs": [
        {
          "output_type": "stream",
          "name": "stdout",
          "text": [
            "5\n"
          ]
        },
        {
          "output_type": "execute_result",
          "data": {
            "text/plain": [
              "<Document: {'content': \"So let's drain off the water, and keep the potatoes ready, so that as soon as our third batch of onions have fried, we can fry the potatoes in the same oil. We have parboiled the potatoes, so they're cooked on the outside, but they're raw on the inside. So now we're going to fry them in the oil, till they get cooked. The potatoes have fried, and they're cooked right through. So we're going to drain off the excess oil, and now we're going to place in a bowl with a kitchen paper towel at the bottom, so that any excess oil gets absorbed by the paper towel. And now we're going to fry the remaining potatoes. Just going to move them around occasionally, so that they don't stick to the bottom, and they don't burn on one side. Okay, our second batch of potatoes are also ready. So let's drain off the excess oil, and place them along with the rest. Now we're going to be cooking our chicken in a pressure cooker, and it gets ready before you can say, one, two, three. So to the cooker, we're going to add about a quarter cup of oil, and we're going to use that same oil which we fried the onions and potatoes. And once the oil has heated up, we're going to add two tablespoons of ginger paste, and two tablespoons of garlic paste. And now we're going to saute this till the ginger and the garlic lose their raw flavor. In fact, my sister taught me how to make this biryani that comes together so quick, and it's so tasty, that you're sure to impress anyone when you make it. Now that the ginger and garlic have lost their raw flavor, let's toss in four medium sized tomatoes, which I've finely sliced, and the weight is approximately 600 grams. And to that, we're going to add five and a half tablespoons of Shahan Biryani Masala, and I'm using the Bombay Biryani Masala. After all, I'm a Bombay girl. Now let's give that a stir. Now we're going to saute this till the tomatoes soften, the masala gets a chance to cook, and the oil begins to separate. The tomatoes have softened, and as you can see, the oil has started coming to the top. So now we're going to add in our chicken. And I'm going in with one kilo of chicken, and I've used a combination of chicken drums and thighs. If you wanted, you could use just drums, or you could use just thighs, or you could even use a whole chicken if you like. And to that, we're going to add just a little bit of salt, maybe a teaspoon of salt, because the biryani masala that we added already contains salt. As I said earlier, I'd use the Shahan Biryani Masala, but you could use any biryani masala that you like. \", 'content_type': 'text', 'score': None, 'meta': {'_split_id': 1}, 'id_hash_keys': ['content'], 'embedding': None, 'id': '7ac3c452e2dde48c527357b3a971845b'}>"
            ]
          },
          "metadata": {},
          "execution_count": 14
        }
      ],
      "source": [
        "print(len(preprocessed_docs))\n",
        "\n",
        "# a smaller chunked document\n",
        "\n",
        "preprocessed_docs[1]"
      ]
    },
    {
      "cell_type": "markdown",
      "metadata": {
        "id": "s6M7pttrnrQI"
      },
      "source": [
        "# Creation of DocumentStore in Memory: 📚💾\n",
        "\n",
        "Storing our documents in an easily accessible place! In the following code:\n",
        "\n",
        "1. **Initializing InMemoryDocumentStore:** With `document_store = InMemoryDocumentStore(use_bm25=True)`, we are creating an in-memory document store. Storage power is now in our hands! 💡🔍\n",
        "\n",
        "   - **Key Parameter:**\n",
        "     - `use_bm25`:  enable BM25, a search ranking algorithm, to improve query precision.\n",
        "\n",
        "2. **Writing Documents to the Store:** With `document_store.write_documents(preprocessed_docs)`, is writing the pre-processed documents to the store."
      ]
    },
    {
      "cell_type": "code",
      "execution_count": null,
      "metadata": {
        "id": "40jmeS34m_bM",
        "colab": {
          "base_uri": "https://localhost:8080/"
        },
        "outputId": "7f97af10-6b67-453e-b1e6-a13330edda20"
      },
      "outputs": [
        {
          "output_type": "stream",
          "name": "stderr",
          "text": [
            "Updating BM25 representation...: 100%|██████████| 5/5 [00:00<00:00, 2670.17 docs/s]\n"
          ]
        }
      ],
      "source": [
        "from haystack.document_stores import InMemoryDocumentStore\n",
        "\n",
        "document_store = InMemoryDocumentStore(use_bm25=True)\n",
        "document_store.write_documents(preprocessed_docs)"
      ]
    },
    {
      "cell_type": "markdown",
      "metadata": {
        "id": "KpCA8b2FoZE2"
      },
      "source": [
        "# Configuring a BM25 Recovery Unit with Haystack: 🔍🚀\n",
        "\n",
        "\n",
        "1. **Configuring BM25Retriever:** With `retriever = BM25Retriever(document_store, top_k=2)`, creates a BM25 retriever that relies on the in-memory document store. It uses ranking in our case with a top-k of 2 results! [BM25 Retriever](https://docs.haystack.deepset.ai/docs/retriever#bm25-recommended) 📈🔗\n",
        "\n",
        "   - **Key Parameters:**\n",
        "     - `document_store`: We use our in-memory document store as the basis for searching. 📚💾\n",
        "     - `top_k`: We specify that we want to get the best 2 results for each query. 🔝2️⃣\n",
        "\n",
        "That is how it can find the most relevant documents in the subsequent stages\n"
      ]
    },
    {
      "cell_type": "code",
      "execution_count": null,
      "metadata": {
        "id": "4UchlKzipUZf"
      },
      "outputs": [],
      "source": [
        "from haystack import Pipeline\n",
        "from haystack.nodes import BM25Retriever\n",
        "retriever = BM25Retriever(document_store, top_k=2)"
      ]
    },
    {
      "cell_type": "markdown",
      "metadata": {
        "id": "q4qE7ur59jys"
      },
      "source": [
        "# Definition of a PromptTemplate for Questions and Answers:\n",
        "\n",
        "Giving structure to our question-answer interactions with a `PromptTemplate`! In the following code:\n",
        "\n",
        "1. **Template Definition:** With `qa_template = PromptTemplate(...)`, is  creating a template that guides the question and answer process. 📝💬\n",
        "\n",
        "   - **Prompt Structure:**\n",
        "     - \"Using the information contained in the context, answer only the question asked without adding question suggestions\"\n",
        "     - \"If the answer cannot be inferred from the context, reply: '\\I don't know\\'.\"\n",
        "     - \"Context: {join(documents)};\"\n",
        "     - \"Question: {query}\"\n",
        "\n",
        "   - **Clear Description:** The template provides clear instructions on how to answer questions based on context.   💡\n",
        "\n",
        "2. **Template Variables:**  there is use of  `{join(documents)}` and `{query}` to dynamically incorporate the necessary information into the prompt. Our questions are now driven by context! 🔄🌐\n",
        "\n",
        "This template is the key to providing structured and contextually informed interactions"
      ]
    },
    {
      "cell_type": "code",
      "execution_count": null,
      "metadata": {
        "id": "HKStelv4pr_f"
      },
      "outputs": [],
      "source": [
        "qa_template = PromptTemplate(prompt=\n",
        "  \"\"\" Using the information contained in the context, answer only the question asked without adding question suggestions\n",
        "  If the answer cannot be inferred from the context, reply: '\\I don't know'.\n",
        "  Context: {join(documents)};\n",
        "  Question: {query}\n",
        "  \"\"\")"
      ]
    },
    {
      "cell_type": "markdown",
      "metadata": {
        "id": "93KBaMBP9g23"
      },
      "source": [
        "#  PromptNode Initialization: 🌐🤖\n",
        "\n",
        "We are exploring the world of HTTP requests and initializing our [PromptNode](https://docs.haystack.deepset.ai/docs/prompt_node)! In the following code:\n",
        "\n",
        "1. **Initializing PromptNode:** With `prompt_node = PromptNode(...)`, we are configuring our prompt node to interact with the Zephyr model. 🌬️🚀\n",
        "\n",
        "   - **Mixtral Model:**  specifying `model_name_or_path=\"HuggingFaceH4/zephyr-7b-beta\"` or `mistralai/Mixtral-8x7B-Instruct-v0.1` or whatever model you want\n",
        "\n",
        "   - **Hugging Face API Key:** Hugging Face key,  with `api_key=HF_TOKEN`\n",
        "\n",
        "   - **Default Prompt Template:**  configure the default prompt template\n",
        "\n",
        "   - **Additional Model Parameters:** By specifying `max_length=500` and `model_kwargs={\"model_max_length\": 5000}`, we provide the maximum number of tokens the output text generated by the model can have.\n",
        "\n",
        "\n",
        "\n",
        "\n"
      ]
    },
    {
      "cell_type": "code",
      "execution_count": null,
      "metadata": {
        "id": "V7M8_QmfqGO7",
        "colab": {
          "base_uri": "https://localhost:8080/",
          "height": 145,
          "referenced_widgets": [
            "70725077383d4a428368e2670cb8cf59",
            "78ba333a70b04d018da0711374243428",
            "8494d46203b04c46b410795bc6a029b0",
            "5a28686175a249aebdbbd4e4d6e04e33",
            "c0c3fc57e3e64dac91f941d7386e3b77",
            "35660a2d0af6430198f4ac45672ff47c",
            "6d3ca960b87d43d6b16700835c3127f6",
            "3f6368b40ccb4507bfc3a6a28d1ce4f1",
            "d9d3fe1aef6a4a4da7113c8d640ddcdb",
            "2baf251ca41e4ac7a06930c7ce944221",
            "c31c3780964f4bf79f1981b7b54e7d76",
            "90ca4a1ccd974d3483609fa188cc9ded",
            "5ce9b5e8630840738df37becac69d120",
            "a2db53b18dfa4180993a16fe606fe1a0",
            "68f2455edeb54c43b4b172a98f9d39a1",
            "3c038cb3677b4de3923bd6811e5b90ff",
            "10e58005cc7b4c6cbb0491af98f703a2",
            "517e88c6ec4b4612a9aca71ab399e7a5",
            "9dfa8f07a93741c38ad17ce8eafff442",
            "da85ece4dc3f4d4a8b276b2eb6919686",
            "dc9d3de450c24e899f14234fcb47e16e",
            "ed740d49be8f4f7c8015608d3054ee9c",
            "f777a18332c24a189578b6b6412073d7",
            "0f9b73bbb02542b090eccd08ffc0bacb",
            "642013785df2465bae6edb100bf0fc4e",
            "523c6fffa61444b0b0ecd179a705cfdd",
            "63a77e86a3e74729957c155b96f4d855",
            "a463f5421fab4207802f25016059f62f",
            "698ff217417f4bbca5c966261a94041d",
            "5ee84b066d014c6fa3deaf9542e1a3c4",
            "f1d2a81f13214c9584bab8d9ad288f56",
            "babcba4332ce4da9bd9974e92504cfce",
            "b54eb18a434c45578c910fbb448dbb7a",
            "e162035cb90f4094bf3a4686056cc84e",
            "ea0fcd38e947469c9a57192691d4fa71",
            "8fb3139a2a9f44fa89645cafabba2cd0",
            "56dada06e7d3411480f56a1edf82680b",
            "474dcdaebba8424fb63aa2d85671bbd0",
            "2b19d305b881408eaf0757f3b679f8ec",
            "cc442ee8323a483da5adb2f1de16747d",
            "5d812fb3e49441d5b97d6485cb79259c",
            "a686cc3e1e694359b710f52c428f1f59",
            "9afa47aa322d4c3c89d3ec2be3971540",
            "32c0c2ff66644b01a103f30e816d9a0d"
          ]
        },
        "outputId": "d7ba3127-1b89-43a1-bc38-717a3c79e983"
      },
      "outputs": [
        {
          "output_type": "display_data",
          "data": {
            "text/plain": [
              "tokenizer_config.json:   0%|          | 0.00/1.46k [00:00<?, ?B/s]"
            ],
            "application/vnd.jupyter.widget-view+json": {
              "version_major": 2,
              "version_minor": 0,
              "model_id": "70725077383d4a428368e2670cb8cf59"
            }
          },
          "metadata": {}
        },
        {
          "output_type": "display_data",
          "data": {
            "text/plain": [
              "tokenizer.model:   0%|          | 0.00/493k [00:00<?, ?B/s]"
            ],
            "application/vnd.jupyter.widget-view+json": {
              "version_major": 2,
              "version_minor": 0,
              "model_id": "90ca4a1ccd974d3483609fa188cc9ded"
            }
          },
          "metadata": {}
        },
        {
          "output_type": "display_data",
          "data": {
            "text/plain": [
              "tokenizer.json:   0%|          | 0.00/1.80M [00:00<?, ?B/s]"
            ],
            "application/vnd.jupyter.widget-view+json": {
              "version_major": 2,
              "version_minor": 0,
              "model_id": "f777a18332c24a189578b6b6412073d7"
            }
          },
          "metadata": {}
        },
        {
          "output_type": "display_data",
          "data": {
            "text/plain": [
              "special_tokens_map.json:   0%|          | 0.00/72.0 [00:00<?, ?B/s]"
            ],
            "application/vnd.jupyter.widget-view+json": {
              "version_major": 2,
              "version_minor": 0,
              "model_id": "e162035cb90f4094bf3a4686056cc84e"
            }
          },
          "metadata": {}
        }
      ],
      "source": [
        "\n",
        "\n",
        "prompt_node = PromptNode(\n",
        "    model_name_or_path=\"mistralai/Mixtral-8x7B-Instruct-v0.1\",\n",
        "    api_key=HF_TOKEN,\n",
        "    default_prompt_template=qa_template,\n",
        "    max_length=500,\n",
        "    model_kwargs={\"model_max_length\": 5000}\n",
        ")"
      ]
    },
    {
      "cell_type": "markdown",
      "metadata": {
        "id": "vzY2gQrd-teN"
      },
      "source": [
        "**Configuring a Pipeline with Haystack:** 🚀🔗\n",
        "\n",
        "\n",
        "A pipeline means we are creating a sequence of steps to maximize the effectiveness of our workflow\n",
        "\n",
        "In the following code:\n",
        "\n",
        "Creating a RAG Pipeline:\n",
        "\n",
        " With rag_pipeline = Pipeline(), we are starting the construction of our pipeline for Recurrent Retrieval Augmented Generation (RAG). 🔄🚀\n",
        "\n",
        "Adding a Retriever Node:\n",
        "\n",
        "Using rag_pipeline.add_node(...), we are embedding our BM25 retriever. The \"retriever\" node will receive input from the \"Query\".\n",
        "\n",
        "Retriever Node:  configure the previously created BM25 retriever to be ready to provide  the most relevant documents!\n",
        "Adding a Prompt Node: With rag_pipeline.add_node(...), we are inserting our prompt node. The \"prompt_node\" node will receive input from the \"retriever\" node.\n",
        "\n"
      ]
    },
    {
      "cell_type": "code",
      "execution_count": null,
      "metadata": {
        "id": "IzD5jw84oTVr"
      },
      "outputs": [],
      "source": [
        "rag_pipeline = Pipeline()\n",
        "rag_pipeline.add_node(component=retriever, name=\"retriever\", inputs=[\"Query\"])\n",
        "rag_pipeline.add_node(component=prompt_node, name=\"prompt_node\", inputs=[\"retriever\"])"
      ]
    },
    {
      "cell_type": "code",
      "execution_count": null,
      "metadata": {
        "id": "RHzz1UQlt1M5"
      },
      "outputs": [],
      "source": [
        "from pprint import pprint\n",
        "print_answer = lambda out: pprint(out[\"results\"][0].strip())"
      ]
    },
    {
      "cell_type": "code",
      "source": [
        "def print_answer_with_score(output):\n",
        "    if output[\"results\"]:\n",
        "        top_result = output[\"results\"][0].strip()  # Get the top result\n",
        "        top_document = output[\"documents\"][0]  # Get the top document\n",
        "\n",
        "        score = top_document.score  # Extract the score of the top document\n",
        "        pprint(f\"Answer: {top_result}\\nScore: {score}\\n\")\n",
        "    else:\n",
        "        pprint(\"No results found.\")\n",
        "\n"
      ],
      "metadata": {
        "id": "6vfYaSvSxPKs"
      },
      "execution_count": null,
      "outputs": []
    },
    {
      "cell_type": "markdown",
      "metadata": {
        "id": "7VXJ2W7ju9c9"
      },
      "source": [
        "## Let's try the RAG Pipeline\n",
        "Finally running the RAG Pipeline with a Query and Printing the Response:\n",
        "\n",
        "\n",
        "\n",
        " **Running the RAG Pipeline:**  `rag_pipeline.run(query=\"\")`,  is invoking our RAG pipeline with a specific query.\n",
        "\n",
        "\n",
        "\n"
      ]
    },
    {
      "cell_type": "code",
      "source": [
        "print_answer_with_score(rag_pipeline.run(query=\"how much chicken i should get\"))"
      ],
      "metadata": {
        "colab": {
          "base_uri": "https://localhost:8080/"
        },
        "id": "iz4-U3BfveY9",
        "outputId": "29bb2e41-bbc5-471b-c917-ec68deb318d6"
      },
      "execution_count": null,
      "outputs": [
        {
          "output_type": "stream",
          "name": "stdout",
          "text": [
            "'Answer: Answer: \\\\One kilo of chicken\\nScore: 0.5481398157374143\\n'\n"
          ]
        }
      ]
    },
    {
      "cell_type": "code",
      "source": [
        "print_answer_with_score(rag_pipeline.run(query=\"How long should i cook the rice for \"))"
      ],
      "metadata": {
        "colab": {
          "base_uri": "https://localhost:8080/"
        },
        "id": "Ct8Ca5QRdZk7",
        "outputId": "1c7e15f3-7db2-4204-e935-79949c7339e8"
      },
      "execution_count": null,
      "outputs": [
        {
          "output_type": "stream",
          "name": "stdout",
          "text": [
            "('Answer: Answer: You should cook the rice for seven minutes.\\n'\n",
            " 'Score: 0.5608780927321713\\n')\n"
          ]
        }
      ]
    },
    {
      "cell_type": "code",
      "source": [
        "print_answer_with_score(rag_pipeline.run(query=\"what brand of briyani masala is best to use\"))"
      ],
      "metadata": {
        "colab": {
          "base_uri": "https://localhost:8080/"
        },
        "id": "JX8hzQIugaU5",
        "outputId": "1502f395-5195-445d-9d57-954ff684cc73"
      },
      "execution_count": null,
      "outputs": [
        {
          "output_type": "stream",
          "name": "stdout",
          "text": [
            "('Answer: The context does not explicitly state which brand of biryani masala '\n",
            " 'is the best to use. The speaker mentions using Shahan Biryani Masala, '\n",
            " 'specifically the Bombay Biryani Masala, but does not say it is the best. '\n",
            " \"Therefore, I don't know which brand of biryani masala is the best to use.\\n\"\n",
            " 'Score: 0.605473428936977\\n')\n"
          ]
        }
      ]
    },
    {
      "cell_type": "code",
      "source": [
        "print_answer_with_score(rag_pipeline.run(query=\"What are the spices i should add ?\"))"
      ],
      "metadata": {
        "colab": {
          "base_uri": "https://localhost:8080/"
        },
        "id": "C9fn1XiHdndv",
        "outputId": "ec02dee8-f13f-4406-d7e6-a29d38f8c3e7"
      },
      "execution_count": null,
      "outputs": [
        {
          "output_type": "stream",
          "name": "stdout",
          "text": [
            "('Answer: The context does not provide information about the specific spices '\n",
            " 'that should be added. The chef mentions adding fresh herbs like coriander '\n",
            " 'and mint, as well as fried onions, but does not specify any spices. '\n",
            " \"Therefore, I don't know the answer to this question.\\n\"\n",
            " 'Score: 0.5466184789731436\\n')\n"
          ]
        }
      ]
    },
    {
      "cell_type": "code",
      "source": [
        "print_answer_with_score(rag_pipeline.run(query=\"what are the ingrediants i should use\"))"
      ],
      "metadata": {
        "colab": {
          "base_uri": "https://localhost:8080/"
        },
        "id": "Zio3ILd-cvDY",
        "outputId": "902ca3d9-ffad-433a-ba6f-4595562fc882"
      },
      "execution_count": null,
      "outputs": [
        {
          "output_type": "stream",
          "name": "stdout",
          "text": [
            "('Answer: The ingredients mentioned in the context are:\\n'\n",
            " '  - water\\n'\n",
            " '  - potatoes\\n'\n",
            " '  - oil\\n'\n",
            " '  - onions\\n'\n",
            " '  - ginger paste\\n'\n",
            " '  - garlic paste\\n'\n",
            " '  - tomatoes\\n'\n",
            " '  - Shahan Biryani Masala (Bombay Biryani Masala)\\n'\n",
            " '  - chicken (drums and thighs)\\n'\n",
            " '  - salt\\n'\n",
            " '  - fried onions\\n'\n",
            " '  - kitchen paper towel\\n'\n",
            " '  - baking sheet\\n'\n",
            " '  - salt for parboiling the potatoes\\n'\n",
            " '\\n'\n",
            " '  The recipe does not specify the exact quantities of all the ingredients, '\n",
            " 'but it does mention specific quantities for some of them. For example, it '\n",
            " 'mentions 2 tablespoons of ginger paste, 2 tablespoons of garlic paste, 5 and '\n",
            " 'a half tablespoons of Shahan Biryani Masala, and 1 kilo of chicken. The '\n",
            " 'recipe also mentions that the potatoes should be cut into quarters and that '\n",
            " 'the onions should be sliced.\\n'\n",
            " '\\n'\n",
            " '  It is important to note that the recipe may require additional ingredients '\n",
            " 'not mentioned in the context. For example, the recipe may require spices or '\n",
            " 'seasonings beyond the Shahan Biryani Masala. Additionally, the recipe may '\n",
            " 'require cooking oil, which is mentioned in the context but not explicitly '\n",
            " 'identified as an ingredient.\\n'\n",
            " '\\n'\n",
            " '  Therefore, while the context provides a helpful starting point for '\n",
            " 'identifying the ingredients needed for the recipe, it may be necessary to '\n",
            " 'consult additional sources or to make assumptions about the missing '\n",
            " 'ingredients in order to fully replicate the recipe.\\n'\n",
            " 'Score: 0.5388215037803809\\n')\n"
          ]
        }
      ]
    }
  ],
  "metadata": {
    "colab": {
      "provenance": []
    },
    "kernelspec": {
      "display_name": "Python 3",
      "name": "python3"
    },
    "language_info": {
      "name": "python"
    },
    "widgets": {
      "application/vnd.jupyter.widget-state+json": {
        "70725077383d4a428368e2670cb8cf59": {
          "model_module": "@jupyter-widgets/controls",
          "model_name": "HBoxModel",
          "model_module_version": "1.5.0",
          "state": {
            "_dom_classes": [],
            "_model_module": "@jupyter-widgets/controls",
            "_model_module_version": "1.5.0",
            "_model_name": "HBoxModel",
            "_view_count": null,
            "_view_module": "@jupyter-widgets/controls",
            "_view_module_version": "1.5.0",
            "_view_name": "HBoxView",
            "box_style": "",
            "children": [
              "IPY_MODEL_78ba333a70b04d018da0711374243428",
              "IPY_MODEL_8494d46203b04c46b410795bc6a029b0",
              "IPY_MODEL_5a28686175a249aebdbbd4e4d6e04e33"
            ],
            "layout": "IPY_MODEL_c0c3fc57e3e64dac91f941d7386e3b77"
          }
        },
        "78ba333a70b04d018da0711374243428": {
          "model_module": "@jupyter-widgets/controls",
          "model_name": "HTMLModel",
          "model_module_version": "1.5.0",
          "state": {
            "_dom_classes": [],
            "_model_module": "@jupyter-widgets/controls",
            "_model_module_version": "1.5.0",
            "_model_name": "HTMLModel",
            "_view_count": null,
            "_view_module": "@jupyter-widgets/controls",
            "_view_module_version": "1.5.0",
            "_view_name": "HTMLView",
            "description": "",
            "description_tooltip": null,
            "layout": "IPY_MODEL_35660a2d0af6430198f4ac45672ff47c",
            "placeholder": "​",
            "style": "IPY_MODEL_6d3ca960b87d43d6b16700835c3127f6",
            "value": "tokenizer_config.json: 100%"
          }
        },
        "8494d46203b04c46b410795bc6a029b0": {
          "model_module": "@jupyter-widgets/controls",
          "model_name": "FloatProgressModel",
          "model_module_version": "1.5.0",
          "state": {
            "_dom_classes": [],
            "_model_module": "@jupyter-widgets/controls",
            "_model_module_version": "1.5.0",
            "_model_name": "FloatProgressModel",
            "_view_count": null,
            "_view_module": "@jupyter-widgets/controls",
            "_view_module_version": "1.5.0",
            "_view_name": "ProgressView",
            "bar_style": "success",
            "description": "",
            "description_tooltip": null,
            "layout": "IPY_MODEL_3f6368b40ccb4507bfc3a6a28d1ce4f1",
            "max": 1460,
            "min": 0,
            "orientation": "horizontal",
            "style": "IPY_MODEL_d9d3fe1aef6a4a4da7113c8d640ddcdb",
            "value": 1460
          }
        },
        "5a28686175a249aebdbbd4e4d6e04e33": {
          "model_module": "@jupyter-widgets/controls",
          "model_name": "HTMLModel",
          "model_module_version": "1.5.0",
          "state": {
            "_dom_classes": [],
            "_model_module": "@jupyter-widgets/controls",
            "_model_module_version": "1.5.0",
            "_model_name": "HTMLModel",
            "_view_count": null,
            "_view_module": "@jupyter-widgets/controls",
            "_view_module_version": "1.5.0",
            "_view_name": "HTMLView",
            "description": "",
            "description_tooltip": null,
            "layout": "IPY_MODEL_2baf251ca41e4ac7a06930c7ce944221",
            "placeholder": "​",
            "style": "IPY_MODEL_c31c3780964f4bf79f1981b7b54e7d76",
            "value": " 1.46k/1.46k [00:00&lt;00:00, 60.0kB/s]"
          }
        },
        "c0c3fc57e3e64dac91f941d7386e3b77": {
          "model_module": "@jupyter-widgets/base",
          "model_name": "LayoutModel",
          "model_module_version": "1.2.0",
          "state": {
            "_model_module": "@jupyter-widgets/base",
            "_model_module_version": "1.2.0",
            "_model_name": "LayoutModel",
            "_view_count": null,
            "_view_module": "@jupyter-widgets/base",
            "_view_module_version": "1.2.0",
            "_view_name": "LayoutView",
            "align_content": null,
            "align_items": null,
            "align_self": null,
            "border": null,
            "bottom": null,
            "display": null,
            "flex": null,
            "flex_flow": null,
            "grid_area": null,
            "grid_auto_columns": null,
            "grid_auto_flow": null,
            "grid_auto_rows": null,
            "grid_column": null,
            "grid_gap": null,
            "grid_row": null,
            "grid_template_areas": null,
            "grid_template_columns": null,
            "grid_template_rows": null,
            "height": null,
            "justify_content": null,
            "justify_items": null,
            "left": null,
            "margin": null,
            "max_height": null,
            "max_width": null,
            "min_height": null,
            "min_width": null,
            "object_fit": null,
            "object_position": null,
            "order": null,
            "overflow": null,
            "overflow_x": null,
            "overflow_y": null,
            "padding": null,
            "right": null,
            "top": null,
            "visibility": null,
            "width": null
          }
        },
        "35660a2d0af6430198f4ac45672ff47c": {
          "model_module": "@jupyter-widgets/base",
          "model_name": "LayoutModel",
          "model_module_version": "1.2.0",
          "state": {
            "_model_module": "@jupyter-widgets/base",
            "_model_module_version": "1.2.0",
            "_model_name": "LayoutModel",
            "_view_count": null,
            "_view_module": "@jupyter-widgets/base",
            "_view_module_version": "1.2.0",
            "_view_name": "LayoutView",
            "align_content": null,
            "align_items": null,
            "align_self": null,
            "border": null,
            "bottom": null,
            "display": null,
            "flex": null,
            "flex_flow": null,
            "grid_area": null,
            "grid_auto_columns": null,
            "grid_auto_flow": null,
            "grid_auto_rows": null,
            "grid_column": null,
            "grid_gap": null,
            "grid_row": null,
            "grid_template_areas": null,
            "grid_template_columns": null,
            "grid_template_rows": null,
            "height": null,
            "justify_content": null,
            "justify_items": null,
            "left": null,
            "margin": null,
            "max_height": null,
            "max_width": null,
            "min_height": null,
            "min_width": null,
            "object_fit": null,
            "object_position": null,
            "order": null,
            "overflow": null,
            "overflow_x": null,
            "overflow_y": null,
            "padding": null,
            "right": null,
            "top": null,
            "visibility": null,
            "width": null
          }
        },
        "6d3ca960b87d43d6b16700835c3127f6": {
          "model_module": "@jupyter-widgets/controls",
          "model_name": "DescriptionStyleModel",
          "model_module_version": "1.5.0",
          "state": {
            "_model_module": "@jupyter-widgets/controls",
            "_model_module_version": "1.5.0",
            "_model_name": "DescriptionStyleModel",
            "_view_count": null,
            "_view_module": "@jupyter-widgets/base",
            "_view_module_version": "1.2.0",
            "_view_name": "StyleView",
            "description_width": ""
          }
        },
        "3f6368b40ccb4507bfc3a6a28d1ce4f1": {
          "model_module": "@jupyter-widgets/base",
          "model_name": "LayoutModel",
          "model_module_version": "1.2.0",
          "state": {
            "_model_module": "@jupyter-widgets/base",
            "_model_module_version": "1.2.0",
            "_model_name": "LayoutModel",
            "_view_count": null,
            "_view_module": "@jupyter-widgets/base",
            "_view_module_version": "1.2.0",
            "_view_name": "LayoutView",
            "align_content": null,
            "align_items": null,
            "align_self": null,
            "border": null,
            "bottom": null,
            "display": null,
            "flex": null,
            "flex_flow": null,
            "grid_area": null,
            "grid_auto_columns": null,
            "grid_auto_flow": null,
            "grid_auto_rows": null,
            "grid_column": null,
            "grid_gap": null,
            "grid_row": null,
            "grid_template_areas": null,
            "grid_template_columns": null,
            "grid_template_rows": null,
            "height": null,
            "justify_content": null,
            "justify_items": null,
            "left": null,
            "margin": null,
            "max_height": null,
            "max_width": null,
            "min_height": null,
            "min_width": null,
            "object_fit": null,
            "object_position": null,
            "order": null,
            "overflow": null,
            "overflow_x": null,
            "overflow_y": null,
            "padding": null,
            "right": null,
            "top": null,
            "visibility": null,
            "width": null
          }
        },
        "d9d3fe1aef6a4a4da7113c8d640ddcdb": {
          "model_module": "@jupyter-widgets/controls",
          "model_name": "ProgressStyleModel",
          "model_module_version": "1.5.0",
          "state": {
            "_model_module": "@jupyter-widgets/controls",
            "_model_module_version": "1.5.0",
            "_model_name": "ProgressStyleModel",
            "_view_count": null,
            "_view_module": "@jupyter-widgets/base",
            "_view_module_version": "1.2.0",
            "_view_name": "StyleView",
            "bar_color": null,
            "description_width": ""
          }
        },
        "2baf251ca41e4ac7a06930c7ce944221": {
          "model_module": "@jupyter-widgets/base",
          "model_name": "LayoutModel",
          "model_module_version": "1.2.0",
          "state": {
            "_model_module": "@jupyter-widgets/base",
            "_model_module_version": "1.2.0",
            "_model_name": "LayoutModel",
            "_view_count": null,
            "_view_module": "@jupyter-widgets/base",
            "_view_module_version": "1.2.0",
            "_view_name": "LayoutView",
            "align_content": null,
            "align_items": null,
            "align_self": null,
            "border": null,
            "bottom": null,
            "display": null,
            "flex": null,
            "flex_flow": null,
            "grid_area": null,
            "grid_auto_columns": null,
            "grid_auto_flow": null,
            "grid_auto_rows": null,
            "grid_column": null,
            "grid_gap": null,
            "grid_row": null,
            "grid_template_areas": null,
            "grid_template_columns": null,
            "grid_template_rows": null,
            "height": null,
            "justify_content": null,
            "justify_items": null,
            "left": null,
            "margin": null,
            "max_height": null,
            "max_width": null,
            "min_height": null,
            "min_width": null,
            "object_fit": null,
            "object_position": null,
            "order": null,
            "overflow": null,
            "overflow_x": null,
            "overflow_y": null,
            "padding": null,
            "right": null,
            "top": null,
            "visibility": null,
            "width": null
          }
        },
        "c31c3780964f4bf79f1981b7b54e7d76": {
          "model_module": "@jupyter-widgets/controls",
          "model_name": "DescriptionStyleModel",
          "model_module_version": "1.5.0",
          "state": {
            "_model_module": "@jupyter-widgets/controls",
            "_model_module_version": "1.5.0",
            "_model_name": "DescriptionStyleModel",
            "_view_count": null,
            "_view_module": "@jupyter-widgets/base",
            "_view_module_version": "1.2.0",
            "_view_name": "StyleView",
            "description_width": ""
          }
        },
        "90ca4a1ccd974d3483609fa188cc9ded": {
          "model_module": "@jupyter-widgets/controls",
          "model_name": "HBoxModel",
          "model_module_version": "1.5.0",
          "state": {
            "_dom_classes": [],
            "_model_module": "@jupyter-widgets/controls",
            "_model_module_version": "1.5.0",
            "_model_name": "HBoxModel",
            "_view_count": null,
            "_view_module": "@jupyter-widgets/controls",
            "_view_module_version": "1.5.0",
            "_view_name": "HBoxView",
            "box_style": "",
            "children": [
              "IPY_MODEL_5ce9b5e8630840738df37becac69d120",
              "IPY_MODEL_a2db53b18dfa4180993a16fe606fe1a0",
              "IPY_MODEL_68f2455edeb54c43b4b172a98f9d39a1"
            ],
            "layout": "IPY_MODEL_3c038cb3677b4de3923bd6811e5b90ff"
          }
        },
        "5ce9b5e8630840738df37becac69d120": {
          "model_module": "@jupyter-widgets/controls",
          "model_name": "HTMLModel",
          "model_module_version": "1.5.0",
          "state": {
            "_dom_classes": [],
            "_model_module": "@jupyter-widgets/controls",
            "_model_module_version": "1.5.0",
            "_model_name": "HTMLModel",
            "_view_count": null,
            "_view_module": "@jupyter-widgets/controls",
            "_view_module_version": "1.5.0",
            "_view_name": "HTMLView",
            "description": "",
            "description_tooltip": null,
            "layout": "IPY_MODEL_10e58005cc7b4c6cbb0491af98f703a2",
            "placeholder": "​",
            "style": "IPY_MODEL_517e88c6ec4b4612a9aca71ab399e7a5",
            "value": "tokenizer.model: 100%"
          }
        },
        "a2db53b18dfa4180993a16fe606fe1a0": {
          "model_module": "@jupyter-widgets/controls",
          "model_name": "FloatProgressModel",
          "model_module_version": "1.5.0",
          "state": {
            "_dom_classes": [],
            "_model_module": "@jupyter-widgets/controls",
            "_model_module_version": "1.5.0",
            "_model_name": "FloatProgressModel",
            "_view_count": null,
            "_view_module": "@jupyter-widgets/controls",
            "_view_module_version": "1.5.0",
            "_view_name": "ProgressView",
            "bar_style": "success",
            "description": "",
            "description_tooltip": null,
            "layout": "IPY_MODEL_9dfa8f07a93741c38ad17ce8eafff442",
            "max": 493443,
            "min": 0,
            "orientation": "horizontal",
            "style": "IPY_MODEL_da85ece4dc3f4d4a8b276b2eb6919686",
            "value": 493443
          }
        },
        "68f2455edeb54c43b4b172a98f9d39a1": {
          "model_module": "@jupyter-widgets/controls",
          "model_name": "HTMLModel",
          "model_module_version": "1.5.0",
          "state": {
            "_dom_classes": [],
            "_model_module": "@jupyter-widgets/controls",
            "_model_module_version": "1.5.0",
            "_model_name": "HTMLModel",
            "_view_count": null,
            "_view_module": "@jupyter-widgets/controls",
            "_view_module_version": "1.5.0",
            "_view_name": "HTMLView",
            "description": "",
            "description_tooltip": null,
            "layout": "IPY_MODEL_dc9d3de450c24e899f14234fcb47e16e",
            "placeholder": "​",
            "style": "IPY_MODEL_ed740d49be8f4f7c8015608d3054ee9c",
            "value": " 493k/493k [00:00&lt;00:00, 8.58MB/s]"
          }
        },
        "3c038cb3677b4de3923bd6811e5b90ff": {
          "model_module": "@jupyter-widgets/base",
          "model_name": "LayoutModel",
          "model_module_version": "1.2.0",
          "state": {
            "_model_module": "@jupyter-widgets/base",
            "_model_module_version": "1.2.0",
            "_model_name": "LayoutModel",
            "_view_count": null,
            "_view_module": "@jupyter-widgets/base",
            "_view_module_version": "1.2.0",
            "_view_name": "LayoutView",
            "align_content": null,
            "align_items": null,
            "align_self": null,
            "border": null,
            "bottom": null,
            "display": null,
            "flex": null,
            "flex_flow": null,
            "grid_area": null,
            "grid_auto_columns": null,
            "grid_auto_flow": null,
            "grid_auto_rows": null,
            "grid_column": null,
            "grid_gap": null,
            "grid_row": null,
            "grid_template_areas": null,
            "grid_template_columns": null,
            "grid_template_rows": null,
            "height": null,
            "justify_content": null,
            "justify_items": null,
            "left": null,
            "margin": null,
            "max_height": null,
            "max_width": null,
            "min_height": null,
            "min_width": null,
            "object_fit": null,
            "object_position": null,
            "order": null,
            "overflow": null,
            "overflow_x": null,
            "overflow_y": null,
            "padding": null,
            "right": null,
            "top": null,
            "visibility": null,
            "width": null
          }
        },
        "10e58005cc7b4c6cbb0491af98f703a2": {
          "model_module": "@jupyter-widgets/base",
          "model_name": "LayoutModel",
          "model_module_version": "1.2.0",
          "state": {
            "_model_module": "@jupyter-widgets/base",
            "_model_module_version": "1.2.0",
            "_model_name": "LayoutModel",
            "_view_count": null,
            "_view_module": "@jupyter-widgets/base",
            "_view_module_version": "1.2.0",
            "_view_name": "LayoutView",
            "align_content": null,
            "align_items": null,
            "align_self": null,
            "border": null,
            "bottom": null,
            "display": null,
            "flex": null,
            "flex_flow": null,
            "grid_area": null,
            "grid_auto_columns": null,
            "grid_auto_flow": null,
            "grid_auto_rows": null,
            "grid_column": null,
            "grid_gap": null,
            "grid_row": null,
            "grid_template_areas": null,
            "grid_template_columns": null,
            "grid_template_rows": null,
            "height": null,
            "justify_content": null,
            "justify_items": null,
            "left": null,
            "margin": null,
            "max_height": null,
            "max_width": null,
            "min_height": null,
            "min_width": null,
            "object_fit": null,
            "object_position": null,
            "order": null,
            "overflow": null,
            "overflow_x": null,
            "overflow_y": null,
            "padding": null,
            "right": null,
            "top": null,
            "visibility": null,
            "width": null
          }
        },
        "517e88c6ec4b4612a9aca71ab399e7a5": {
          "model_module": "@jupyter-widgets/controls",
          "model_name": "DescriptionStyleModel",
          "model_module_version": "1.5.0",
          "state": {
            "_model_module": "@jupyter-widgets/controls",
            "_model_module_version": "1.5.0",
            "_model_name": "DescriptionStyleModel",
            "_view_count": null,
            "_view_module": "@jupyter-widgets/base",
            "_view_module_version": "1.2.0",
            "_view_name": "StyleView",
            "description_width": ""
          }
        },
        "9dfa8f07a93741c38ad17ce8eafff442": {
          "model_module": "@jupyter-widgets/base",
          "model_name": "LayoutModel",
          "model_module_version": "1.2.0",
          "state": {
            "_model_module": "@jupyter-widgets/base",
            "_model_module_version": "1.2.0",
            "_model_name": "LayoutModel",
            "_view_count": null,
            "_view_module": "@jupyter-widgets/base",
            "_view_module_version": "1.2.0",
            "_view_name": "LayoutView",
            "align_content": null,
            "align_items": null,
            "align_self": null,
            "border": null,
            "bottom": null,
            "display": null,
            "flex": null,
            "flex_flow": null,
            "grid_area": null,
            "grid_auto_columns": null,
            "grid_auto_flow": null,
            "grid_auto_rows": null,
            "grid_column": null,
            "grid_gap": null,
            "grid_row": null,
            "grid_template_areas": null,
            "grid_template_columns": null,
            "grid_template_rows": null,
            "height": null,
            "justify_content": null,
            "justify_items": null,
            "left": null,
            "margin": null,
            "max_height": null,
            "max_width": null,
            "min_height": null,
            "min_width": null,
            "object_fit": null,
            "object_position": null,
            "order": null,
            "overflow": null,
            "overflow_x": null,
            "overflow_y": null,
            "padding": null,
            "right": null,
            "top": null,
            "visibility": null,
            "width": null
          }
        },
        "da85ece4dc3f4d4a8b276b2eb6919686": {
          "model_module": "@jupyter-widgets/controls",
          "model_name": "ProgressStyleModel",
          "model_module_version": "1.5.0",
          "state": {
            "_model_module": "@jupyter-widgets/controls",
            "_model_module_version": "1.5.0",
            "_model_name": "ProgressStyleModel",
            "_view_count": null,
            "_view_module": "@jupyter-widgets/base",
            "_view_module_version": "1.2.0",
            "_view_name": "StyleView",
            "bar_color": null,
            "description_width": ""
          }
        },
        "dc9d3de450c24e899f14234fcb47e16e": {
          "model_module": "@jupyter-widgets/base",
          "model_name": "LayoutModel",
          "model_module_version": "1.2.0",
          "state": {
            "_model_module": "@jupyter-widgets/base",
            "_model_module_version": "1.2.0",
            "_model_name": "LayoutModel",
            "_view_count": null,
            "_view_module": "@jupyter-widgets/base",
            "_view_module_version": "1.2.0",
            "_view_name": "LayoutView",
            "align_content": null,
            "align_items": null,
            "align_self": null,
            "border": null,
            "bottom": null,
            "display": null,
            "flex": null,
            "flex_flow": null,
            "grid_area": null,
            "grid_auto_columns": null,
            "grid_auto_flow": null,
            "grid_auto_rows": null,
            "grid_column": null,
            "grid_gap": null,
            "grid_row": null,
            "grid_template_areas": null,
            "grid_template_columns": null,
            "grid_template_rows": null,
            "height": null,
            "justify_content": null,
            "justify_items": null,
            "left": null,
            "margin": null,
            "max_height": null,
            "max_width": null,
            "min_height": null,
            "min_width": null,
            "object_fit": null,
            "object_position": null,
            "order": null,
            "overflow": null,
            "overflow_x": null,
            "overflow_y": null,
            "padding": null,
            "right": null,
            "top": null,
            "visibility": null,
            "width": null
          }
        },
        "ed740d49be8f4f7c8015608d3054ee9c": {
          "model_module": "@jupyter-widgets/controls",
          "model_name": "DescriptionStyleModel",
          "model_module_version": "1.5.0",
          "state": {
            "_model_module": "@jupyter-widgets/controls",
            "_model_module_version": "1.5.0",
            "_model_name": "DescriptionStyleModel",
            "_view_count": null,
            "_view_module": "@jupyter-widgets/base",
            "_view_module_version": "1.2.0",
            "_view_name": "StyleView",
            "description_width": ""
          }
        },
        "f777a18332c24a189578b6b6412073d7": {
          "model_module": "@jupyter-widgets/controls",
          "model_name": "HBoxModel",
          "model_module_version": "1.5.0",
          "state": {
            "_dom_classes": [],
            "_model_module": "@jupyter-widgets/controls",
            "_model_module_version": "1.5.0",
            "_model_name": "HBoxModel",
            "_view_count": null,
            "_view_module": "@jupyter-widgets/controls",
            "_view_module_version": "1.5.0",
            "_view_name": "HBoxView",
            "box_style": "",
            "children": [
              "IPY_MODEL_0f9b73bbb02542b090eccd08ffc0bacb",
              "IPY_MODEL_642013785df2465bae6edb100bf0fc4e",
              "IPY_MODEL_523c6fffa61444b0b0ecd179a705cfdd"
            ],
            "layout": "IPY_MODEL_63a77e86a3e74729957c155b96f4d855"
          }
        },
        "0f9b73bbb02542b090eccd08ffc0bacb": {
          "model_module": "@jupyter-widgets/controls",
          "model_name": "HTMLModel",
          "model_module_version": "1.5.0",
          "state": {
            "_dom_classes": [],
            "_model_module": "@jupyter-widgets/controls",
            "_model_module_version": "1.5.0",
            "_model_name": "HTMLModel",
            "_view_count": null,
            "_view_module": "@jupyter-widgets/controls",
            "_view_module_version": "1.5.0",
            "_view_name": "HTMLView",
            "description": "",
            "description_tooltip": null,
            "layout": "IPY_MODEL_a463f5421fab4207802f25016059f62f",
            "placeholder": "​",
            "style": "IPY_MODEL_698ff217417f4bbca5c966261a94041d",
            "value": "tokenizer.json: 100%"
          }
        },
        "642013785df2465bae6edb100bf0fc4e": {
          "model_module": "@jupyter-widgets/controls",
          "model_name": "FloatProgressModel",
          "model_module_version": "1.5.0",
          "state": {
            "_dom_classes": [],
            "_model_module": "@jupyter-widgets/controls",
            "_model_module_version": "1.5.0",
            "_model_name": "FloatProgressModel",
            "_view_count": null,
            "_view_module": "@jupyter-widgets/controls",
            "_view_module_version": "1.5.0",
            "_view_name": "ProgressView",
            "bar_style": "success",
            "description": "",
            "description_tooltip": null,
            "layout": "IPY_MODEL_5ee84b066d014c6fa3deaf9542e1a3c4",
            "max": 1795303,
            "min": 0,
            "orientation": "horizontal",
            "style": "IPY_MODEL_f1d2a81f13214c9584bab8d9ad288f56",
            "value": 1795303
          }
        },
        "523c6fffa61444b0b0ecd179a705cfdd": {
          "model_module": "@jupyter-widgets/controls",
          "model_name": "HTMLModel",
          "model_module_version": "1.5.0",
          "state": {
            "_dom_classes": [],
            "_model_module": "@jupyter-widgets/controls",
            "_model_module_version": "1.5.0",
            "_model_name": "HTMLModel",
            "_view_count": null,
            "_view_module": "@jupyter-widgets/controls",
            "_view_module_version": "1.5.0",
            "_view_name": "HTMLView",
            "description": "",
            "description_tooltip": null,
            "layout": "IPY_MODEL_babcba4332ce4da9bd9974e92504cfce",
            "placeholder": "​",
            "style": "IPY_MODEL_b54eb18a434c45578c910fbb448dbb7a",
            "value": " 1.80M/1.80M [00:00&lt;00:00, 22.4MB/s]"
          }
        },
        "63a77e86a3e74729957c155b96f4d855": {
          "model_module": "@jupyter-widgets/base",
          "model_name": "LayoutModel",
          "model_module_version": "1.2.0",
          "state": {
            "_model_module": "@jupyter-widgets/base",
            "_model_module_version": "1.2.0",
            "_model_name": "LayoutModel",
            "_view_count": null,
            "_view_module": "@jupyter-widgets/base",
            "_view_module_version": "1.2.0",
            "_view_name": "LayoutView",
            "align_content": null,
            "align_items": null,
            "align_self": null,
            "border": null,
            "bottom": null,
            "display": null,
            "flex": null,
            "flex_flow": null,
            "grid_area": null,
            "grid_auto_columns": null,
            "grid_auto_flow": null,
            "grid_auto_rows": null,
            "grid_column": null,
            "grid_gap": null,
            "grid_row": null,
            "grid_template_areas": null,
            "grid_template_columns": null,
            "grid_template_rows": null,
            "height": null,
            "justify_content": null,
            "justify_items": null,
            "left": null,
            "margin": null,
            "max_height": null,
            "max_width": null,
            "min_height": null,
            "min_width": null,
            "object_fit": null,
            "object_position": null,
            "order": null,
            "overflow": null,
            "overflow_x": null,
            "overflow_y": null,
            "padding": null,
            "right": null,
            "top": null,
            "visibility": null,
            "width": null
          }
        },
        "a463f5421fab4207802f25016059f62f": {
          "model_module": "@jupyter-widgets/base",
          "model_name": "LayoutModel",
          "model_module_version": "1.2.0",
          "state": {
            "_model_module": "@jupyter-widgets/base",
            "_model_module_version": "1.2.0",
            "_model_name": "LayoutModel",
            "_view_count": null,
            "_view_module": "@jupyter-widgets/base",
            "_view_module_version": "1.2.0",
            "_view_name": "LayoutView",
            "align_content": null,
            "align_items": null,
            "align_self": null,
            "border": null,
            "bottom": null,
            "display": null,
            "flex": null,
            "flex_flow": null,
            "grid_area": null,
            "grid_auto_columns": null,
            "grid_auto_flow": null,
            "grid_auto_rows": null,
            "grid_column": null,
            "grid_gap": null,
            "grid_row": null,
            "grid_template_areas": null,
            "grid_template_columns": null,
            "grid_template_rows": null,
            "height": null,
            "justify_content": null,
            "justify_items": null,
            "left": null,
            "margin": null,
            "max_height": null,
            "max_width": null,
            "min_height": null,
            "min_width": null,
            "object_fit": null,
            "object_position": null,
            "order": null,
            "overflow": null,
            "overflow_x": null,
            "overflow_y": null,
            "padding": null,
            "right": null,
            "top": null,
            "visibility": null,
            "width": null
          }
        },
        "698ff217417f4bbca5c966261a94041d": {
          "model_module": "@jupyter-widgets/controls",
          "model_name": "DescriptionStyleModel",
          "model_module_version": "1.5.0",
          "state": {
            "_model_module": "@jupyter-widgets/controls",
            "_model_module_version": "1.5.0",
            "_model_name": "DescriptionStyleModel",
            "_view_count": null,
            "_view_module": "@jupyter-widgets/base",
            "_view_module_version": "1.2.0",
            "_view_name": "StyleView",
            "description_width": ""
          }
        },
        "5ee84b066d014c6fa3deaf9542e1a3c4": {
          "model_module": "@jupyter-widgets/base",
          "model_name": "LayoutModel",
          "model_module_version": "1.2.0",
          "state": {
            "_model_module": "@jupyter-widgets/base",
            "_model_module_version": "1.2.0",
            "_model_name": "LayoutModel",
            "_view_count": null,
            "_view_module": "@jupyter-widgets/base",
            "_view_module_version": "1.2.0",
            "_view_name": "LayoutView",
            "align_content": null,
            "align_items": null,
            "align_self": null,
            "border": null,
            "bottom": null,
            "display": null,
            "flex": null,
            "flex_flow": null,
            "grid_area": null,
            "grid_auto_columns": null,
            "grid_auto_flow": null,
            "grid_auto_rows": null,
            "grid_column": null,
            "grid_gap": null,
            "grid_row": null,
            "grid_template_areas": null,
            "grid_template_columns": null,
            "grid_template_rows": null,
            "height": null,
            "justify_content": null,
            "justify_items": null,
            "left": null,
            "margin": null,
            "max_height": null,
            "max_width": null,
            "min_height": null,
            "min_width": null,
            "object_fit": null,
            "object_position": null,
            "order": null,
            "overflow": null,
            "overflow_x": null,
            "overflow_y": null,
            "padding": null,
            "right": null,
            "top": null,
            "visibility": null,
            "width": null
          }
        },
        "f1d2a81f13214c9584bab8d9ad288f56": {
          "model_module": "@jupyter-widgets/controls",
          "model_name": "ProgressStyleModel",
          "model_module_version": "1.5.0",
          "state": {
            "_model_module": "@jupyter-widgets/controls",
            "_model_module_version": "1.5.0",
            "_model_name": "ProgressStyleModel",
            "_view_count": null,
            "_view_module": "@jupyter-widgets/base",
            "_view_module_version": "1.2.0",
            "_view_name": "StyleView",
            "bar_color": null,
            "description_width": ""
          }
        },
        "babcba4332ce4da9bd9974e92504cfce": {
          "model_module": "@jupyter-widgets/base",
          "model_name": "LayoutModel",
          "model_module_version": "1.2.0",
          "state": {
            "_model_module": "@jupyter-widgets/base",
            "_model_module_version": "1.2.0",
            "_model_name": "LayoutModel",
            "_view_count": null,
            "_view_module": "@jupyter-widgets/base",
            "_view_module_version": "1.2.0",
            "_view_name": "LayoutView",
            "align_content": null,
            "align_items": null,
            "align_self": null,
            "border": null,
            "bottom": null,
            "display": null,
            "flex": null,
            "flex_flow": null,
            "grid_area": null,
            "grid_auto_columns": null,
            "grid_auto_flow": null,
            "grid_auto_rows": null,
            "grid_column": null,
            "grid_gap": null,
            "grid_row": null,
            "grid_template_areas": null,
            "grid_template_columns": null,
            "grid_template_rows": null,
            "height": null,
            "justify_content": null,
            "justify_items": null,
            "left": null,
            "margin": null,
            "max_height": null,
            "max_width": null,
            "min_height": null,
            "min_width": null,
            "object_fit": null,
            "object_position": null,
            "order": null,
            "overflow": null,
            "overflow_x": null,
            "overflow_y": null,
            "padding": null,
            "right": null,
            "top": null,
            "visibility": null,
            "width": null
          }
        },
        "b54eb18a434c45578c910fbb448dbb7a": {
          "model_module": "@jupyter-widgets/controls",
          "model_name": "DescriptionStyleModel",
          "model_module_version": "1.5.0",
          "state": {
            "_model_module": "@jupyter-widgets/controls",
            "_model_module_version": "1.5.0",
            "_model_name": "DescriptionStyleModel",
            "_view_count": null,
            "_view_module": "@jupyter-widgets/base",
            "_view_module_version": "1.2.0",
            "_view_name": "StyleView",
            "description_width": ""
          }
        },
        "e162035cb90f4094bf3a4686056cc84e": {
          "model_module": "@jupyter-widgets/controls",
          "model_name": "HBoxModel",
          "model_module_version": "1.5.0",
          "state": {
            "_dom_classes": [],
            "_model_module": "@jupyter-widgets/controls",
            "_model_module_version": "1.5.0",
            "_model_name": "HBoxModel",
            "_view_count": null,
            "_view_module": "@jupyter-widgets/controls",
            "_view_module_version": "1.5.0",
            "_view_name": "HBoxView",
            "box_style": "",
            "children": [
              "IPY_MODEL_ea0fcd38e947469c9a57192691d4fa71",
              "IPY_MODEL_8fb3139a2a9f44fa89645cafabba2cd0",
              "IPY_MODEL_56dada06e7d3411480f56a1edf82680b"
            ],
            "layout": "IPY_MODEL_474dcdaebba8424fb63aa2d85671bbd0"
          }
        },
        "ea0fcd38e947469c9a57192691d4fa71": {
          "model_module": "@jupyter-widgets/controls",
          "model_name": "HTMLModel",
          "model_module_version": "1.5.0",
          "state": {
            "_dom_classes": [],
            "_model_module": "@jupyter-widgets/controls",
            "_model_module_version": "1.5.0",
            "_model_name": "HTMLModel",
            "_view_count": null,
            "_view_module": "@jupyter-widgets/controls",
            "_view_module_version": "1.5.0",
            "_view_name": "HTMLView",
            "description": "",
            "description_tooltip": null,
            "layout": "IPY_MODEL_2b19d305b881408eaf0757f3b679f8ec",
            "placeholder": "​",
            "style": "IPY_MODEL_cc442ee8323a483da5adb2f1de16747d",
            "value": "special_tokens_map.json: 100%"
          }
        },
        "8fb3139a2a9f44fa89645cafabba2cd0": {
          "model_module": "@jupyter-widgets/controls",
          "model_name": "FloatProgressModel",
          "model_module_version": "1.5.0",
          "state": {
            "_dom_classes": [],
            "_model_module": "@jupyter-widgets/controls",
            "_model_module_version": "1.5.0",
            "_model_name": "FloatProgressModel",
            "_view_count": null,
            "_view_module": "@jupyter-widgets/controls",
            "_view_module_version": "1.5.0",
            "_view_name": "ProgressView",
            "bar_style": "success",
            "description": "",
            "description_tooltip": null,
            "layout": "IPY_MODEL_5d812fb3e49441d5b97d6485cb79259c",
            "max": 72,
            "min": 0,
            "orientation": "horizontal",
            "style": "IPY_MODEL_a686cc3e1e694359b710f52c428f1f59",
            "value": 72
          }
        },
        "56dada06e7d3411480f56a1edf82680b": {
          "model_module": "@jupyter-widgets/controls",
          "model_name": "HTMLModel",
          "model_module_version": "1.5.0",
          "state": {
            "_dom_classes": [],
            "_model_module": "@jupyter-widgets/controls",
            "_model_module_version": "1.5.0",
            "_model_name": "HTMLModel",
            "_view_count": null,
            "_view_module": "@jupyter-widgets/controls",
            "_view_module_version": "1.5.0",
            "_view_name": "HTMLView",
            "description": "",
            "description_tooltip": null,
            "layout": "IPY_MODEL_9afa47aa322d4c3c89d3ec2be3971540",
            "placeholder": "​",
            "style": "IPY_MODEL_32c0c2ff66644b01a103f30e816d9a0d",
            "value": " 72.0/72.0 [00:00&lt;00:00, 3.34kB/s]"
          }
        },
        "474dcdaebba8424fb63aa2d85671bbd0": {
          "model_module": "@jupyter-widgets/base",
          "model_name": "LayoutModel",
          "model_module_version": "1.2.0",
          "state": {
            "_model_module": "@jupyter-widgets/base",
            "_model_module_version": "1.2.0",
            "_model_name": "LayoutModel",
            "_view_count": null,
            "_view_module": "@jupyter-widgets/base",
            "_view_module_version": "1.2.0",
            "_view_name": "LayoutView",
            "align_content": null,
            "align_items": null,
            "align_self": null,
            "border": null,
            "bottom": null,
            "display": null,
            "flex": null,
            "flex_flow": null,
            "grid_area": null,
            "grid_auto_columns": null,
            "grid_auto_flow": null,
            "grid_auto_rows": null,
            "grid_column": null,
            "grid_gap": null,
            "grid_row": null,
            "grid_template_areas": null,
            "grid_template_columns": null,
            "grid_template_rows": null,
            "height": null,
            "justify_content": null,
            "justify_items": null,
            "left": null,
            "margin": null,
            "max_height": null,
            "max_width": null,
            "min_height": null,
            "min_width": null,
            "object_fit": null,
            "object_position": null,
            "order": null,
            "overflow": null,
            "overflow_x": null,
            "overflow_y": null,
            "padding": null,
            "right": null,
            "top": null,
            "visibility": null,
            "width": null
          }
        },
        "2b19d305b881408eaf0757f3b679f8ec": {
          "model_module": "@jupyter-widgets/base",
          "model_name": "LayoutModel",
          "model_module_version": "1.2.0",
          "state": {
            "_model_module": "@jupyter-widgets/base",
            "_model_module_version": "1.2.0",
            "_model_name": "LayoutModel",
            "_view_count": null,
            "_view_module": "@jupyter-widgets/base",
            "_view_module_version": "1.2.0",
            "_view_name": "LayoutView",
            "align_content": null,
            "align_items": null,
            "align_self": null,
            "border": null,
            "bottom": null,
            "display": null,
            "flex": null,
            "flex_flow": null,
            "grid_area": null,
            "grid_auto_columns": null,
            "grid_auto_flow": null,
            "grid_auto_rows": null,
            "grid_column": null,
            "grid_gap": null,
            "grid_row": null,
            "grid_template_areas": null,
            "grid_template_columns": null,
            "grid_template_rows": null,
            "height": null,
            "justify_content": null,
            "justify_items": null,
            "left": null,
            "margin": null,
            "max_height": null,
            "max_width": null,
            "min_height": null,
            "min_width": null,
            "object_fit": null,
            "object_position": null,
            "order": null,
            "overflow": null,
            "overflow_x": null,
            "overflow_y": null,
            "padding": null,
            "right": null,
            "top": null,
            "visibility": null,
            "width": null
          }
        },
        "cc442ee8323a483da5adb2f1de16747d": {
          "model_module": "@jupyter-widgets/controls",
          "model_name": "DescriptionStyleModel",
          "model_module_version": "1.5.0",
          "state": {
            "_model_module": "@jupyter-widgets/controls",
            "_model_module_version": "1.5.0",
            "_model_name": "DescriptionStyleModel",
            "_view_count": null,
            "_view_module": "@jupyter-widgets/base",
            "_view_module_version": "1.2.0",
            "_view_name": "StyleView",
            "description_width": ""
          }
        },
        "5d812fb3e49441d5b97d6485cb79259c": {
          "model_module": "@jupyter-widgets/base",
          "model_name": "LayoutModel",
          "model_module_version": "1.2.0",
          "state": {
            "_model_module": "@jupyter-widgets/base",
            "_model_module_version": "1.2.0",
            "_model_name": "LayoutModel",
            "_view_count": null,
            "_view_module": "@jupyter-widgets/base",
            "_view_module_version": "1.2.0",
            "_view_name": "LayoutView",
            "align_content": null,
            "align_items": null,
            "align_self": null,
            "border": null,
            "bottom": null,
            "display": null,
            "flex": null,
            "flex_flow": null,
            "grid_area": null,
            "grid_auto_columns": null,
            "grid_auto_flow": null,
            "grid_auto_rows": null,
            "grid_column": null,
            "grid_gap": null,
            "grid_row": null,
            "grid_template_areas": null,
            "grid_template_columns": null,
            "grid_template_rows": null,
            "height": null,
            "justify_content": null,
            "justify_items": null,
            "left": null,
            "margin": null,
            "max_height": null,
            "max_width": null,
            "min_height": null,
            "min_width": null,
            "object_fit": null,
            "object_position": null,
            "order": null,
            "overflow": null,
            "overflow_x": null,
            "overflow_y": null,
            "padding": null,
            "right": null,
            "top": null,
            "visibility": null,
            "width": null
          }
        },
        "a686cc3e1e694359b710f52c428f1f59": {
          "model_module": "@jupyter-widgets/controls",
          "model_name": "ProgressStyleModel",
          "model_module_version": "1.5.0",
          "state": {
            "_model_module": "@jupyter-widgets/controls",
            "_model_module_version": "1.5.0",
            "_model_name": "ProgressStyleModel",
            "_view_count": null,
            "_view_module": "@jupyter-widgets/base",
            "_view_module_version": "1.2.0",
            "_view_name": "StyleView",
            "bar_color": null,
            "description_width": ""
          }
        },
        "9afa47aa322d4c3c89d3ec2be3971540": {
          "model_module": "@jupyter-widgets/base",
          "model_name": "LayoutModel",
          "model_module_version": "1.2.0",
          "state": {
            "_model_module": "@jupyter-widgets/base",
            "_model_module_version": "1.2.0",
            "_model_name": "LayoutModel",
            "_view_count": null,
            "_view_module": "@jupyter-widgets/base",
            "_view_module_version": "1.2.0",
            "_view_name": "LayoutView",
            "align_content": null,
            "align_items": null,
            "align_self": null,
            "border": null,
            "bottom": null,
            "display": null,
            "flex": null,
            "flex_flow": null,
            "grid_area": null,
            "grid_auto_columns": null,
            "grid_auto_flow": null,
            "grid_auto_rows": null,
            "grid_column": null,
            "grid_gap": null,
            "grid_row": null,
            "grid_template_areas": null,
            "grid_template_columns": null,
            "grid_template_rows": null,
            "height": null,
            "justify_content": null,
            "justify_items": null,
            "left": null,
            "margin": null,
            "max_height": null,
            "max_width": null,
            "min_height": null,
            "min_width": null,
            "object_fit": null,
            "object_position": null,
            "order": null,
            "overflow": null,
            "overflow_x": null,
            "overflow_y": null,
            "padding": null,
            "right": null,
            "top": null,
            "visibility": null,
            "width": null
          }
        },
        "32c0c2ff66644b01a103f30e816d9a0d": {
          "model_module": "@jupyter-widgets/controls",
          "model_name": "DescriptionStyleModel",
          "model_module_version": "1.5.0",
          "state": {
            "_model_module": "@jupyter-widgets/controls",
            "_model_module_version": "1.5.0",
            "_model_name": "DescriptionStyleModel",
            "_view_count": null,
            "_view_module": "@jupyter-widgets/base",
            "_view_module_version": "1.2.0",
            "_view_name": "StyleView",
            "description_width": ""
          }
        }
      }
    }
  },
  "nbformat": 4,
  "nbformat_minor": 0
}