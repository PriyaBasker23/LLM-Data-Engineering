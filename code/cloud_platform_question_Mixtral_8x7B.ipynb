{
  "cells": [
    {
      "cell_type": "markdown",
      "source": [
        "# Mixtral-8x7B-Instruct-v0.1 + Haystack: build RAG pipelines🤘\n",
        "\n",
        "###  Retrieval Augmented Generation pipeline , using the new powerful [Mixtral-8x7B-Instruct-v0.1](https://huggingface.co/blog/mixtral/) and [Haystack](https://github.com/deepset-ai/haystack) LLM orchestration framework.\n",
        "\n",
        "\n",
        "\n",
        "<img src=\"https://codeandhack.com/wp-content/uploads/2023/12/Mixtral-8x7B-SMoE-Model.jpeg\" width=\"270\" style=\"display:inline;\">&nbsp;&nbsp;&nbsp;&nbsp;&nbsp;&nbsp;<img src=\"https://haystack.deepset.ai/images/haystack-ogimage.png\" width=\"360\" style=\"display:inline;\">"
      ],
      "metadata": {
        "id": "56jUIjtnfClE"
      }
    },
    {
      "cell_type": "code",
      "execution_count": null,
      "metadata": {
        "id": "elvzyj3L1dcV",
        "colab": {
          "base_uri": "https://localhost:8080/",
          "height": 1000
        },
        "outputId": "5524557a-6168-4395-844c-e8ce530f067d"
      },
      "outputs": [
        {
          "output_type": "stream",
          "name": "stdout",
          "text": [
            "Collecting farm-haystack[colab]\n",
            "  Downloading farm_haystack-1.23.0-py3-none-any.whl (764 kB)\n",
            "\u001b[2K     \u001b[90m━━━━━━━━━━━━━━━━━━━━━━━━━━━━━━━━━━━━━━━━\u001b[0m \u001b[32m764.4/764.4 kB\u001b[0m \u001b[31m4.0 MB/s\u001b[0m eta \u001b[36m0:00:00\u001b[0m\n",
            "\u001b[?25hCollecting boilerpy3 (from farm-haystack[colab])\n",
            "  Downloading boilerpy3-1.0.7-py3-none-any.whl (22 kB)\n",
            "Collecting events (from farm-haystack[colab])\n",
            "  Downloading Events-0.5-py3-none-any.whl (6.8 kB)\n",
            "Collecting httpx (from farm-haystack[colab])\n",
            "  Downloading httpx-0.26.0-py3-none-any.whl (75 kB)\n",
            "\u001b[2K     \u001b[90m━━━━━━━━━━━━━━━━━━━━━━━━━━━━━━━━━━━━━━━━\u001b[0m \u001b[32m75.9/75.9 kB\u001b[0m \u001b[31m11.6 MB/s\u001b[0m eta \u001b[36m0:00:00\u001b[0m\n",
            "\u001b[?25hRequirement already satisfied: jsonschema in /usr/local/lib/python3.10/dist-packages (from farm-haystack[colab]) (4.19.2)\n",
            "Collecting lazy-imports==0.3.1 (from farm-haystack[colab])\n",
            "  Downloading lazy_imports-0.3.1-py3-none-any.whl (12 kB)\n",
            "Requirement already satisfied: more-itertools in /usr/local/lib/python3.10/dist-packages (from farm-haystack[colab]) (10.1.0)\n",
            "Requirement already satisfied: networkx in /usr/local/lib/python3.10/dist-packages (from farm-haystack[colab]) (3.2.1)\n",
            "Requirement already satisfied: pandas in /usr/local/lib/python3.10/dist-packages (from farm-haystack[colab]) (1.5.3)\n",
            "Requirement already satisfied: pillow in /usr/local/lib/python3.10/dist-packages (from farm-haystack[colab]) (9.4.0)\n",
            "Requirement already satisfied: platformdirs in /usr/local/lib/python3.10/dist-packages (from farm-haystack[colab]) (4.1.0)\n",
            "Collecting posthog (from farm-haystack[colab])\n",
            "  Downloading posthog-3.1.0-py2.py3-none-any.whl (37 kB)\n",
            "Collecting prompthub-py==4.0.0 (from farm-haystack[colab])\n",
            "  Downloading prompthub_py-4.0.0-py3-none-any.whl (6.9 kB)\n",
            "Requirement already satisfied: pydantic<2 in /usr/local/lib/python3.10/dist-packages (from farm-haystack[colab]) (1.10.13)\n",
            "Collecting quantulum3 (from farm-haystack[colab])\n",
            "  Downloading quantulum3-0.9.0-py3-none-any.whl (10.7 MB)\n",
            "\u001b[2K     \u001b[90m━━━━━━━━━━━━━━━━━━━━━━━━━━━━━━━━━━━━━━━━\u001b[0m \u001b[32m10.7/10.7 MB\u001b[0m \u001b[31m47.5 MB/s\u001b[0m eta \u001b[36m0:00:00\u001b[0m\n",
            "\u001b[?25hCollecting rank-bm25 (from farm-haystack[colab])\n",
            "  Downloading rank_bm25-0.2.2-py3-none-any.whl (8.6 kB)\n",
            "Requirement already satisfied: requests in /usr/local/lib/python3.10/dist-packages (from farm-haystack[colab]) (2.31.0)\n",
            "Collecting requests-cache<1.0.0 (from farm-haystack[colab])\n",
            "  Downloading requests_cache-0.9.8-py3-none-any.whl (48 kB)\n",
            "\u001b[2K     \u001b[90m━━━━━━━━━━━━━━━━━━━━━━━━━━━━━━━━━━━━━━━━\u001b[0m \u001b[32m48.7/48.7 kB\u001b[0m \u001b[31m7.8 MB/s\u001b[0m eta \u001b[36m0:00:00\u001b[0m\n",
            "\u001b[?25hCollecting scikit-learn>=1.3.0 (from farm-haystack[colab])\n",
            "  Downloading scikit_learn-1.3.2-cp310-cp310-manylinux_2_17_x86_64.manylinux2014_x86_64.whl (10.8 MB)\n",
            "\u001b[2K     \u001b[90m━━━━━━━━━━━━━━━━━━━━━━━━━━━━━━━━━━━━━━━━\u001b[0m \u001b[32m10.8/10.8 MB\u001b[0m \u001b[31m45.9 MB/s\u001b[0m eta \u001b[36m0:00:00\u001b[0m\n",
            "\u001b[?25hCollecting sseclient-py (from farm-haystack[colab])\n",
            "  Downloading sseclient_py-1.8.0-py2.py3-none-any.whl (8.8 kB)\n",
            "Requirement already satisfied: tenacity in /usr/local/lib/python3.10/dist-packages (from farm-haystack[colab]) (8.2.3)\n",
            "Collecting tiktoken>=0.5.1 (from farm-haystack[colab])\n",
            "  Downloading tiktoken-0.5.2-cp310-cp310-manylinux_2_17_x86_64.manylinux2014_x86_64.whl (2.0 MB)\n",
            "\u001b[2K     \u001b[90m━━━━━━━━━━━━━━━━━━━━━━━━━━━━━━━━━━━━━━━━\u001b[0m \u001b[32m2.0/2.0 MB\u001b[0m \u001b[31m75.7 MB/s\u001b[0m eta \u001b[36m0:00:00\u001b[0m\n",
            "\u001b[?25hRequirement already satisfied: tqdm in /usr/local/lib/python3.10/dist-packages (from farm-haystack[colab]) (4.66.1)\n",
            "Requirement already satisfied: transformers==4.35.2 in /usr/local/lib/python3.10/dist-packages (from farm-haystack[colab]) (4.35.2)\n",
            "Collecting pillow (from farm-haystack[colab])\n",
            "  Downloading Pillow-9.0.0-cp310-cp310-manylinux_2_17_x86_64.manylinux2014_x86_64.whl (4.3 MB)\n",
            "\u001b[2K     \u001b[90m━━━━━━━━━━━━━━━━━━━━━━━━━━━━━━━━━━━━━━━━\u001b[0m \u001b[32m4.3/4.3 MB\u001b[0m \u001b[31m60.2 MB/s\u001b[0m eta \u001b[36m0:00:00\u001b[0m\n",
            "\u001b[?25hRequirement already satisfied: pyyaml<7.0,>=6.0 in /usr/local/lib/python3.10/dist-packages (from prompthub-py==4.0.0->farm-haystack[colab]) (6.0.1)\n",
            "Requirement already satisfied: filelock in /usr/local/lib/python3.10/dist-packages (from transformers==4.35.2->farm-haystack[colab]) (3.13.1)\n",
            "Requirement already satisfied: huggingface-hub<1.0,>=0.16.4 in /usr/local/lib/python3.10/dist-packages (from transformers==4.35.2->farm-haystack[colab]) (0.20.1)\n",
            "Requirement already satisfied: numpy>=1.17 in /usr/local/lib/python3.10/dist-packages (from transformers==4.35.2->farm-haystack[colab]) (1.23.5)\n",
            "Requirement already satisfied: packaging>=20.0 in /usr/local/lib/python3.10/dist-packages (from transformers==4.35.2->farm-haystack[colab]) (23.2)\n",
            "Requirement already satisfied: regex!=2019.12.17 in /usr/local/lib/python3.10/dist-packages (from transformers==4.35.2->farm-haystack[colab]) (2023.6.3)\n",
            "Requirement already satisfied: tokenizers<0.19,>=0.14 in /usr/local/lib/python3.10/dist-packages (from transformers==4.35.2->farm-haystack[colab]) (0.15.0)\n",
            "Requirement already satisfied: safetensors>=0.3.1 in /usr/local/lib/python3.10/dist-packages (from transformers==4.35.2->farm-haystack[colab]) (0.4.1)\n",
            "Requirement already satisfied: typing-extensions>=4.2.0 in /usr/local/lib/python3.10/dist-packages (from pydantic<2->farm-haystack[colab]) (4.5.0)\n",
            "Requirement already satisfied: charset-normalizer<4,>=2 in /usr/local/lib/python3.10/dist-packages (from requests->farm-haystack[colab]) (3.3.2)\n",
            "Requirement already satisfied: idna<4,>=2.5 in /usr/local/lib/python3.10/dist-packages (from requests->farm-haystack[colab]) (3.6)\n",
            "Requirement already satisfied: urllib3<3,>=1.21.1 in /usr/local/lib/python3.10/dist-packages (from requests->farm-haystack[colab]) (2.0.7)\n",
            "Requirement already satisfied: certifi>=2017.4.17 in /usr/local/lib/python3.10/dist-packages (from requests->farm-haystack[colab]) (2023.11.17)\n",
            "Requirement already satisfied: appdirs>=1.4.4 in /usr/local/lib/python3.10/dist-packages (from requests-cache<1.0.0->farm-haystack[colab]) (1.4.4)\n",
            "Requirement already satisfied: attrs>=21.2 in /usr/local/lib/python3.10/dist-packages (from requests-cache<1.0.0->farm-haystack[colab]) (23.1.0)\n",
            "Collecting cattrs>=22.2 (from requests-cache<1.0.0->farm-haystack[colab])\n",
            "  Downloading cattrs-23.2.3-py3-none-any.whl (57 kB)\n",
            "\u001b[2K     \u001b[90m━━━━━━━━━━━━━━━━━━━━━━━━━━━━━━━━━━━━━━━━\u001b[0m \u001b[32m57.5/57.5 kB\u001b[0m \u001b[31m9.2 MB/s\u001b[0m eta \u001b[36m0:00:00\u001b[0m\n",
            "\u001b[?25hCollecting url-normalize>=1.4 (from requests-cache<1.0.0->farm-haystack[colab])\n",
            "  Downloading url_normalize-1.4.3-py2.py3-none-any.whl (6.8 kB)\n",
            "Requirement already satisfied: scipy>=1.5.0 in /usr/local/lib/python3.10/dist-packages (from scikit-learn>=1.3.0->farm-haystack[colab]) (1.11.4)\n",
            "Requirement already satisfied: joblib>=1.1.1 in /usr/local/lib/python3.10/dist-packages (from scikit-learn>=1.3.0->farm-haystack[colab]) (1.3.2)\n",
            "Requirement already satisfied: threadpoolctl>=2.0.0 in /usr/local/lib/python3.10/dist-packages (from scikit-learn>=1.3.0->farm-haystack[colab]) (3.2.0)\n",
            "Requirement already satisfied: anyio in /usr/local/lib/python3.10/dist-packages (from httpx->farm-haystack[colab]) (3.7.1)\n",
            "Collecting httpcore==1.* (from httpx->farm-haystack[colab])\n",
            "  Downloading httpcore-1.0.2-py3-none-any.whl (76 kB)\n",
            "\u001b[2K     \u001b[90m━━━━━━━━━━━━━━━━━━━━━━━━━━━━━━━━━━━━━━━━\u001b[0m \u001b[32m76.9/76.9 kB\u001b[0m \u001b[31m11.4 MB/s\u001b[0m eta \u001b[36m0:00:00\u001b[0m\n",
            "\u001b[?25hRequirement already satisfied: sniffio in /usr/local/lib/python3.10/dist-packages (from httpx->farm-haystack[colab]) (1.3.0)\n",
            "Collecting h11<0.15,>=0.13 (from httpcore==1.*->httpx->farm-haystack[colab])\n",
            "  Downloading h11-0.14.0-py3-none-any.whl (58 kB)\n",
            "\u001b[2K     \u001b[90m━━━━━━━━━━━━━━━━━━━━━━━━━━━━━━━━━━━━━━━━\u001b[0m \u001b[32m58.3/58.3 kB\u001b[0m \u001b[31m9.0 MB/s\u001b[0m eta \u001b[36m0:00:00\u001b[0m\n",
            "\u001b[?25hRequirement already satisfied: jsonschema-specifications>=2023.03.6 in /usr/local/lib/python3.10/dist-packages (from jsonschema->farm-haystack[colab]) (2023.11.2)\n",
            "Requirement already satisfied: referencing>=0.28.4 in /usr/local/lib/python3.10/dist-packages (from jsonschema->farm-haystack[colab]) (0.32.0)\n",
            "Requirement already satisfied: rpds-py>=0.7.1 in /usr/local/lib/python3.10/dist-packages (from jsonschema->farm-haystack[colab]) (0.15.2)\n",
            "Requirement already satisfied: python-dateutil>=2.8.1 in /usr/local/lib/python3.10/dist-packages (from pandas->farm-haystack[colab]) (2.8.2)\n",
            "Requirement already satisfied: pytz>=2020.1 in /usr/local/lib/python3.10/dist-packages (from pandas->farm-haystack[colab]) (2023.3.post1)\n",
            "Requirement already satisfied: six>=1.5 in /usr/local/lib/python3.10/dist-packages (from posthog->farm-haystack[colab]) (1.16.0)\n",
            "Collecting monotonic>=1.5 (from posthog->farm-haystack[colab])\n",
            "  Downloading monotonic-1.6-py2.py3-none-any.whl (8.2 kB)\n",
            "Collecting backoff>=1.10.0 (from posthog->farm-haystack[colab])\n",
            "  Downloading backoff-2.2.1-py3-none-any.whl (15 kB)\n",
            "Requirement already satisfied: inflect in /usr/local/lib/python3.10/dist-packages (from quantulum3->farm-haystack[colab]) (7.0.0)\n",
            "Collecting num2words (from quantulum3->farm-haystack[colab])\n",
            "  Downloading num2words-0.5.13-py3-none-any.whl (143 kB)\n",
            "\u001b[2K     \u001b[90m━━━━━━━━━━━━━━━━━━━━━━━━━━━━━━━━━━━━━━━━\u001b[0m \u001b[32m143.3/143.3 kB\u001b[0m \u001b[31m21.6 MB/s\u001b[0m eta \u001b[36m0:00:00\u001b[0m\n",
            "\u001b[?25hRequirement already satisfied: exceptiongroup>=1.1.1 in /usr/local/lib/python3.10/dist-packages (from cattrs>=22.2->requests-cache<1.0.0->farm-haystack[colab]) (1.2.0)\n",
            "Requirement already satisfied: fsspec>=2023.5.0 in /usr/local/lib/python3.10/dist-packages (from huggingface-hub<1.0,>=0.16.4->transformers==4.35.2->farm-haystack[colab]) (2023.6.0)\n",
            "Collecting docopt>=0.6.2 (from num2words->quantulum3->farm-haystack[colab])\n",
            "  Downloading docopt-0.6.2.tar.gz (25 kB)\n",
            "  Preparing metadata (setup.py) ... \u001b[?25l\u001b[?25hdone\n",
            "Building wheels for collected packages: docopt\n",
            "  Building wheel for docopt (setup.py) ... \u001b[?25l\u001b[?25hdone\n",
            "  Created wheel for docopt: filename=docopt-0.6.2-py2.py3-none-any.whl size=13706 sha256=6c8d2d4ecfd74a4e0ae6c60ef05db7e4ac6fb1d1f28b1a1c0854ae3ddcd4a254\n",
            "  Stored in directory: /root/.cache/pip/wheels/fc/ab/d4/5da2067ac95b36618c629a5f93f809425700506f72c9732fac\n",
            "Successfully built docopt\n",
            "Installing collected packages: sseclient-py, monotonic, events, docopt, url-normalize, rank-bm25, pillow, num2words, lazy-imports, h11, cattrs, boilerpy3, backoff, tiktoken, scikit-learn, requests-cache, prompthub-py, posthog, httpcore, quantulum3, httpx, farm-haystack\n",
            "  Attempting uninstall: pillow\n",
            "    Found existing installation: Pillow 9.4.0\n",
            "    Uninstalling Pillow-9.4.0:\n",
            "      Successfully uninstalled Pillow-9.4.0\n",
            "  Attempting uninstall: scikit-learn\n",
            "    Found existing installation: scikit-learn 1.2.2\n",
            "    Uninstalling scikit-learn-1.2.2:\n",
            "      Successfully uninstalled scikit-learn-1.2.2\n",
            "\u001b[31mERROR: pip's dependency resolver does not currently take into account all the packages that are installed. This behaviour is the source of the following dependency conflicts.\n",
            "llmx 0.0.15a0 requires cohere, which is not installed.\n",
            "llmx 0.0.15a0 requires openai, which is not installed.\u001b[0m\u001b[31m\n",
            "\u001b[0mSuccessfully installed backoff-2.2.1 boilerpy3-1.0.7 cattrs-23.2.3 docopt-0.6.2 events-0.5 farm-haystack-1.23.0 h11-0.14.0 httpcore-1.0.2 httpx-0.26.0 lazy-imports-0.3.1 monotonic-1.6 num2words-0.5.13 pillow-9.0.0 posthog-3.1.0 prompthub-py-4.0.0 quantulum3-0.9.0 rank-bm25-0.2.2 requests-cache-0.9.8 scikit-learn-1.3.2 sseclient-py-1.8.0 tiktoken-0.5.2 url-normalize-1.4.3\n"
          ]
        },
        {
          "output_type": "display_data",
          "data": {
            "application/vnd.colab-display-data+json": {
              "pip_warning": {
                "packages": [
                  "PIL"
                ]
              }
            }
          },
          "metadata": {}
        }
      ],
      "source": [
        "#%%capture\n",
        "\n",
        "!pip install farm-haystack[colab]"
      ]
    },
    {
      "cell_type": "code",
      "execution_count": null,
      "metadata": {
        "id": "gJ4tvE-hKarh"
      },
      "outputs": [],
      "source": [
        "\n",
        "HF_TOKEN = \"\"\n",
        "#Get code from Hugging face"
      ]
    },
    {
      "cell_type": "markdown",
      "source": [
        "`from haystack.nodes import PreProcessor` with this we get preprocessing functionality to prepare our data.\n",
        "\n",
        "`from haystack.nodes import PromptModel` gives  access to the functions of the prompt model.\n",
        "\n",
        "`from haystack.nodes import PromptTemplate` provides  the flexibility to define custom prompt templates."
      ],
      "metadata": {
        "id": "OtpsyfoeQ8aN"
      }
    },
    {
      "cell_type": "code",
      "execution_count": null,
      "metadata": {
        "id": "Spblp58SW0nH"
      },
      "outputs": [],
      "source": [
        "from haystack.nodes import PreProcessor,PromptModel, PromptTemplate, PromptNode"
      ]
    },
    {
      "cell_type": "code",
      "source": [
        "start_url =\"https://user-guide.cloud-platform.service.justice.gov.uk/\""
      ],
      "metadata": {
        "id": "evy6SAl1gWu1"
      },
      "execution_count": null,
      "outputs": []
    },
    {
      "cell_type": "code",
      "source": [
        "import requests\n",
        "from bs4 import BeautifulSoup\n",
        "\n",
        "from urllib.parse import urljoin, urlparse\n",
        "\n",
        "visited_urls = set()\n",
        "\n",
        "def scrape_page(url, depth=0, max_depth=1, all_texts=[]):\n",
        "    if depth > max_depth or url in visited_urls:\n",
        "        return all_texts\n",
        "\n",
        "    visited_urls.add(url)\n",
        "#     print(url)\n",
        "\n",
        "    try:\n",
        "        page = requests.get(url)\n",
        "        page.raise_for_status()\n",
        "    except requests.RequestException as e:\n",
        "        print(f\"Request failed: {e}\")\n",
        "        return all_texts\n",
        "\n",
        "    soup = BeautifulSoup(page.content, 'html.parser')\n",
        "    text = soup.get_text(separator=' ', strip=True)\n",
        "    all_texts.append(text)\n",
        "\n",
        "    links = soup.find_all('a')\n",
        "    for link in links:\n",
        "        href = link.get('href')\n",
        "        if href and is_valid_link(href, url):\n",
        "            absolute_url = urljoin(url, href)\n",
        "            scrape_page(absolute_url, depth + 1, max_depth, all_texts)\n",
        "\n",
        "    return all_texts\n",
        "\n",
        "def is_valid_link(href, base_url):\n",
        "    # Ignore fragment identifiers\n",
        "    if href.startswith('#'):\n",
        "        return False\n",
        "    if href.startswith('mailto:'):\n",
        "        return False\n",
        "    # Construct absolute URL from relative URL\n",
        "    absoluteURL=urljoin(base_url, href)\n",
        "#     print(absoluteURL)\n",
        "    return absoluteURL\n",
        "\n",
        "\n",
        "\n",
        "all_texts = scrape_page(start_url)\n",
        "\n",
        "\n",
        "output_file = 'scraped_texts.txt'\n",
        "\n",
        "# Open the file in write mode and write each text to the file\n",
        "with open(output_file, 'w', encoding='utf-8') as file:\n",
        "    for text in all_texts:\n",
        "        file.write(text + '\\n\\n')  # Adding two line breaks as a separator\n",
        "\n",
        "print(f\"Texts saved to {output_file}\")"
      ],
      "metadata": {
        "colab": {
          "base_uri": "https://localhost:8080/"
        },
        "id": "iRq04qjP-d91",
        "outputId": "09b22abc-ec7b-4af2-e7b7-9280d25f41c2"
      },
      "execution_count": null,
      "outputs": [
        {
          "output_type": "stream",
          "name": "stdout",
          "text": [
            "Texts saved to scraped_texts.txt\n"
          ]
        }
      ]
    },
    {
      "cell_type": "code",
      "source": [
        "text=open(output_file,mode='r', encoding='utf-8').read()\n",
        "print(len(text))"
      ],
      "metadata": {
        "colab": {
          "base_uri": "https://localhost:8080/"
        },
        "id": "Hh9-skoe-pMW",
        "outputId": "06060260-3a7e-4a49-e331-3c1731ec1421"
      },
      "execution_count": null,
      "outputs": [
        {
          "output_type": "stream",
          "name": "stdout",
          "text": [
            "503099\n"
          ]
        }
      ]
    },
    {
      "cell_type": "code",
      "source": [
        "print(text[:10000])"
      ],
      "metadata": {
        "colab": {
          "base_uri": "https://localhost:8080/"
        },
        "id": "Mj0bsHZp-vK2",
        "outputId": "5d989c1c-693e-41d8-b5eb-4b1023ac114d"
      },
      "execution_count": null,
      "outputs": [
        {
          "output_type": "stream",
          "name": "stdout",
          "text": [
            "Cloud Platform user guide - Cloud Platform User Guide Skip to main content Cloud Platform User Guide Menu Feedback / Report a problem Documentation GitHub Table of contents Search (via Google) Search Cloud Platform user guide Overview Getting started Containers Databases Relational databases Key-value databases Storage Other topics OpenSearch Messaging Publish/subscribe Queue Custom domains Security Continuous deployment Observability Monitoring Logging Deprecations Other topics Tutorials Reference Cloud Platform Kubernetes Getting help Adding to the guide Cloud Platform user guide This user guide is for teams with applications or services deployed on, or\n",
            "intending to deploy to, the Ministry of Justice’s Cloud Platform. Overview What is the Cloud Platform? What can I host on the Cloud Platform? Getting started Using the Cloud Platform CLI Creating a Cloud Platform environment Connecting to the Cloud Platform’s Kubernetes cluster Accessing the AWS console (read-only) Deploying an example application to the Cloud Platform Publish prototypes on the web Removing an unneeded namespace Containers Requirements for deploying a container image to the Cloud Platform Creating a container repository for your Docker images Deprecating long-lived credentials for container repositories Databases Relational databases Creating a relational database using PostgreSQL, MariaDB, or MySQL Upgrading a database version or changing the instance type Other topics How do I run Rails database migrations? Migrating an RDS instance SSL connections with RDS Creating alerts for RDS Accessing your RDS database Viewing RDS Database Metrics RDS Snapshots Setup Postgres container SQL Server Native Backups Key-value databases Redis Creating a Redis cluster Upgrading a Redis version or changing the instance type NoSQL Creating a NoSQL database Storage Creating a file or object store Other topics Migrating an S3 bucket StatefulSets (Pods with Persistent Volumes) Storage Classes Persistent-Volume encryption and snapshot OpenSearch Creating an OpenSearch domain Upgrading an OpenSearch version or changing the instance type Messaging Publish/subscribe Creating a publish/subscribe service Queue Creating a message queuing service Custom domains Using a custom domain Creating a Route 53 Hosted Zone for your DNS records Security Security Controls on the Cloud Platform IP Filtering ModSecurity - Web Application Firewall Network Policies Adding a secret to an application Secrets overview Git-Crypt Security testing and ITHC Setup Ingress to redirect security.txt Trivy image scanning Continuous deployment Zero Downtime Deployments Observability Monitoring Using the Cloud Platform Prometheus, AlertManager and Grafana Getting application metrics into Prometheus Creating your own custom alerts Creating Pingdom checks Using the CloudWatch data source in Grafana Publish a Grafana Dashboard Snapshot Using PrometheusRule Linter in Github Action pipeline Logging Application Log Collection and Storage Accessing Application Log Data Deprecations Migrating from live-1 to live domain name Removing Deprecated CronJob APIs for Cloud Platform Removing Deprecated PodDisruptionBudget APIs for Cloud Platform Deprecating long-lived credentials for container repositories Deprecating long-lived credentials for modules Other topics Adding AWS resources to your environment Applying a Maintenance Page Long-running environments operations Access cross AWS resources IRSA EKS cluster DNS Domain Name Length considerations Accessing AWS APIs and resources from your namespace Using the Cloud Platform service pod to run maintenance tasks using the AWS CLI How do I get my data onto the Analytical Platform? Does my app need an ingress? Tutorials Deploying an example application to the Cloud Platform Reference Cloud Platform Technical overview of the Cloud Platform Cloud Platform Operational Processes Deploying to the Cloud Platform Apply Pipeline Cloud Platform Disaster Recovery Kubernetes The Cloud Platform currently uses Kubernetes v1.25 . Official Kubernetes v1.25 documentation Namespace/Container Resource Limits Kubectl quick reference Troubleshooting guide PodDisruptionBudgets and Cluster maintenance Kubernetes Cronjobs Kubernetes jobs Kubernetes: namespace definition files Getting help Ask Cloud Platform Cloud Platform Support Checking the GitHub groups in your ID token Adding to the guide If there’s something missing, please either let us know and we’ll add a new\n",
            "article, or if you’re comfortable writing one yourself, PRs will be gratefully\n",
            "received. Details on how to get in touch are in the “Getting Help” section above, and\n",
            "the “GitHub” link at the top right of this page will take you to the repository for this\n",
            "guide. This page was last reviewed on 5 December 2023.\n",
            "\n",
            "        It needs to be reviewed again on 5 March 2024\n",
            "        by the page owner #cloud-platform . This page was set to be reviewed before 5 March 2024\n",
            "       by the page owner #cloud-platform .\n",
            "      This might mean the content is out of date. View source Report problem GitHub Repo All content is available under the Open Government Licence v3.0 , except where otherwise stated © Crown copyright\n",
            "\n",
            "GitHub - ministryofjustice/cloud-platform-user-guide: User documentation for the Ministry of Justice cloud platform Skip to content Toggle navigation Sign in Product Actions Automate any workflow Packages Host and manage packages Security Find and fix vulnerabilities Codespaces Instant dev environments Copilot Write better code with AI Code review Manage code changes Issues Plan and track work Discussions Collaborate outside of code Explore All features Documentation GitHub Skills Blog Solutions For Enterprise Teams Startups Education By Solution CI/CD & Automation DevOps DevSecOps Resources Learning Pathways White papers, Ebooks, Webinars Customer Stories Partners Open Source GitHub Sponsors Fund open source developers The ReadME Project GitHub community articles Repositories Topics Trending Collections Pricing Search or jump to... Search code, repositories, users, issues, pull requests... Search Clear Search syntax tips Provide feedback We read every piece of feedback, and take your input very seriously. Include my email address so I can be contacted Cancel Submit feedback Saved searches Use saved searches to filter your results more quickly Name Query To see all available qualifiers, see our documentation . Cancel Create saved search Sign in Sign up You signed in with another tab or window. Reload to refresh your session. You signed out in another tab or window. Reload to refresh your session. You switched accounts on another tab or window. Reload to refresh your session. Dismiss alert ministryofjustice / cloud-platform-user-guide Public Notifications Fork 11 Star 13 User documentation for the Ministry of Justice cloud platform user-guide.cloud-platform.service.justice.gov.uk/ License MIT license 13 stars 11 forks Activity Star Notifications Code Issues 7 Pull requests 3 Actions Projects 0 Security Insights Additional navigation options Code Issues Pull requests Actions Projects Security Insights ministryofjustice/cloud-platform-user-guide This commit does not belong to any branch on this repository, and may belong to a fork outside of the repository. main Switch branches/tags Branches Tags View all branches View all tags Name already in use A tag already exists with the provided branch name. Many Git commands accept both tag and branch names, so creating this branch may cause unexpected behavior. Are you sure you want to create this branch? Cancel Create 4 branches 12 tags Code Local Codespaces Clone HTTPS GitHub CLI Use Git or checkout with SVN using the web URL. Work fast with our official CLI. Learn more about the CLI . Open with GitHub Desktop Download ZIP Sign In Required Please sign in to use Codespaces. Launching GitHub Desktop If nothing happens, download GitHub Desktop and try again. Launching GitHub Desktop If nothing happens, download GitHub Desktop and try again. Launching Xcode If nothing happens, download Xcode and try again. Launching Visual Studio Code Your codespace will open once ready. There was a problem preparing your codespace, please try again. Latest commit Git stats 3,752 commits Files Permalink Failed to load latest commit information. Type Name Latest commit message Commit time .github config source .gitignore Gemfile Gemfile.lock LICENCE README.md document.go makefile View code Cloud Platform user guide Running locally Updating documentation Publishing changes Configuring the website Global configuration Structuring documentation and page configuration README.md Cloud Platform user guide This repository holds the website and documentation for the Cloud Platform\n",
            "user guide . This repository utilises the Ministry of Justice's template-documentation-site . Want to give feedback on the documentation? Open an issue on this repository . Running locally You can run this website locally by running: make preview You can then browse to http://localhost:4567 to view the website. Updating documentation You can update the documentation by editing any of the *.html.md.erb files in\n",
            "the source directory. The syntax used in *.html.md.erb is Markdown, though it also supports some\n",
            "GOV.UK Design System specifics, as listed on Tech Docs Template - Write your\n",
            "content . Publishing changes Any changes that are merged into the main branch will be published\n",
            "automatically through the publish.yml GitHub action . This website is hosted on GitHub Pages . Configuring the website Global configuration The GOV.UK Tech Docs Template global configuration options can be used in this repository to configure the Cloud Platform user guide. Structuring documentation and page configuration The GOV.UK Tech Docs Template \"Configure your documentation project\" offers a range of guidance regarding configuration options to help structure\n",
            "documentation and configure pages separately. About User documentation for the Ministry of Justice cloud platf\n"
          ]
        }
      ]
    },
    {
      "cell_type": "code",
      "source": [
        "from haystack import Document\n",
        "\n",
        "doc = Document(\n",
        "    content=text\n",
        ")"
      ],
      "metadata": {
        "id": "CD_LIhGpVDr0"
      },
      "execution_count": null,
      "outputs": []
    },
    {
      "cell_type": "markdown",
      "metadata": {
        "id": "pF0nz0Wg7l_C"
      },
      "source": [
        "\n",
        "\n",
        "**Initializing the PreProcessor** : With processor = PreProcessor(...), configuring  preprocessor to  prepare documents.\n",
        "\n",
        "   - **Parameters:*\n",
        "     - `clean_empty_lines`: remove empty lines for optimal cleaning.   \n",
        "     - `clean_whitespace`:  eliminate whitespace\n",
        "     - `clean_header_footer`: treat any header and footer elements.\n",
        "     - `split_by`: We split the text by word. 📊\n",
        "     - `split_length`: We set the split length to 500 words. 📏\n",
        "     - `split_respect_sentence_boundary`: We respect sentence boundaries when splitting. 🗣️\n",
        "     - `split_overlap`: No overlap when splitting. 🚫\n",
        "\n",
        "\n",
        " **Processing the Document List:**  `preprocessed_docs = processor.process(docs)`, is applying  preprocessor to the document list.\n"
      ]
    },
    {
      "cell_type": "code",
      "execution_count": null,
      "metadata": {
        "id": "4gZh5nXkmY1S",
        "colab": {
          "base_uri": "https://localhost:8080/"
        },
        "outputId": "beb4342a-f5c7-42c1-dc9e-fb99cfc407f7"
      },
      "outputs": [
        {
          "output_type": "stream",
          "name": "stderr",
          "text": [
            "[nltk_data] Downloading package punkt to /root/nltk_data...\n",
            "[nltk_data]   Unzipping tokenizers/punkt.zip.\n",
            "Preprocessing:   0%|          | 0/1 [00:00<?, ?docs/s]WARNING:haystack.nodes.preprocessor.preprocessor:We found one or more sentences whose split count is higher than the split length.\n",
            "WARNING:haystack.nodes.preprocessor.preprocessor:Document e4fe8f2e92da00cd4f46041a366f228a is 12209 characters long after preprocessing, where the maximum length should be 10000. Something might be wrong with the splitting, check the document affected to prevent issues at query time. This document will be now hard-split at 10000 chars recursively.\n",
            "WARNING:haystack.nodes.preprocessor.preprocessor:Document 490a51e07a85a072400696ac85c89332 is 56588 characters long after preprocessing, where the maximum length should be 10000. Something might be wrong with the splitting, check the document affected to prevent issues at query time. This document will be now hard-split at 10000 chars recursively.\n",
            "WARNING:haystack.nodes.preprocessor.preprocessor:Document 5060dee47855176d768441d5e8857cd7 is 46588 characters long after preprocessing, where the maximum length should be 10000. Something might be wrong with the splitting, check the document affected to prevent issues at query time. This document will be now hard-split at 10000 chars recursively.\n",
            "WARNING:haystack.nodes.preprocessor.preprocessor:Document 8855f8a6a2545c5ea6be3074ce350ecd is 36588 characters long after preprocessing, where the maximum length should be 10000. Something might be wrong with the splitting, check the document affected to prevent issues at query time. This document will be now hard-split at 10000 chars recursively.\n",
            "WARNING:haystack.nodes.preprocessor.preprocessor:Document 6b8efd92ae28a531f44072ad7d43362d is 26588 characters long after preprocessing, where the maximum length should be 10000. Something might be wrong with the splitting, check the document affected to prevent issues at query time. This document will be now hard-split at 10000 chars recursively.\n",
            "WARNING:haystack.nodes.preprocessor.preprocessor:Document a6911b6f74fc22256fe869e232e0e89a is 16588 characters long after preprocessing, where the maximum length should be 10000. Something might be wrong with the splitting, check the document affected to prevent issues at query time. This document will be now hard-split at 10000 chars recursively.\n",
            "WARNING:haystack.nodes.preprocessor.preprocessor:Document f92797fc07aa8aaf07798197fcd5680e is 10773 characters long after preprocessing, where the maximum length should be 10000. Something might be wrong with the splitting, check the document affected to prevent issues at query time. This document will be now hard-split at 10000 chars recursively.\n",
            "Preprocessing: 100%|██████████| 1/1 [00:00<00:00,  1.48docs/s]\n"
          ]
        }
      ],
      "source": [
        "# Create a list containing single document\n",
        "docs = [doc]\n",
        "\n",
        "processor = PreProcessor(\n",
        "    clean_empty_lines=True,\n",
        "    clean_whitespace=True,\n",
        "    clean_header_footer=True,\n",
        "    split_by=\"word\",\n",
        "    split_length=500,\n",
        "    split_respect_sentence_boundary=True,\n",
        "    split_overlap=0,\n",
        "    language=\"en\",\n",
        ")\n",
        "\n",
        "preprocessed_docs = processor.process(docs)"
      ]
    },
    {
      "cell_type": "code",
      "source": [
        "print(len(preprocessed_docs))\n",
        "\n",
        "# a smaller chunked document\n",
        "\n",
        "preprocessed_docs[10]"
      ],
      "metadata": {
        "id": "4dbHs2HCYyR7",
        "colab": {
          "base_uri": "https://localhost:8080/"
        },
        "outputId": "bbd61ff0-8e76-4b6d-cb0b-5bb0a00f3674"
      },
      "execution_count": null,
      "outputs": [
        {
          "output_type": "stream",
          "name": "stdout",
          "text": [
            "143\n"
          ]
        },
        {
          "output_type": "execute_result",
          "data": {
            "text/plain": [
              "<Document: {'content': 'This guide will take you through installing and configuring kubectl . kubectl is the official command line tool for Kubernetes. Once installed and configured, you can use kubectl to deploy and manage your applications on the Cloud Platform, in addition to the Cloud Platform CLI . Installing kubectl You should install a version of kubectl that is within one minor version of the Cloud Platform’s Kubernetes cluster. The Cloud Platform’s current Kubernetes cluster version is 1.25 .\\nTherefore, you should install kubectl version 1.24, 1.25, or 1.26. There is official documentation on how to install kubectl , including how to install a specific version: Install kubectl on Linux Install kubectl on macOS Install kubectl on Windows Authenticating with the Cloud Platform’s Kubernetes cluster Once you’ve installed kubectl , you will need to authenticate with the Cloud Platform’s Kubernetes cluster. You will need to: be part of the ministryofjustice GitHub organisation be part of the correct GitHub team(s) for your service Joining the GitHub organisation You can request access to the ministryofjustice GitHub organisation by: contacting the Operations Engineering team , or getting your line manager to submit a ServiceNow request under the “GitHub for D&T staff - Add/Amend/Remove” item Joining the correct GitHub teams You can find the correct GitHub team to join by: finding your services namespace in cloud-platform-environments in your namespace directory, view the 00-namespace.yaml file there will be a cloud-platform.justice.gov.uk/team-name key with a value of the GitHub team name to join ask your team to add you to the listed GitHub team Generating a kubeconfig file To access the Cloud Platform’s Kubernetes cluster through kubectl , you will need to generate a kubeconfig file. The kubeconfig file stores an authentication token for Kubernetes clusters. To generate a kubeconfig file for the Cloud Platform’s Kubernetes cluster: Browse to the login URL for the Cloud Platform Select “Continue with GitHub” Login to GitHub (if you’re not already logged in) Authorise the “MOJ Cloud Platforms Auth0 (prod)” application in GitHub Accept live:kubernetes requesting access to your justice-cloud-platform account Select “Download config file” Move the config file to the location expected by kubectl: ~/.kube/config : $ mkdir ~/.kube $ mv ~/Downloads/kubecfg.yaml ~/.kube/config Reduce the permissions on the file by running: $ chmod 600 ~/.kube/config Tell kubectl to use this configuration by running: $ kubectl config use-context live.cloud-platform.service.justice.gov.uk Verify the configuration file by running: $ kubectl get namespaces Your output should be similar to: NAME                                              STATUS   AGE\\nabundant-namespace-dev                            Active   100d\\n... Troubleshooting: “current” context If you see an error like this when executing kubectl commands: The connection to the server localhost:8080 was refused A common reason for this is that the “current” context has not been set. Check it by running: kubectl config get-contexts If current context is set correctly, you’ll see a * , like this: CURRENT   NAME                                         CLUSTER                                      AUTHINFO                 NAMESPACE * live.cloud-platform.service.justice.gov.uk   live.cloud-platform.service.justice.gov.uk   <your github e-mail> If the * is missing, then you need to set the context with the use-context command mentioned above. ', 'content_type': 'text', 'score': None, 'meta': {'_split_id': 10}, 'id_hash_keys': ['content'], 'embedding': None, 'id': 'f1694f5fe5b4c8ff919e699dca98b543'}>"
            ]
          },
          "metadata": {},
          "execution_count": 10
        }
      ]
    },
    {
      "cell_type": "markdown",
      "metadata": {
        "id": "s6M7pttrnrQI"
      },
      "source": [
        "# Creation of DocumentStore in Memory: 📚💾\n",
        "\n",
        "Storing our documents in an easily accessible place! In the following code:\n",
        "\n",
        "1. **Initializing InMemoryDocumentStore:** With `document_store = InMemoryDocumentStore(use_bm25=True)`, we are creating an in-memory document store. Storage power is now in our hands! 💡🔍\n",
        "\n",
        "   - **Key Parameter:**\n",
        "     - `use_bm25`:  enable BM25, a search ranking algorithm, to improve query precision.\n",
        "\n",
        "2. **Writing Documents to the Store:** With `document_store.write_documents(preprocessed_docs)`, is writing the pre-processed documents to the store."
      ]
    },
    {
      "cell_type": "code",
      "execution_count": null,
      "metadata": {
        "id": "40jmeS34m_bM",
        "colab": {
          "base_uri": "https://localhost:8080/"
        },
        "outputId": "d7b4ff94-732e-437e-840e-50b7bb6fd7d5"
      },
      "outputs": [
        {
          "output_type": "stream",
          "name": "stderr",
          "text": [
            "Updating BM25 representation...: 100%|██████████| 143/143 [00:00<00:00, 2382.67 docs/s]\n"
          ]
        }
      ],
      "source": [
        "from haystack.document_stores import InMemoryDocumentStore\n",
        "\n",
        "document_store = InMemoryDocumentStore(use_bm25=True)\n",
        "document_store.write_documents(preprocessed_docs)"
      ]
    },
    {
      "cell_type": "markdown",
      "metadata": {
        "id": "KpCA8b2FoZE2"
      },
      "source": [
        "# Configuring a BM25 Recovery Unit with Haystack: 🔍🚀\n",
        "\n",
        "\n",
        "1. **Configuring BM25Retriever:** With `retriever = BM25Retriever(document_store, top_k=2)`, creates a BM25 retriever that relies on the in-memory document store. It uses ranking in our case with a top-k of 2 results! [BM25 Retriever](https://docs.haystack.deepset.ai/docs/retriever#bm25-recommended) 📈🔗\n",
        "\n",
        "   - **Key Parameters:**\n",
        "     - `document_store`: We use our in-memory document store as the basis for searching. 📚💾\n",
        "     - `top_k`: We specify that we want to get the best 2 results for each query. 🔝2️⃣\n",
        "\n",
        "That is how it can find the most relevant documents in the subsequent stages\n"
      ]
    },
    {
      "cell_type": "code",
      "execution_count": null,
      "metadata": {
        "id": "4UchlKzipUZf"
      },
      "outputs": [],
      "source": [
        "from haystack import Pipeline\n",
        "from haystack.nodes import BM25Retriever\n",
        "retriever = BM25Retriever(document_store, top_k=2)"
      ]
    },
    {
      "cell_type": "markdown",
      "metadata": {
        "id": "q4qE7ur59jys"
      },
      "source": [
        "# Definition of a PromptTemplate for Questions and Answers:\n",
        "\n",
        "Giving structure to our question-answer interactions with a `PromptTemplate`! In the following code:\n",
        "\n",
        "1. **Template Definition:** With `qa_template = PromptTemplate(...)`, is  creating a template that guides the question and answer process. 📝💬\n",
        "\n",
        "   - **Prompt Structure:**\n",
        "     - \"Using the information contained in the context, answer only the question asked without adding question suggestions\"\n",
        "     - \"If the answer cannot be inferred from the context, reply: '\\I don't know\\'.\"\n",
        "     - \"Context: {join(documents)};\"\n",
        "     - \"Question: {query}\"\n",
        "\n",
        "   - **Clear Description:** The template provides clear instructions on how to answer questions based on context.   💡\n",
        "\n",
        "2. **Template Variables:**  there is use of  `{join(documents)}` and `{query}` to dynamically incorporate the necessary information into the prompt. Our questions are now driven by context! 🔄🌐\n",
        "\n",
        "This template is the key to providing structured and contextually informed interactions"
      ]
    },
    {
      "cell_type": "code",
      "execution_count": null,
      "metadata": {
        "id": "HKStelv4pr_f"
      },
      "outputs": [],
      "source": [
        "qa_template = PromptTemplate(prompt=\n",
        "  \"\"\" Using the information contained in the context, answer only the question asked without adding question suggestions\n",
        "  If the answer cannot be inferred from the context, reply: '\\I don't know'.\n",
        "  Context: {join(documents)};\n",
        "  Question: {query}\n",
        "  \"\"\")"
      ]
    },
    {
      "cell_type": "markdown",
      "metadata": {
        "id": "93KBaMBP9g23"
      },
      "source": [
        "#  PromptNode Initialization: 🌐🤖\n",
        "\n",
        "We are exploring the world of HTTP requests and initializing our [PromptNode](https://docs.haystack.deepset.ai/docs/prompt_node)! In the following code:\n",
        "\n",
        "1. **Initializing PromptNode:** With `prompt_node = PromptNode(...)`, we are configuring our prompt node to interact with the Zephyr model. 🌬️🚀\n",
        "\n",
        "   - **Mixtral Model:**  specifying `model_name_or_path=\"HuggingFaceH4/zephyr-7b-beta\"` or `mistralai/Mixtral-8x7B-Instruct-v0.1` or whatever model you want\n",
        "\n",
        "   - **Hugging Face API Key:** Hugging Face key,  with `api_key=HF_TOKEN`\n",
        "\n",
        "   - **Default Prompt Template:**  configure the default prompt template\n",
        "\n",
        "   - **Additional Model Parameters:** By specifying `max_length=500` and `model_kwargs={\"model_max_length\": 5000}`, we provide the maximum number of tokens the output text generated by the model can have.\n",
        "\n",
        "\n",
        "\n",
        "\n"
      ]
    },
    {
      "cell_type": "code",
      "execution_count": null,
      "metadata": {
        "id": "V7M8_QmfqGO7",
        "colab": {
          "base_uri": "https://localhost:8080/",
          "height": 249,
          "referenced_widgets": [
            "d981e0b00347414fb7c9cee78b45f621",
            "d2a24e9a95dc451588cb0dfa3fe68587",
            "34208e40fab54dfd8b57fa0f9dcc6001",
            "d5d07c1e355b4f88a01094ae16dba5de",
            "adfbb0fafc8d4e0ea22bb9c098e09bd5",
            "eb23cf0e02bb49ed9195c7029f1d041b",
            "502eea51e18545158815b4e1b8fe50e5",
            "86d1814e1f3742268a2b9436f7e0b5a0",
            "705ec8d13cf14180a11c8ce8cef8f0c2",
            "082e5d7a11924d8aaaaf0e2d864cd9ad",
            "1ac524b1a4a249d5b7e1b05c468e091f",
            "368205aa8c304925a360a5d344d2068c",
            "0a357b91bfe248f0bc1d1bfb9461588d",
            "e28873f602464337a0e55722a6cdc07b",
            "433c1d5584af4c2da1040fec30b69939",
            "ffcf1e8e1c1c440eb34d0dbe1ac1c92e",
            "0b7b97de36c84de3b13fc81e43a0e7c0",
            "754914f2de474cfd9c941acab8580497",
            "a42c0adf4531490ab72cb38effe23261",
            "ca8be81a0d9741d0a031f55367c20265",
            "5d08febe9c5a4b54bc18810650451a21",
            "87595a58f9a644e9b5bba9783468e4bd",
            "aa31714572414251ba2f6906b99c2582",
            "fb3bd5fd188a4b67aa0f543e9ccb837b",
            "17c217666d6746d69551b8403d5449d4",
            "3cd615b0f4f0416c9488c2c532d70c10",
            "6837d05b209841aab8c486c6222920c4",
            "02f355878a1b449c99012dc644c4344b",
            "a0191f8c3e4949509668c89794e3acdf",
            "11a15a72873641e1ae69e31dc8991827",
            "44049c6b04de4433b5aa29c0136b3f0b",
            "d7559d934c9344af82b25b0bdec12bbe",
            "86c6c0ea74b843cbb52ffc7a1d96cb2c",
            "42cafeb9dac346e2842c51c80a4e6f04",
            "168e20bb438240fabefd80ead347382d",
            "7ea9916e19a9445b8bee2458675bfe99",
            "52753c336af14eb39de26e347c7380a7",
            "a1ded9dc89d24f24be265a2c121fbc6f",
            "9d88d3a6158143a58cc6c42dd6ffe144",
            "aa066939422e408587d74cbbf85d1a9b",
            "cd12f5478f5b49a8997c01570dc6a04e",
            "a84d108e3a45431a81eb3480c7365ac3",
            "fe4060a043d5420197fbc848a4c10e0f",
            "be134d576c6e492fbb4f4219a47a333e"
          ]
        },
        "outputId": "fe680a9c-2241-4b99-ea3b-9fd61267ddff"
      },
      "outputs": [
        {
          "output_type": "stream",
          "name": "stderr",
          "text": [
            "/usr/local/lib/python3.10/dist-packages/huggingface_hub/utils/_token.py:72: UserWarning: \n",
            "The secret `HF_TOKEN` does not exist in your Colab secrets.\n",
            "To authenticate with the Hugging Face Hub, create a token in your settings tab (https://huggingface.co/settings/tokens), set it as secret in your Google Colab and restart your session.\n",
            "You will be able to reuse this secret in all of your notebooks.\n",
            "Please note that authentication is recommended but still optional to access public models or datasets.\n",
            "  warnings.warn(\n"
          ]
        },
        {
          "output_type": "display_data",
          "data": {
            "text/plain": [
              "tokenizer_config.json:   0%|          | 0.00/1.46k [00:00<?, ?B/s]"
            ],
            "application/vnd.jupyter.widget-view+json": {
              "version_major": 2,
              "version_minor": 0,
              "model_id": "d981e0b00347414fb7c9cee78b45f621"
            }
          },
          "metadata": {}
        },
        {
          "output_type": "display_data",
          "data": {
            "text/plain": [
              "tokenizer.model:   0%|          | 0.00/493k [00:00<?, ?B/s]"
            ],
            "application/vnd.jupyter.widget-view+json": {
              "version_major": 2,
              "version_minor": 0,
              "model_id": "368205aa8c304925a360a5d344d2068c"
            }
          },
          "metadata": {}
        },
        {
          "output_type": "display_data",
          "data": {
            "text/plain": [
              "tokenizer.json:   0%|          | 0.00/1.80M [00:00<?, ?B/s]"
            ],
            "application/vnd.jupyter.widget-view+json": {
              "version_major": 2,
              "version_minor": 0,
              "model_id": "aa31714572414251ba2f6906b99c2582"
            }
          },
          "metadata": {}
        },
        {
          "output_type": "display_data",
          "data": {
            "text/plain": [
              "special_tokens_map.json:   0%|          | 0.00/72.0 [00:00<?, ?B/s]"
            ],
            "application/vnd.jupyter.widget-view+json": {
              "version_major": 2,
              "version_minor": 0,
              "model_id": "42cafeb9dac346e2842c51c80a4e6f04"
            }
          },
          "metadata": {}
        }
      ],
      "source": [
        "\n",
        "\n",
        "prompt_node = PromptNode(\n",
        "    model_name_or_path=\"mistralai/Mixtral-8x7B-Instruct-v0.1\",\n",
        "    api_key=HF_TOKEN,\n",
        "    default_prompt_template=qa_template,\n",
        "    max_length=500,\n",
        "    model_kwargs={\"model_max_length\": 5000}\n",
        ")"
      ]
    },
    {
      "cell_type": "markdown",
      "metadata": {
        "id": "vzY2gQrd-teN"
      },
      "source": [
        "**Configuring a Pipeline with Haystack:** 🚀🔗\n",
        "\n",
        "\n",
        "A pipeline means we are creating a sequence of steps to maximize the effectiveness of our workflow\n",
        "\n",
        "In the following code:\n",
        "\n",
        "Creating a RAG Pipeline:\n",
        "\n",
        " With rag_pipeline = Pipeline(), we are starting the construction of our pipeline for Recurrent Retrieval Augmented Generation (RAG). 🔄🚀\n",
        "\n",
        "Adding a Retriever Node:\n",
        "\n",
        "Using rag_pipeline.add_node(...), we are embedding our BM25 retriever. The \"retriever\" node will receive input from the \"Query\".\n",
        "\n",
        "Retriever Node:  configure the previously created BM25 retriever to be ready to provide  the most relevant documents!\n",
        "Adding a Prompt Node: With rag_pipeline.add_node(...), we are inserting our prompt node. The \"prompt_node\" node will receive input from the \"retriever\" node.\n",
        "\n"
      ]
    },
    {
      "cell_type": "code",
      "execution_count": null,
      "metadata": {
        "id": "IzD5jw84oTVr"
      },
      "outputs": [],
      "source": [
        "rag_pipeline = Pipeline()\n",
        "rag_pipeline.add_node(component=retriever, name=\"retriever\", inputs=[\"Query\"])\n",
        "rag_pipeline.add_node(component=prompt_node, name=\"prompt_node\", inputs=[\"retriever\"])"
      ]
    },
    {
      "cell_type": "code",
      "execution_count": null,
      "metadata": {
        "id": "RHzz1UQlt1M5"
      },
      "outputs": [],
      "source": [
        "from pprint import pprint\n",
        "print_answer = lambda out: pprint(out[\"results\"][0].strip())\n",
        "def print_answer_with_score(output):\n",
        "    if output[\"results\"]:\n",
        "        top_result = output[\"results\"][0].strip()  # Get the top result\n",
        "        top_document = output[\"documents\"][0]  # Get the top document\n",
        "\n",
        "        score = top_document.score  # Extract the score of the top document\n",
        "        pprint(f\"{top_result}\"+\"\\nscore = \"+f\"{score}\")\n",
        "    else:\n",
        "        pprint(\"No results found.\")"
      ]
    },
    {
      "cell_type": "markdown",
      "metadata": {
        "id": "7VXJ2W7ju9c9"
      },
      "source": [
        "## Let's try the RAG Pipeline\n",
        "Finally running the RAG Pipeline with a Query and Printing the Response:\n",
        "\n",
        "\n",
        "\n",
        " **Running the RAG Pipeline:**  `rag_pipeline.run(query=\"\")`,  is invoking our RAG pipeline with a specific query.\n",
        "\n",
        "\n",
        "\n"
      ]
    },
    {
      "cell_type": "code",
      "execution_count": null,
      "metadata": {
        "id": "Ua-bETg0qknO",
        "colab": {
          "base_uri": "https://localhost:8080/"
        },
        "outputId": "6e6472ab-4ceb-4a13-d01a-50b09caea528"
      },
      "outputs": [
        {
          "output_type": "stream",
          "name": "stdout",
          "text": [
            "('Answer: You can clean up finished jobs in kubernetes by using the '\n",
            " 'Time-to-live (TTL mechanism) for Jobs by setting ttlSecondsAfterFinished, so '\n",
            " 'that a Job can be cleaned up automatically some time after it finishes. '\n",
            " 'Note: Kubernetes uses UTC exclusively. Make sure you take that into account '\n",
            " 'when you’re creating your schedule or setting up ttlSecondsAfterFinished. We '\n",
            " 'also have a delete-completed-jobs concourse job which will clean up all '\n",
            " 'completed jobs which do not have ttlSecondsAfterFinished defined.\\n'\n",
            " 'score = 0.9242783497119054')\n"
          ]
        }
      ],
      "source": [
        "print_answer_with_score(rag_pipeline.run(query=\"how to clean up  finished jobs in kubernetes?\"))\n"
      ]
    },
    {
      "cell_type": "code",
      "execution_count": null,
      "metadata": {
        "id": "TK09Si5Vuv81",
        "colab": {
          "base_uri": "https://localhost:8080/"
        },
        "outputId": "920a48ac-aa6c-47d8-c636-6139cf97f691"
      },
      "outputs": [
        {
          "output_type": "stream",
          "name": "stdout",
          "text": [
            "('To remove an unneeded namespace, follow these steps:\\n'\n",
            " '\\n'\n",
            " '1. If there are any ECR resources in your namespace that still contain '\n",
            " 'images, you need to delete the images manually or prepare the ECR for '\n",
            " 'deletion by setting the `deletion_protection` argument to `false` in your '\n",
            " 'ECR module code and raising a PR to apply this configuration change to your '\n",
            " 'ECR resource.\\n'\n",
            " '2. Merge the PR and proceed with the namespace deletion process.\\n'\n",
            " '3. Raise a PR that deletes the associated folder from the '\n",
            " '`cloud-platform-environments` repository. The folder name should be in the '\n",
            " 'format '\n",
            " '`namespaces/live.cloud-platform.service.justice.gov.uk/<namespace_name>`.\\n'\n",
            " '4. Merging this PR will trigger the `destroy-deleted-namespaces` Pipeline, '\n",
            " \"which will delete all of your non-production namespace's AWS resources, \"\n",
            " 'followed by the namespace itself for production namespaces.\\n'\n",
            " '5. If you have set up a CI/CD pipeline that deploys into your namespace, '\n",
            " 'delete it first so that anything you delete later is not immediately '\n",
            " 'recreated by your build pipeline.\\n'\n",
            " '\\n'\n",
            " 'Note: If you are the namespace/PR owner, it is your responsibility to ensure '\n",
            " 'that no other environments depend upon access to your ECR resources.\\n'\n",
            " 'score = 0.8265437917302605')\n"
          ]
        }
      ],
      "source": [
        "print_answer_with_score(rag_pipeline.run(query=\"how to remove a unneeded namespace? \"))"
      ]
    },
    {
      "cell_type": "code",
      "source": [
        "print_answer_with_score(rag_pipeline.run(query=\"Can non-prod namespaces get scaled down overnight\"))"
      ],
      "metadata": {
        "id": "Miv0XFOwv6Uc",
        "colab": {
          "base_uri": "https://localhost:8080/"
        },
        "outputId": "234c3d9b-adac-4d00-fd97-f1e6156c8552"
      },
      "execution_count": null,
      "outputs": [
        {
          "output_type": "stream",
          "name": "stdout",
          "text": [
            "('Answer: Yes, non-production workloads can be auto-scaled down overnight or '\n",
            " 'at the weekend using the Horizontal Pod Autoscaler (HPA) feature in '\n",
            " 'Kubernetes. The HPA can ensure that critical applications are elastic and '\n",
            " 'can scale out to meet increasing demand as well as scale down to ensure '\n",
            " 'optimal resource usage. It calculates the number of replicas by calculating '\n",
            " 'the ratio between desired metric value and current metric value. Important '\n",
            " 'aspects of the HorizontalPodAutoscaler to be aware of include setting '\n",
            " 'resource limits, the 15-second interval for checking the value of the metric '\n",
            " 'used, and the 3-minute and 5-minute intervals for scaling up and down pods '\n",
            " 'based on the metric threshold.\\n'\n",
            " 'score = 0.8569081092034656')\n"
          ]
        }
      ]
    },
    {
      "cell_type": "code",
      "execution_count": null,
      "metadata": {
        "id": "q_k7sZZtIyT3",
        "colab": {
          "base_uri": "https://localhost:8080/"
        },
        "outputId": "3b958f3a-32fd-46b2-90da-4d70e8c46fe7"
      },
      "outputs": [
        {
          "output_type": "stream",
          "name": "stdout",
          "text": [
            "('Answer: To add secrets to your application, you can store them in AWS '\n",
            " 'Secrets Manager and then access them from your namespace. Here are the steps '\n",
            " 'to do this:\\n'\n",
            " '\\n'\n",
            " '1. Create the secret in AWS Secrets Manager and store the required value '\n",
            " '(e.g. APPINSIGHTS\\\\_INSTRUMENTATIONKEY).\\n'\n",
            " '2. Base64-encode the secret value.\\n'\n",
            " '3. Create the kubernetes\\\\_secret using the base64-encoded value.\\n'\n",
            " '4. List the secrets in your namespace to confirm that the new secret has '\n",
            " 'been created.\\n'\n",
            " '5. Update the secret value in AWS Secrets Manager if needed.\\n'\n",
            " '6. Decode the secret value from base64 to use it in your application.\\n'\n",
            " '\\n'\n",
            " 'Note: You can also configure secrets manually using kubectl if you prefer. '\n",
            " 'In this case, you would need to base64-encode the secret value, create the '\n",
            " 'secret using kubectl, list the secrets in your namespace, update the secret '\n",
            " 'value using kubectl if needed, and decode the secret value from base64 to '\n",
            " 'use it in your application.\\n'\n",
            " 'score = 0.8127041717523485')\n"
          ]
        }
      ],
      "source": [
        "print_answer_with_score(rag_pipeline.run(query=\"what to do  add secrets to my application\"))"
      ]
    },
    {
      "cell_type": "code",
      "source": [
        "print_answer_with_score(rag_pipeline.run(query=\"any guidelines available please on how to create multiple environments (dev, test, staging, etc.) in cloud platform?\"))\n",
        "\n"
      ],
      "metadata": {
        "colab": {
          "base_uri": "https://localhost:8080/"
        },
        "id": "kmLAZ5e7pcUe",
        "outputId": "9d5bb4b0-c4de-4ec3-92db-042162df91b1"
      },
      "execution_count": null,
      "outputs": [
        {
          "output_type": "stream",
          "name": "stdout",
          "text": [
            "('Answer: Yes, there are guidelines available on how to create multiple '\n",
            " 'environments (dev, test, staging, etc.) in cloud platform. The Cloud '\n",
            " 'Platform provides a Terraform module for creating multiple environments with '\n",
            " 'a consistent set of infrastructure components. The module creates a virtual '\n",
            " 'private cloud (VPC) with public and private subnets, network access control '\n",
            " 'lists (ACLs), security groups, and other resources. The module also creates '\n",
            " 'a Kubernetes cluster in each environment with a consistent set of node '\n",
            " 'pools, add-ons, and other resources. The module is designed to be customized '\n",
            " 'to meet the specific needs of each environment. The documentation provides '\n",
            " 'detailed instructions on how to use the module to create and manage multiple '\n",
            " 'environments. Additionally, the documentation provides guidelines on how to '\n",
            " 'configure and use the resources in each environment, such as how to '\n",
            " 'configure domain names, how to configure ingress controllers, and how to '\n",
            " 'configure monitoring and logging. The documentation also provides guidelines '\n",
            " 'on how to manage access to each environment, such as how to create and '\n",
            " 'manage service accounts, how to configure role-based access control (RBAC), '\n",
            " 'and how to configure network policies. The documentation is available on the '\n",
            " 'Cloud Platform User Guide website.\\n'\n",
            " 'score = 0.9233173120864733')\n"
          ]
        }
      ]
    },
    {
      "cell_type": "code",
      "source": [
        "print_answer_with_score(rag_pipeline.run(query=\"how to configure role-based access control (RBAC)\"))"
      ],
      "metadata": {
        "colab": {
          "base_uri": "https://localhost:8080/"
        },
        "id": "LWT3geVbpzFI",
        "outputId": "a3960cce-d303-42c5-85ff-2370e7df24fb"
      },
      "execution_count": null,
      "outputs": [
        {
          "output_type": "stream",
          "name": "stdout",
          "text": [
            "('Answer: Role-Based Access Control (RBAC) is a method of regulating access to '\n",
            " 'cluster resources based on the roles of individual users within an '\n",
            " 'organization. To configure RBAC in Kubernetes, you need to create roles and '\n",
            " 'bindings.\\n'\n",
            " '\\n'\n",
            " '  A role is a set of permissions that specify what actions can be performed '\n",
            " 'on which resources. To create a role, you can use the `kubectl create role` '\n",
            " 'command followed by the name of the role and the permissions. For example, '\n",
            " 'the following command creates a role called `pod-reader` that allows users '\n",
            " 'to view pods in the `default` namespace:\\n'\n",
            " '\\n'\n",
            " '  ```\\n'\n",
            " '  kubectl create role pod-reader --verb=get,list --resource=pods '\n",
            " '--namespace=default\\n'\n",
            " '  ```\\n'\n",
            " '\\n'\n",
            " '  A binding is a relationship between a role and a user or group of users. '\n",
            " 'To create a binding, you can use the `kubectl create rolebinding` command '\n",
            " 'followed by the name of the binding, the role to be bound, and the users or '\n",
            " 'groups to be bound to the role. For example, the following command creates a '\n",
            " 'binding called `pod-reader-binding` that grants the `pod-reader` role to the '\n",
            " 'user `jane` in the `default` namespace:\\n'\n",
            " '\\n'\n",
            " '  ```\\n'\n",
            " '  kubectl create rolebinding pod-reader-binding --role=pod-reader '\n",
            " '--user=jane --namespace=default\\n'\n",
            " '  ```\\n'\n",
            " '\\n'\n",
            " '  You can also use the `kubectl create clusterrole` and `kubectl create '\n",
            " 'clusterrolebinding` commands to create roles and bindings that apply to the '\n",
            " 'entire cluster.\\n'\n",
            " '\\n'\n",
            " '  For more information on RBAC in Kubernetes, you can refer to the [official '\n",
            " 'Kubernetes '\n",
            " 'documentation](https://kubernetes.io/docs/reference/access-authn-authz/rbac/).\\n'\n",
            " 'score = 0.8490801963779471')\n"
          ]
        }
      ]
    },
    {
      "cell_type": "code",
      "source": [
        "print_answer_with_score(rag_pipeline.run(query=\"do we create environments in separate cluster? What clusters are available?\"))"
      ],
      "metadata": {
        "colab": {
          "base_uri": "https://localhost:8080/"
        },
        "id": "3bkNm715p66M",
        "outputId": "59f1fab0-9379-43f9-8453-a6badc11878a"
      },
      "execution_count": null,
      "outputs": [
        {
          "output_type": "stream",
          "name": "stdout",
          "text": [
            "('Answer: No, we do not create environments in separate clusters. The Cloud '\n",
            " 'Platform consists of two kubernetes clusters: manager and live. The manager '\n",
            " 'cluster runs shared services such as monitoring and CI/CD pipelines, while '\n",
            " 'the live cluster is the EKS \"application\" cluster that runs all hosted '\n",
            " 'services. Both clusters are hosted in a single VPC in Amazon AWS, which is '\n",
            " 'only accessible to the outside world via HTTPS connections or the kubernetes '\n",
            " 'API and SSH through a bastion host. Services hosted in the Cloud Platform '\n",
            " 'run in one or more namespaces, which are isolated from each other by '\n",
            " 'kubernetes NetworkPolicy configurations. Service teams can choose to allow '\n",
            " 'traffic between specific namespaces, but by default no inter-namespace '\n",
            " 'network traffic is permitted. Security groups cannot be used in the Cloud '\n",
            " 'Platform as they work at the EC2 instance level, and requests to resources '\n",
            " 'could come from any of the worker nodes in the cluster.\\n'\n",
            " 'score = 0.8557975305922735')\n"
          ]
        }
      ]
    },
    {
      "cell_type": "code",
      "source": [
        "\n",
        "print_answer_with_score(rag_pipeline.run(query=\"how to reset  authentication is not working\"))\n"
      ],
      "metadata": {
        "colab": {
          "base_uri": "https://localhost:8080/"
        },
        "id": "iCDfDZh3-ZH5",
        "outputId": "5fc3c005-3e6f-476e-8ae3-33d958c9a720"
      },
      "execution_count": null,
      "outputs": [
        {
          "output_type": "stream",
          "name": "stdout",
          "text": [
            "('Answer: To reset authentication, you can try the following steps:\\n'\n",
            " '\\n'\n",
            " '  1. Delete any existing credentials or tokens associated with the '\n",
            " 'Kubernetes API.\\n'\n",
            " '  2. Restart your kubeconfig file or the kubectl configuration.\\n'\n",
            " '  3. Re-authenticate with the Kubernetes API using the appropriate '\n",
            " 'authentication method.\\n'\n",
            " 'score = 0.8163386010944413')\n"
          ]
        }
      ]
    }
  ],
  "metadata": {
    "accelerator": "GPU",
    "colab": {
      "provenance": []
    },
    "kernelspec": {
      "display_name": "Python 3",
      "name": "python3"
    },
    "language_info": {
      "name": "python"
    },
    "widgets": {
      "application/vnd.jupyter.widget-state+json": {
        "d981e0b00347414fb7c9cee78b45f621": {
          "model_module": "@jupyter-widgets/controls",
          "model_name": "HBoxModel",
          "model_module_version": "1.5.0",
          "state": {
            "_dom_classes": [],
            "_model_module": "@jupyter-widgets/controls",
            "_model_module_version": "1.5.0",
            "_model_name": "HBoxModel",
            "_view_count": null,
            "_view_module": "@jupyter-widgets/controls",
            "_view_module_version": "1.5.0",
            "_view_name": "HBoxView",
            "box_style": "",
            "children": [
              "IPY_MODEL_d2a24e9a95dc451588cb0dfa3fe68587",
              "IPY_MODEL_34208e40fab54dfd8b57fa0f9dcc6001",
              "IPY_MODEL_d5d07c1e355b4f88a01094ae16dba5de"
            ],
            "layout": "IPY_MODEL_adfbb0fafc8d4e0ea22bb9c098e09bd5"
          }
        },
        "d2a24e9a95dc451588cb0dfa3fe68587": {
          "model_module": "@jupyter-widgets/controls",
          "model_name": "HTMLModel",
          "model_module_version": "1.5.0",
          "state": {
            "_dom_classes": [],
            "_model_module": "@jupyter-widgets/controls",
            "_model_module_version": "1.5.0",
            "_model_name": "HTMLModel",
            "_view_count": null,
            "_view_module": "@jupyter-widgets/controls",
            "_view_module_version": "1.5.0",
            "_view_name": "HTMLView",
            "description": "",
            "description_tooltip": null,
            "layout": "IPY_MODEL_eb23cf0e02bb49ed9195c7029f1d041b",
            "placeholder": "​",
            "style": "IPY_MODEL_502eea51e18545158815b4e1b8fe50e5",
            "value": "tokenizer_config.json: 100%"
          }
        },
        "34208e40fab54dfd8b57fa0f9dcc6001": {
          "model_module": "@jupyter-widgets/controls",
          "model_name": "FloatProgressModel",
          "model_module_version": "1.5.0",
          "state": {
            "_dom_classes": [],
            "_model_module": "@jupyter-widgets/controls",
            "_model_module_version": "1.5.0",
            "_model_name": "FloatProgressModel",
            "_view_count": null,
            "_view_module": "@jupyter-widgets/controls",
            "_view_module_version": "1.5.0",
            "_view_name": "ProgressView",
            "bar_style": "success",
            "description": "",
            "description_tooltip": null,
            "layout": "IPY_MODEL_86d1814e1f3742268a2b9436f7e0b5a0",
            "max": 1460,
            "min": 0,
            "orientation": "horizontal",
            "style": "IPY_MODEL_705ec8d13cf14180a11c8ce8cef8f0c2",
            "value": 1460
          }
        },
        "d5d07c1e355b4f88a01094ae16dba5de": {
          "model_module": "@jupyter-widgets/controls",
          "model_name": "HTMLModel",
          "model_module_version": "1.5.0",
          "state": {
            "_dom_classes": [],
            "_model_module": "@jupyter-widgets/controls",
            "_model_module_version": "1.5.0",
            "_model_name": "HTMLModel",
            "_view_count": null,
            "_view_module": "@jupyter-widgets/controls",
            "_view_module_version": "1.5.0",
            "_view_name": "HTMLView",
            "description": "",
            "description_tooltip": null,
            "layout": "IPY_MODEL_082e5d7a11924d8aaaaf0e2d864cd9ad",
            "placeholder": "​",
            "style": "IPY_MODEL_1ac524b1a4a249d5b7e1b05c468e091f",
            "value": " 1.46k/1.46k [00:00&lt;00:00, 97.4kB/s]"
          }
        },
        "adfbb0fafc8d4e0ea22bb9c098e09bd5": {
          "model_module": "@jupyter-widgets/base",
          "model_name": "LayoutModel",
          "model_module_version": "1.2.0",
          "state": {
            "_model_module": "@jupyter-widgets/base",
            "_model_module_version": "1.2.0",
            "_model_name": "LayoutModel",
            "_view_count": null,
            "_view_module": "@jupyter-widgets/base",
            "_view_module_version": "1.2.0",
            "_view_name": "LayoutView",
            "align_content": null,
            "align_items": null,
            "align_self": null,
            "border": null,
            "bottom": null,
            "display": null,
            "flex": null,
            "flex_flow": null,
            "grid_area": null,
            "grid_auto_columns": null,
            "grid_auto_flow": null,
            "grid_auto_rows": null,
            "grid_column": null,
            "grid_gap": null,
            "grid_row": null,
            "grid_template_areas": null,
            "grid_template_columns": null,
            "grid_template_rows": null,
            "height": null,
            "justify_content": null,
            "justify_items": null,
            "left": null,
            "margin": null,
            "max_height": null,
            "max_width": null,
            "min_height": null,
            "min_width": null,
            "object_fit": null,
            "object_position": null,
            "order": null,
            "overflow": null,
            "overflow_x": null,
            "overflow_y": null,
            "padding": null,
            "right": null,
            "top": null,
            "visibility": null,
            "width": null
          }
        },
        "eb23cf0e02bb49ed9195c7029f1d041b": {
          "model_module": "@jupyter-widgets/base",
          "model_name": "LayoutModel",
          "model_module_version": "1.2.0",
          "state": {
            "_model_module": "@jupyter-widgets/base",
            "_model_module_version": "1.2.0",
            "_model_name": "LayoutModel",
            "_view_count": null,
            "_view_module": "@jupyter-widgets/base",
            "_view_module_version": "1.2.0",
            "_view_name": "LayoutView",
            "align_content": null,
            "align_items": null,
            "align_self": null,
            "border": null,
            "bottom": null,
            "display": null,
            "flex": null,
            "flex_flow": null,
            "grid_area": null,
            "grid_auto_columns": null,
            "grid_auto_flow": null,
            "grid_auto_rows": null,
            "grid_column": null,
            "grid_gap": null,
            "grid_row": null,
            "grid_template_areas": null,
            "grid_template_columns": null,
            "grid_template_rows": null,
            "height": null,
            "justify_content": null,
            "justify_items": null,
            "left": null,
            "margin": null,
            "max_height": null,
            "max_width": null,
            "min_height": null,
            "min_width": null,
            "object_fit": null,
            "object_position": null,
            "order": null,
            "overflow": null,
            "overflow_x": null,
            "overflow_y": null,
            "padding": null,
            "right": null,
            "top": null,
            "visibility": null,
            "width": null
          }
        },
        "502eea51e18545158815b4e1b8fe50e5": {
          "model_module": "@jupyter-widgets/controls",
          "model_name": "DescriptionStyleModel",
          "model_module_version": "1.5.0",
          "state": {
            "_model_module": "@jupyter-widgets/controls",
            "_model_module_version": "1.5.0",
            "_model_name": "DescriptionStyleModel",
            "_view_count": null,
            "_view_module": "@jupyter-widgets/base",
            "_view_module_version": "1.2.0",
            "_view_name": "StyleView",
            "description_width": ""
          }
        },
        "86d1814e1f3742268a2b9436f7e0b5a0": {
          "model_module": "@jupyter-widgets/base",
          "model_name": "LayoutModel",
          "model_module_version": "1.2.0",
          "state": {
            "_model_module": "@jupyter-widgets/base",
            "_model_module_version": "1.2.0",
            "_model_name": "LayoutModel",
            "_view_count": null,
            "_view_module": "@jupyter-widgets/base",
            "_view_module_version": "1.2.0",
            "_view_name": "LayoutView",
            "align_content": null,
            "align_items": null,
            "align_self": null,
            "border": null,
            "bottom": null,
            "display": null,
            "flex": null,
            "flex_flow": null,
            "grid_area": null,
            "grid_auto_columns": null,
            "grid_auto_flow": null,
            "grid_auto_rows": null,
            "grid_column": null,
            "grid_gap": null,
            "grid_row": null,
            "grid_template_areas": null,
            "grid_template_columns": null,
            "grid_template_rows": null,
            "height": null,
            "justify_content": null,
            "justify_items": null,
            "left": null,
            "margin": null,
            "max_height": null,
            "max_width": null,
            "min_height": null,
            "min_width": null,
            "object_fit": null,
            "object_position": null,
            "order": null,
            "overflow": null,
            "overflow_x": null,
            "overflow_y": null,
            "padding": null,
            "right": null,
            "top": null,
            "visibility": null,
            "width": null
          }
        },
        "705ec8d13cf14180a11c8ce8cef8f0c2": {
          "model_module": "@jupyter-widgets/controls",
          "model_name": "ProgressStyleModel",
          "model_module_version": "1.5.0",
          "state": {
            "_model_module": "@jupyter-widgets/controls",
            "_model_module_version": "1.5.0",
            "_model_name": "ProgressStyleModel",
            "_view_count": null,
            "_view_module": "@jupyter-widgets/base",
            "_view_module_version": "1.2.0",
            "_view_name": "StyleView",
            "bar_color": null,
            "description_width": ""
          }
        },
        "082e5d7a11924d8aaaaf0e2d864cd9ad": {
          "model_module": "@jupyter-widgets/base",
          "model_name": "LayoutModel",
          "model_module_version": "1.2.0",
          "state": {
            "_model_module": "@jupyter-widgets/base",
            "_model_module_version": "1.2.0",
            "_model_name": "LayoutModel",
            "_view_count": null,
            "_view_module": "@jupyter-widgets/base",
            "_view_module_version": "1.2.0",
            "_view_name": "LayoutView",
            "align_content": null,
            "align_items": null,
            "align_self": null,
            "border": null,
            "bottom": null,
            "display": null,
            "flex": null,
            "flex_flow": null,
            "grid_area": null,
            "grid_auto_columns": null,
            "grid_auto_flow": null,
            "grid_auto_rows": null,
            "grid_column": null,
            "grid_gap": null,
            "grid_row": null,
            "grid_template_areas": null,
            "grid_template_columns": null,
            "grid_template_rows": null,
            "height": null,
            "justify_content": null,
            "justify_items": null,
            "left": null,
            "margin": null,
            "max_height": null,
            "max_width": null,
            "min_height": null,
            "min_width": null,
            "object_fit": null,
            "object_position": null,
            "order": null,
            "overflow": null,
            "overflow_x": null,
            "overflow_y": null,
            "padding": null,
            "right": null,
            "top": null,
            "visibility": null,
            "width": null
          }
        },
        "1ac524b1a4a249d5b7e1b05c468e091f": {
          "model_module": "@jupyter-widgets/controls",
          "model_name": "DescriptionStyleModel",
          "model_module_version": "1.5.0",
          "state": {
            "_model_module": "@jupyter-widgets/controls",
            "_model_module_version": "1.5.0",
            "_model_name": "DescriptionStyleModel",
            "_view_count": null,
            "_view_module": "@jupyter-widgets/base",
            "_view_module_version": "1.2.0",
            "_view_name": "StyleView",
            "description_width": ""
          }
        },
        "368205aa8c304925a360a5d344d2068c": {
          "model_module": "@jupyter-widgets/controls",
          "model_name": "HBoxModel",
          "model_module_version": "1.5.0",
          "state": {
            "_dom_classes": [],
            "_model_module": "@jupyter-widgets/controls",
            "_model_module_version": "1.5.0",
            "_model_name": "HBoxModel",
            "_view_count": null,
            "_view_module": "@jupyter-widgets/controls",
            "_view_module_version": "1.5.0",
            "_view_name": "HBoxView",
            "box_style": "",
            "children": [
              "IPY_MODEL_0a357b91bfe248f0bc1d1bfb9461588d",
              "IPY_MODEL_e28873f602464337a0e55722a6cdc07b",
              "IPY_MODEL_433c1d5584af4c2da1040fec30b69939"
            ],
            "layout": "IPY_MODEL_ffcf1e8e1c1c440eb34d0dbe1ac1c92e"
          }
        },
        "0a357b91bfe248f0bc1d1bfb9461588d": {
          "model_module": "@jupyter-widgets/controls",
          "model_name": "HTMLModel",
          "model_module_version": "1.5.0",
          "state": {
            "_dom_classes": [],
            "_model_module": "@jupyter-widgets/controls",
            "_model_module_version": "1.5.0",
            "_model_name": "HTMLModel",
            "_view_count": null,
            "_view_module": "@jupyter-widgets/controls",
            "_view_module_version": "1.5.0",
            "_view_name": "HTMLView",
            "description": "",
            "description_tooltip": null,
            "layout": "IPY_MODEL_0b7b97de36c84de3b13fc81e43a0e7c0",
            "placeholder": "​",
            "style": "IPY_MODEL_754914f2de474cfd9c941acab8580497",
            "value": "tokenizer.model: 100%"
          }
        },
        "e28873f602464337a0e55722a6cdc07b": {
          "model_module": "@jupyter-widgets/controls",
          "model_name": "FloatProgressModel",
          "model_module_version": "1.5.0",
          "state": {
            "_dom_classes": [],
            "_model_module": "@jupyter-widgets/controls",
            "_model_module_version": "1.5.0",
            "_model_name": "FloatProgressModel",
            "_view_count": null,
            "_view_module": "@jupyter-widgets/controls",
            "_view_module_version": "1.5.0",
            "_view_name": "ProgressView",
            "bar_style": "success",
            "description": "",
            "description_tooltip": null,
            "layout": "IPY_MODEL_a42c0adf4531490ab72cb38effe23261",
            "max": 493443,
            "min": 0,
            "orientation": "horizontal",
            "style": "IPY_MODEL_ca8be81a0d9741d0a031f55367c20265",
            "value": 493443
          }
        },
        "433c1d5584af4c2da1040fec30b69939": {
          "model_module": "@jupyter-widgets/controls",
          "model_name": "HTMLModel",
          "model_module_version": "1.5.0",
          "state": {
            "_dom_classes": [],
            "_model_module": "@jupyter-widgets/controls",
            "_model_module_version": "1.5.0",
            "_model_name": "HTMLModel",
            "_view_count": null,
            "_view_module": "@jupyter-widgets/controls",
            "_view_module_version": "1.5.0",
            "_view_name": "HTMLView",
            "description": "",
            "description_tooltip": null,
            "layout": "IPY_MODEL_5d08febe9c5a4b54bc18810650451a21",
            "placeholder": "​",
            "style": "IPY_MODEL_87595a58f9a644e9b5bba9783468e4bd",
            "value": " 493k/493k [00:00&lt;00:00, 7.66MB/s]"
          }
        },
        "ffcf1e8e1c1c440eb34d0dbe1ac1c92e": {
          "model_module": "@jupyter-widgets/base",
          "model_name": "LayoutModel",
          "model_module_version": "1.2.0",
          "state": {
            "_model_module": "@jupyter-widgets/base",
            "_model_module_version": "1.2.0",
            "_model_name": "LayoutModel",
            "_view_count": null,
            "_view_module": "@jupyter-widgets/base",
            "_view_module_version": "1.2.0",
            "_view_name": "LayoutView",
            "align_content": null,
            "align_items": null,
            "align_self": null,
            "border": null,
            "bottom": null,
            "display": null,
            "flex": null,
            "flex_flow": null,
            "grid_area": null,
            "grid_auto_columns": null,
            "grid_auto_flow": null,
            "grid_auto_rows": null,
            "grid_column": null,
            "grid_gap": null,
            "grid_row": null,
            "grid_template_areas": null,
            "grid_template_columns": null,
            "grid_template_rows": null,
            "height": null,
            "justify_content": null,
            "justify_items": null,
            "left": null,
            "margin": null,
            "max_height": null,
            "max_width": null,
            "min_height": null,
            "min_width": null,
            "object_fit": null,
            "object_position": null,
            "order": null,
            "overflow": null,
            "overflow_x": null,
            "overflow_y": null,
            "padding": null,
            "right": null,
            "top": null,
            "visibility": null,
            "width": null
          }
        },
        "0b7b97de36c84de3b13fc81e43a0e7c0": {
          "model_module": "@jupyter-widgets/base",
          "model_name": "LayoutModel",
          "model_module_version": "1.2.0",
          "state": {
            "_model_module": "@jupyter-widgets/base",
            "_model_module_version": "1.2.0",
            "_model_name": "LayoutModel",
            "_view_count": null,
            "_view_module": "@jupyter-widgets/base",
            "_view_module_version": "1.2.0",
            "_view_name": "LayoutView",
            "align_content": null,
            "align_items": null,
            "align_self": null,
            "border": null,
            "bottom": null,
            "display": null,
            "flex": null,
            "flex_flow": null,
            "grid_area": null,
            "grid_auto_columns": null,
            "grid_auto_flow": null,
            "grid_auto_rows": null,
            "grid_column": null,
            "grid_gap": null,
            "grid_row": null,
            "grid_template_areas": null,
            "grid_template_columns": null,
            "grid_template_rows": null,
            "height": null,
            "justify_content": null,
            "justify_items": null,
            "left": null,
            "margin": null,
            "max_height": null,
            "max_width": null,
            "min_height": null,
            "min_width": null,
            "object_fit": null,
            "object_position": null,
            "order": null,
            "overflow": null,
            "overflow_x": null,
            "overflow_y": null,
            "padding": null,
            "right": null,
            "top": null,
            "visibility": null,
            "width": null
          }
        },
        "754914f2de474cfd9c941acab8580497": {
          "model_module": "@jupyter-widgets/controls",
          "model_name": "DescriptionStyleModel",
          "model_module_version": "1.5.0",
          "state": {
            "_model_module": "@jupyter-widgets/controls",
            "_model_module_version": "1.5.0",
            "_model_name": "DescriptionStyleModel",
            "_view_count": null,
            "_view_module": "@jupyter-widgets/base",
            "_view_module_version": "1.2.0",
            "_view_name": "StyleView",
            "description_width": ""
          }
        },
        "a42c0adf4531490ab72cb38effe23261": {
          "model_module": "@jupyter-widgets/base",
          "model_name": "LayoutModel",
          "model_module_version": "1.2.0",
          "state": {
            "_model_module": "@jupyter-widgets/base",
            "_model_module_version": "1.2.0",
            "_model_name": "LayoutModel",
            "_view_count": null,
            "_view_module": "@jupyter-widgets/base",
            "_view_module_version": "1.2.0",
            "_view_name": "LayoutView",
            "align_content": null,
            "align_items": null,
            "align_self": null,
            "border": null,
            "bottom": null,
            "display": null,
            "flex": null,
            "flex_flow": null,
            "grid_area": null,
            "grid_auto_columns": null,
            "grid_auto_flow": null,
            "grid_auto_rows": null,
            "grid_column": null,
            "grid_gap": null,
            "grid_row": null,
            "grid_template_areas": null,
            "grid_template_columns": null,
            "grid_template_rows": null,
            "height": null,
            "justify_content": null,
            "justify_items": null,
            "left": null,
            "margin": null,
            "max_height": null,
            "max_width": null,
            "min_height": null,
            "min_width": null,
            "object_fit": null,
            "object_position": null,
            "order": null,
            "overflow": null,
            "overflow_x": null,
            "overflow_y": null,
            "padding": null,
            "right": null,
            "top": null,
            "visibility": null,
            "width": null
          }
        },
        "ca8be81a0d9741d0a031f55367c20265": {
          "model_module": "@jupyter-widgets/controls",
          "model_name": "ProgressStyleModel",
          "model_module_version": "1.5.0",
          "state": {
            "_model_module": "@jupyter-widgets/controls",
            "_model_module_version": "1.5.0",
            "_model_name": "ProgressStyleModel",
            "_view_count": null,
            "_view_module": "@jupyter-widgets/base",
            "_view_module_version": "1.2.0",
            "_view_name": "StyleView",
            "bar_color": null,
            "description_width": ""
          }
        },
        "5d08febe9c5a4b54bc18810650451a21": {
          "model_module": "@jupyter-widgets/base",
          "model_name": "LayoutModel",
          "model_module_version": "1.2.0",
          "state": {
            "_model_module": "@jupyter-widgets/base",
            "_model_module_version": "1.2.0",
            "_model_name": "LayoutModel",
            "_view_count": null,
            "_view_module": "@jupyter-widgets/base",
            "_view_module_version": "1.2.0",
            "_view_name": "LayoutView",
            "align_content": null,
            "align_items": null,
            "align_self": null,
            "border": null,
            "bottom": null,
            "display": null,
            "flex": null,
            "flex_flow": null,
            "grid_area": null,
            "grid_auto_columns": null,
            "grid_auto_flow": null,
            "grid_auto_rows": null,
            "grid_column": null,
            "grid_gap": null,
            "grid_row": null,
            "grid_template_areas": null,
            "grid_template_columns": null,
            "grid_template_rows": null,
            "height": null,
            "justify_content": null,
            "justify_items": null,
            "left": null,
            "margin": null,
            "max_height": null,
            "max_width": null,
            "min_height": null,
            "min_width": null,
            "object_fit": null,
            "object_position": null,
            "order": null,
            "overflow": null,
            "overflow_x": null,
            "overflow_y": null,
            "padding": null,
            "right": null,
            "top": null,
            "visibility": null,
            "width": null
          }
        },
        "87595a58f9a644e9b5bba9783468e4bd": {
          "model_module": "@jupyter-widgets/controls",
          "model_name": "DescriptionStyleModel",
          "model_module_version": "1.5.0",
          "state": {
            "_model_module": "@jupyter-widgets/controls",
            "_model_module_version": "1.5.0",
            "_model_name": "DescriptionStyleModel",
            "_view_count": null,
            "_view_module": "@jupyter-widgets/base",
            "_view_module_version": "1.2.0",
            "_view_name": "StyleView",
            "description_width": ""
          }
        },
        "aa31714572414251ba2f6906b99c2582": {
          "model_module": "@jupyter-widgets/controls",
          "model_name": "HBoxModel",
          "model_module_version": "1.5.0",
          "state": {
            "_dom_classes": [],
            "_model_module": "@jupyter-widgets/controls",
            "_model_module_version": "1.5.0",
            "_model_name": "HBoxModel",
            "_view_count": null,
            "_view_module": "@jupyter-widgets/controls",
            "_view_module_version": "1.5.0",
            "_view_name": "HBoxView",
            "box_style": "",
            "children": [
              "IPY_MODEL_fb3bd5fd188a4b67aa0f543e9ccb837b",
              "IPY_MODEL_17c217666d6746d69551b8403d5449d4",
              "IPY_MODEL_3cd615b0f4f0416c9488c2c532d70c10"
            ],
            "layout": "IPY_MODEL_6837d05b209841aab8c486c6222920c4"
          }
        },
        "fb3bd5fd188a4b67aa0f543e9ccb837b": {
          "model_module": "@jupyter-widgets/controls",
          "model_name": "HTMLModel",
          "model_module_version": "1.5.0",
          "state": {
            "_dom_classes": [],
            "_model_module": "@jupyter-widgets/controls",
            "_model_module_version": "1.5.0",
            "_model_name": "HTMLModel",
            "_view_count": null,
            "_view_module": "@jupyter-widgets/controls",
            "_view_module_version": "1.5.0",
            "_view_name": "HTMLView",
            "description": "",
            "description_tooltip": null,
            "layout": "IPY_MODEL_02f355878a1b449c99012dc644c4344b",
            "placeholder": "​",
            "style": "IPY_MODEL_a0191f8c3e4949509668c89794e3acdf",
            "value": "tokenizer.json: 100%"
          }
        },
        "17c217666d6746d69551b8403d5449d4": {
          "model_module": "@jupyter-widgets/controls",
          "model_name": "FloatProgressModel",
          "model_module_version": "1.5.0",
          "state": {
            "_dom_classes": [],
            "_model_module": "@jupyter-widgets/controls",
            "_model_module_version": "1.5.0",
            "_model_name": "FloatProgressModel",
            "_view_count": null,
            "_view_module": "@jupyter-widgets/controls",
            "_view_module_version": "1.5.0",
            "_view_name": "ProgressView",
            "bar_style": "success",
            "description": "",
            "description_tooltip": null,
            "layout": "IPY_MODEL_11a15a72873641e1ae69e31dc8991827",
            "max": 1795303,
            "min": 0,
            "orientation": "horizontal",
            "style": "IPY_MODEL_44049c6b04de4433b5aa29c0136b3f0b",
            "value": 1795303
          }
        },
        "3cd615b0f4f0416c9488c2c532d70c10": {
          "model_module": "@jupyter-widgets/controls",
          "model_name": "HTMLModel",
          "model_module_version": "1.5.0",
          "state": {
            "_dom_classes": [],
            "_model_module": "@jupyter-widgets/controls",
            "_model_module_version": "1.5.0",
            "_model_name": "HTMLModel",
            "_view_count": null,
            "_view_module": "@jupyter-widgets/controls",
            "_view_module_version": "1.5.0",
            "_view_name": "HTMLView",
            "description": "",
            "description_tooltip": null,
            "layout": "IPY_MODEL_d7559d934c9344af82b25b0bdec12bbe",
            "placeholder": "​",
            "style": "IPY_MODEL_86c6c0ea74b843cbb52ffc7a1d96cb2c",
            "value": " 1.80M/1.80M [00:00&lt;00:00, 20.4MB/s]"
          }
        },
        "6837d05b209841aab8c486c6222920c4": {
          "model_module": "@jupyter-widgets/base",
          "model_name": "LayoutModel",
          "model_module_version": "1.2.0",
          "state": {
            "_model_module": "@jupyter-widgets/base",
            "_model_module_version": "1.2.0",
            "_model_name": "LayoutModel",
            "_view_count": null,
            "_view_module": "@jupyter-widgets/base",
            "_view_module_version": "1.2.0",
            "_view_name": "LayoutView",
            "align_content": null,
            "align_items": null,
            "align_self": null,
            "border": null,
            "bottom": null,
            "display": null,
            "flex": null,
            "flex_flow": null,
            "grid_area": null,
            "grid_auto_columns": null,
            "grid_auto_flow": null,
            "grid_auto_rows": null,
            "grid_column": null,
            "grid_gap": null,
            "grid_row": null,
            "grid_template_areas": null,
            "grid_template_columns": null,
            "grid_template_rows": null,
            "height": null,
            "justify_content": null,
            "justify_items": null,
            "left": null,
            "margin": null,
            "max_height": null,
            "max_width": null,
            "min_height": null,
            "min_width": null,
            "object_fit": null,
            "object_position": null,
            "order": null,
            "overflow": null,
            "overflow_x": null,
            "overflow_y": null,
            "padding": null,
            "right": null,
            "top": null,
            "visibility": null,
            "width": null
          }
        },
        "02f355878a1b449c99012dc644c4344b": {
          "model_module": "@jupyter-widgets/base",
          "model_name": "LayoutModel",
          "model_module_version": "1.2.0",
          "state": {
            "_model_module": "@jupyter-widgets/base",
            "_model_module_version": "1.2.0",
            "_model_name": "LayoutModel",
            "_view_count": null,
            "_view_module": "@jupyter-widgets/base",
            "_view_module_version": "1.2.0",
            "_view_name": "LayoutView",
            "align_content": null,
            "align_items": null,
            "align_self": null,
            "border": null,
            "bottom": null,
            "display": null,
            "flex": null,
            "flex_flow": null,
            "grid_area": null,
            "grid_auto_columns": null,
            "grid_auto_flow": null,
            "grid_auto_rows": null,
            "grid_column": null,
            "grid_gap": null,
            "grid_row": null,
            "grid_template_areas": null,
            "grid_template_columns": null,
            "grid_template_rows": null,
            "height": null,
            "justify_content": null,
            "justify_items": null,
            "left": null,
            "margin": null,
            "max_height": null,
            "max_width": null,
            "min_height": null,
            "min_width": null,
            "object_fit": null,
            "object_position": null,
            "order": null,
            "overflow": null,
            "overflow_x": null,
            "overflow_y": null,
            "padding": null,
            "right": null,
            "top": null,
            "visibility": null,
            "width": null
          }
        },
        "a0191f8c3e4949509668c89794e3acdf": {
          "model_module": "@jupyter-widgets/controls",
          "model_name": "DescriptionStyleModel",
          "model_module_version": "1.5.0",
          "state": {
            "_model_module": "@jupyter-widgets/controls",
            "_model_module_version": "1.5.0",
            "_model_name": "DescriptionStyleModel",
            "_view_count": null,
            "_view_module": "@jupyter-widgets/base",
            "_view_module_version": "1.2.0",
            "_view_name": "StyleView",
            "description_width": ""
          }
        },
        "11a15a72873641e1ae69e31dc8991827": {
          "model_module": "@jupyter-widgets/base",
          "model_name": "LayoutModel",
          "model_module_version": "1.2.0",
          "state": {
            "_model_module": "@jupyter-widgets/base",
            "_model_module_version": "1.2.0",
            "_model_name": "LayoutModel",
            "_view_count": null,
            "_view_module": "@jupyter-widgets/base",
            "_view_module_version": "1.2.0",
            "_view_name": "LayoutView",
            "align_content": null,
            "align_items": null,
            "align_self": null,
            "border": null,
            "bottom": null,
            "display": null,
            "flex": null,
            "flex_flow": null,
            "grid_area": null,
            "grid_auto_columns": null,
            "grid_auto_flow": null,
            "grid_auto_rows": null,
            "grid_column": null,
            "grid_gap": null,
            "grid_row": null,
            "grid_template_areas": null,
            "grid_template_columns": null,
            "grid_template_rows": null,
            "height": null,
            "justify_content": null,
            "justify_items": null,
            "left": null,
            "margin": null,
            "max_height": null,
            "max_width": null,
            "min_height": null,
            "min_width": null,
            "object_fit": null,
            "object_position": null,
            "order": null,
            "overflow": null,
            "overflow_x": null,
            "overflow_y": null,
            "padding": null,
            "right": null,
            "top": null,
            "visibility": null,
            "width": null
          }
        },
        "44049c6b04de4433b5aa29c0136b3f0b": {
          "model_module": "@jupyter-widgets/controls",
          "model_name": "ProgressStyleModel",
          "model_module_version": "1.5.0",
          "state": {
            "_model_module": "@jupyter-widgets/controls",
            "_model_module_version": "1.5.0",
            "_model_name": "ProgressStyleModel",
            "_view_count": null,
            "_view_module": "@jupyter-widgets/base",
            "_view_module_version": "1.2.0",
            "_view_name": "StyleView",
            "bar_color": null,
            "description_width": ""
          }
        },
        "d7559d934c9344af82b25b0bdec12bbe": {
          "model_module": "@jupyter-widgets/base",
          "model_name": "LayoutModel",
          "model_module_version": "1.2.0",
          "state": {
            "_model_module": "@jupyter-widgets/base",
            "_model_module_version": "1.2.0",
            "_model_name": "LayoutModel",
            "_view_count": null,
            "_view_module": "@jupyter-widgets/base",
            "_view_module_version": "1.2.0",
            "_view_name": "LayoutView",
            "align_content": null,
            "align_items": null,
            "align_self": null,
            "border": null,
            "bottom": null,
            "display": null,
            "flex": null,
            "flex_flow": null,
            "grid_area": null,
            "grid_auto_columns": null,
            "grid_auto_flow": null,
            "grid_auto_rows": null,
            "grid_column": null,
            "grid_gap": null,
            "grid_row": null,
            "grid_template_areas": null,
            "grid_template_columns": null,
            "grid_template_rows": null,
            "height": null,
            "justify_content": null,
            "justify_items": null,
            "left": null,
            "margin": null,
            "max_height": null,
            "max_width": null,
            "min_height": null,
            "min_width": null,
            "object_fit": null,
            "object_position": null,
            "order": null,
            "overflow": null,
            "overflow_x": null,
            "overflow_y": null,
            "padding": null,
            "right": null,
            "top": null,
            "visibility": null,
            "width": null
          }
        },
        "86c6c0ea74b843cbb52ffc7a1d96cb2c": {
          "model_module": "@jupyter-widgets/controls",
          "model_name": "DescriptionStyleModel",
          "model_module_version": "1.5.0",
          "state": {
            "_model_module": "@jupyter-widgets/controls",
            "_model_module_version": "1.5.0",
            "_model_name": "DescriptionStyleModel",
            "_view_count": null,
            "_view_module": "@jupyter-widgets/base",
            "_view_module_version": "1.2.0",
            "_view_name": "StyleView",
            "description_width": ""
          }
        },
        "42cafeb9dac346e2842c51c80a4e6f04": {
          "model_module": "@jupyter-widgets/controls",
          "model_name": "HBoxModel",
          "model_module_version": "1.5.0",
          "state": {
            "_dom_classes": [],
            "_model_module": "@jupyter-widgets/controls",
            "_model_module_version": "1.5.0",
            "_model_name": "HBoxModel",
            "_view_count": null,
            "_view_module": "@jupyter-widgets/controls",
            "_view_module_version": "1.5.0",
            "_view_name": "HBoxView",
            "box_style": "",
            "children": [
              "IPY_MODEL_168e20bb438240fabefd80ead347382d",
              "IPY_MODEL_7ea9916e19a9445b8bee2458675bfe99",
              "IPY_MODEL_52753c336af14eb39de26e347c7380a7"
            ],
            "layout": "IPY_MODEL_a1ded9dc89d24f24be265a2c121fbc6f"
          }
        },
        "168e20bb438240fabefd80ead347382d": {
          "model_module": "@jupyter-widgets/controls",
          "model_name": "HTMLModel",
          "model_module_version": "1.5.0",
          "state": {
            "_dom_classes": [],
            "_model_module": "@jupyter-widgets/controls",
            "_model_module_version": "1.5.0",
            "_model_name": "HTMLModel",
            "_view_count": null,
            "_view_module": "@jupyter-widgets/controls",
            "_view_module_version": "1.5.0",
            "_view_name": "HTMLView",
            "description": "",
            "description_tooltip": null,
            "layout": "IPY_MODEL_9d88d3a6158143a58cc6c42dd6ffe144",
            "placeholder": "​",
            "style": "IPY_MODEL_aa066939422e408587d74cbbf85d1a9b",
            "value": "special_tokens_map.json: 100%"
          }
        },
        "7ea9916e19a9445b8bee2458675bfe99": {
          "model_module": "@jupyter-widgets/controls",
          "model_name": "FloatProgressModel",
          "model_module_version": "1.5.0",
          "state": {
            "_dom_classes": [],
            "_model_module": "@jupyter-widgets/controls",
            "_model_module_version": "1.5.0",
            "_model_name": "FloatProgressModel",
            "_view_count": null,
            "_view_module": "@jupyter-widgets/controls",
            "_view_module_version": "1.5.0",
            "_view_name": "ProgressView",
            "bar_style": "success",
            "description": "",
            "description_tooltip": null,
            "layout": "IPY_MODEL_cd12f5478f5b49a8997c01570dc6a04e",
            "max": 72,
            "min": 0,
            "orientation": "horizontal",
            "style": "IPY_MODEL_a84d108e3a45431a81eb3480c7365ac3",
            "value": 72
          }
        },
        "52753c336af14eb39de26e347c7380a7": {
          "model_module": "@jupyter-widgets/controls",
          "model_name": "HTMLModel",
          "model_module_version": "1.5.0",
          "state": {
            "_dom_classes": [],
            "_model_module": "@jupyter-widgets/controls",
            "_model_module_version": "1.5.0",
            "_model_name": "HTMLModel",
            "_view_count": null,
            "_view_module": "@jupyter-widgets/controls",
            "_view_module_version": "1.5.0",
            "_view_name": "HTMLView",
            "description": "",
            "description_tooltip": null,
            "layout": "IPY_MODEL_fe4060a043d5420197fbc848a4c10e0f",
            "placeholder": "​",
            "style": "IPY_MODEL_be134d576c6e492fbb4f4219a47a333e",
            "value": " 72.0/72.0 [00:00&lt;00:00, 4.79kB/s]"
          }
        },
        "a1ded9dc89d24f24be265a2c121fbc6f": {
          "model_module": "@jupyter-widgets/base",
          "model_name": "LayoutModel",
          "model_module_version": "1.2.0",
          "state": {
            "_model_module": "@jupyter-widgets/base",
            "_model_module_version": "1.2.0",
            "_model_name": "LayoutModel",
            "_view_count": null,
            "_view_module": "@jupyter-widgets/base",
            "_view_module_version": "1.2.0",
            "_view_name": "LayoutView",
            "align_content": null,
            "align_items": null,
            "align_self": null,
            "border": null,
            "bottom": null,
            "display": null,
            "flex": null,
            "flex_flow": null,
            "grid_area": null,
            "grid_auto_columns": null,
            "grid_auto_flow": null,
            "grid_auto_rows": null,
            "grid_column": null,
            "grid_gap": null,
            "grid_row": null,
            "grid_template_areas": null,
            "grid_template_columns": null,
            "grid_template_rows": null,
            "height": null,
            "justify_content": null,
            "justify_items": null,
            "left": null,
            "margin": null,
            "max_height": null,
            "max_width": null,
            "min_height": null,
            "min_width": null,
            "object_fit": null,
            "object_position": null,
            "order": null,
            "overflow": null,
            "overflow_x": null,
            "overflow_y": null,
            "padding": null,
            "right": null,
            "top": null,
            "visibility": null,
            "width": null
          }
        },
        "9d88d3a6158143a58cc6c42dd6ffe144": {
          "model_module": "@jupyter-widgets/base",
          "model_name": "LayoutModel",
          "model_module_version": "1.2.0",
          "state": {
            "_model_module": "@jupyter-widgets/base",
            "_model_module_version": "1.2.0",
            "_model_name": "LayoutModel",
            "_view_count": null,
            "_view_module": "@jupyter-widgets/base",
            "_view_module_version": "1.2.0",
            "_view_name": "LayoutView",
            "align_content": null,
            "align_items": null,
            "align_self": null,
            "border": null,
            "bottom": null,
            "display": null,
            "flex": null,
            "flex_flow": null,
            "grid_area": null,
            "grid_auto_columns": null,
            "grid_auto_flow": null,
            "grid_auto_rows": null,
            "grid_column": null,
            "grid_gap": null,
            "grid_row": null,
            "grid_template_areas": null,
            "grid_template_columns": null,
            "grid_template_rows": null,
            "height": null,
            "justify_content": null,
            "justify_items": null,
            "left": null,
            "margin": null,
            "max_height": null,
            "max_width": null,
            "min_height": null,
            "min_width": null,
            "object_fit": null,
            "object_position": null,
            "order": null,
            "overflow": null,
            "overflow_x": null,
            "overflow_y": null,
            "padding": null,
            "right": null,
            "top": null,
            "visibility": null,
            "width": null
          }
        },
        "aa066939422e408587d74cbbf85d1a9b": {
          "model_module": "@jupyter-widgets/controls",
          "model_name": "DescriptionStyleModel",
          "model_module_version": "1.5.0",
          "state": {
            "_model_module": "@jupyter-widgets/controls",
            "_model_module_version": "1.5.0",
            "_model_name": "DescriptionStyleModel",
            "_view_count": null,
            "_view_module": "@jupyter-widgets/base",
            "_view_module_version": "1.2.0",
            "_view_name": "StyleView",
            "description_width": ""
          }
        },
        "cd12f5478f5b49a8997c01570dc6a04e": {
          "model_module": "@jupyter-widgets/base",
          "model_name": "LayoutModel",
          "model_module_version": "1.2.0",
          "state": {
            "_model_module": "@jupyter-widgets/base",
            "_model_module_version": "1.2.0",
            "_model_name": "LayoutModel",
            "_view_count": null,
            "_view_module": "@jupyter-widgets/base",
            "_view_module_version": "1.2.0",
            "_view_name": "LayoutView",
            "align_content": null,
            "align_items": null,
            "align_self": null,
            "border": null,
            "bottom": null,
            "display": null,
            "flex": null,
            "flex_flow": null,
            "grid_area": null,
            "grid_auto_columns": null,
            "grid_auto_flow": null,
            "grid_auto_rows": null,
            "grid_column": null,
            "grid_gap": null,
            "grid_row": null,
            "grid_template_areas": null,
            "grid_template_columns": null,
            "grid_template_rows": null,
            "height": null,
            "justify_content": null,
            "justify_items": null,
            "left": null,
            "margin": null,
            "max_height": null,
            "max_width": null,
            "min_height": null,
            "min_width": null,
            "object_fit": null,
            "object_position": null,
            "order": null,
            "overflow": null,
            "overflow_x": null,
            "overflow_y": null,
            "padding": null,
            "right": null,
            "top": null,
            "visibility": null,
            "width": null
          }
        },
        "a84d108e3a45431a81eb3480c7365ac3": {
          "model_module": "@jupyter-widgets/controls",
          "model_name": "ProgressStyleModel",
          "model_module_version": "1.5.0",
          "state": {
            "_model_module": "@jupyter-widgets/controls",
            "_model_module_version": "1.5.0",
            "_model_name": "ProgressStyleModel",
            "_view_count": null,
            "_view_module": "@jupyter-widgets/base",
            "_view_module_version": "1.2.0",
            "_view_name": "StyleView",
            "bar_color": null,
            "description_width": ""
          }
        },
        "fe4060a043d5420197fbc848a4c10e0f": {
          "model_module": "@jupyter-widgets/base",
          "model_name": "LayoutModel",
          "model_module_version": "1.2.0",
          "state": {
            "_model_module": "@jupyter-widgets/base",
            "_model_module_version": "1.2.0",
            "_model_name": "LayoutModel",
            "_view_count": null,
            "_view_module": "@jupyter-widgets/base",
            "_view_module_version": "1.2.0",
            "_view_name": "LayoutView",
            "align_content": null,
            "align_items": null,
            "align_self": null,
            "border": null,
            "bottom": null,
            "display": null,
            "flex": null,
            "flex_flow": null,
            "grid_area": null,
            "grid_auto_columns": null,
            "grid_auto_flow": null,
            "grid_auto_rows": null,
            "grid_column": null,
            "grid_gap": null,
            "grid_row": null,
            "grid_template_areas": null,
            "grid_template_columns": null,
            "grid_template_rows": null,
            "height": null,
            "justify_content": null,
            "justify_items": null,
            "left": null,
            "margin": null,
            "max_height": null,
            "max_width": null,
            "min_height": null,
            "min_width": null,
            "object_fit": null,
            "object_position": null,
            "order": null,
            "overflow": null,
            "overflow_x": null,
            "overflow_y": null,
            "padding": null,
            "right": null,
            "top": null,
            "visibility": null,
            "width": null
          }
        },
        "be134d576c6e492fbb4f4219a47a333e": {
          "model_module": "@jupyter-widgets/controls",
          "model_name": "DescriptionStyleModel",
          "model_module_version": "1.5.0",
          "state": {
            "_model_module": "@jupyter-widgets/controls",
            "_model_module_version": "1.5.0",
            "_model_name": "DescriptionStyleModel",
            "_view_count": null,
            "_view_module": "@jupyter-widgets/base",
            "_view_module_version": "1.2.0",
            "_view_name": "StyleView",
            "description_width": ""
          }
        }
      }
    }
  },
  "nbformat": 4,
  "nbformat_minor": 0
}